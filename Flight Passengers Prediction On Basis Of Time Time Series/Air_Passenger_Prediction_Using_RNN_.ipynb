{
  "nbformat": 4,
  "nbformat_minor": 0,
  "metadata": {
    "colab": {
      "name": "Air Passenger Prediction Using RNN  .ipynb",
      "provenance": [],
      "authorship_tag": "ABX9TyOwg/vHZZpvNcuYIV6ZCuh+",
      "include_colab_link": true
    },
    "kernelspec": {
      "name": "python3",
      "display_name": "Python 3"
    },
    "accelerator": "GPU"
  },
  "cells": [
    {
      "cell_type": "markdown",
      "metadata": {
        "id": "view-in-github",
        "colab_type": "text"
      },
      "source": [
        "<a href=\"https://colab.research.google.com/github/roshanappa/Anomaly-Detection-Techniques-/blob/master/Flight%20Passengers%20Prediction%20On%20Basis%20Of%20Time%20Time%20Series/Air_Passenger_Prediction_Using_RNN_.ipynb\" target=\"_parent\"><img src=\"https://colab.research.google.com/assets/colab-badge.svg\" alt=\"Open In Colab\"/></a>"
      ]
    },
    {
      "cell_type": "markdown",
      "metadata": {
        "id": "FLroFp71mfEX"
      },
      "source": [
        "Dataset :- https://www.kaggle.com/chirag19/air-passengers\n",
        "\n",
        "In this problem we are going predict the passenger monthly.It is containing the passnger count monthwise from 1949 to 1960.\n"
      ]
    },
    {
      "cell_type": "markdown",
      "metadata": {
        "id": "HhpYPyS7nQ5_"
      },
      "source": [
        "## Importing Necessary Library."
      ]
    },
    {
      "cell_type": "code",
      "metadata": {
        "id": "S9BZipZrmDmD"
      },
      "source": [
        "import numpy as np\n",
        "import pandas as pd\n",
        "import matplotlib.pyplot as plt\n",
        "import seaborn as sns\n",
        "\n",
        "import warnings\n",
        "warnings.filterwarnings('ignore')"
      ],
      "execution_count": 165,
      "outputs": []
    },
    {
      "cell_type": "code",
      "metadata": {
        "id": "wqYR_vhnmDxW"
      },
      "source": [
        "import tensorflow \n",
        "from tensorflow.keras import Sequential\n",
        "from tensorflow.keras.layers import Dense,LSTM,Dropout\n",
        "from sklearn.metrics import mean_squared_error\n",
        "from sklearn.preprocessing import MinMaxScaler"
      ],
      "execution_count": 166,
      "outputs": []
    },
    {
      "cell_type": "code",
      "metadata": {
        "id": "4Vy6AJ-qmD8k"
      },
      "source": [
        "data = pd.read_csv('AirPassengers.csv',parse_dates=[0])"
      ],
      "execution_count": 167,
      "outputs": []
    },
    {
      "cell_type": "code",
      "metadata": {
        "id": "U7TNoyl2mEHF",
        "outputId": "44c0737e-aa33-4aaf-a7d7-2e17c67e14c1",
        "colab": {
          "base_uri": "https://localhost:8080/",
          "height": 204
        }
      },
      "source": [
        "data.head()"
      ],
      "execution_count": 168,
      "outputs": [
        {
          "output_type": "execute_result",
          "data": {
            "text/html": [
              "<div>\n",
              "<style scoped>\n",
              "    .dataframe tbody tr th:only-of-type {\n",
              "        vertical-align: middle;\n",
              "    }\n",
              "\n",
              "    .dataframe tbody tr th {\n",
              "        vertical-align: top;\n",
              "    }\n",
              "\n",
              "    .dataframe thead th {\n",
              "        text-align: right;\n",
              "    }\n",
              "</style>\n",
              "<table border=\"1\" class=\"dataframe\">\n",
              "  <thead>\n",
              "    <tr style=\"text-align: right;\">\n",
              "      <th></th>\n",
              "      <th>Month</th>\n",
              "      <th>#Passengers</th>\n",
              "    </tr>\n",
              "  </thead>\n",
              "  <tbody>\n",
              "    <tr>\n",
              "      <th>0</th>\n",
              "      <td>1949-01-01</td>\n",
              "      <td>112</td>\n",
              "    </tr>\n",
              "    <tr>\n",
              "      <th>1</th>\n",
              "      <td>1949-02-01</td>\n",
              "      <td>118</td>\n",
              "    </tr>\n",
              "    <tr>\n",
              "      <th>2</th>\n",
              "      <td>1949-03-01</td>\n",
              "      <td>132</td>\n",
              "    </tr>\n",
              "    <tr>\n",
              "      <th>3</th>\n",
              "      <td>1949-04-01</td>\n",
              "      <td>129</td>\n",
              "    </tr>\n",
              "    <tr>\n",
              "      <th>4</th>\n",
              "      <td>1949-05-01</td>\n",
              "      <td>121</td>\n",
              "    </tr>\n",
              "  </tbody>\n",
              "</table>\n",
              "</div>"
            ],
            "text/plain": [
              "       Month  #Passengers\n",
              "0 1949-01-01          112\n",
              "1 1949-02-01          118\n",
              "2 1949-03-01          132\n",
              "3 1949-04-01          129\n",
              "4 1949-05-01          121"
            ]
          },
          "metadata": {
            "tags": []
          },
          "execution_count": 168
        }
      ]
    },
    {
      "cell_type": "code",
      "metadata": {
        "id": "_dVwHhus3HIy",
        "outputId": "756051df-fb70-4a52-8879-d51d7f6ab433",
        "colab": {
          "base_uri": "https://localhost:8080/",
          "height": 204
        }
      },
      "source": [
        "data.tail()"
      ],
      "execution_count": 170,
      "outputs": [
        {
          "output_type": "execute_result",
          "data": {
            "text/html": [
              "<div>\n",
              "<style scoped>\n",
              "    .dataframe tbody tr th:only-of-type {\n",
              "        vertical-align: middle;\n",
              "    }\n",
              "\n",
              "    .dataframe tbody tr th {\n",
              "        vertical-align: top;\n",
              "    }\n",
              "\n",
              "    .dataframe thead th {\n",
              "        text-align: right;\n",
              "    }\n",
              "</style>\n",
              "<table border=\"1\" class=\"dataframe\">\n",
              "  <thead>\n",
              "    <tr style=\"text-align: right;\">\n",
              "      <th></th>\n",
              "      <th>Month</th>\n",
              "      <th>#Passengers</th>\n",
              "    </tr>\n",
              "  </thead>\n",
              "  <tbody>\n",
              "    <tr>\n",
              "      <th>139</th>\n",
              "      <td>1960-08-01</td>\n",
              "      <td>606</td>\n",
              "    </tr>\n",
              "    <tr>\n",
              "      <th>140</th>\n",
              "      <td>1960-09-01</td>\n",
              "      <td>508</td>\n",
              "    </tr>\n",
              "    <tr>\n",
              "      <th>141</th>\n",
              "      <td>1960-10-01</td>\n",
              "      <td>461</td>\n",
              "    </tr>\n",
              "    <tr>\n",
              "      <th>142</th>\n",
              "      <td>1960-11-01</td>\n",
              "      <td>390</td>\n",
              "    </tr>\n",
              "    <tr>\n",
              "      <th>143</th>\n",
              "      <td>1960-12-01</td>\n",
              "      <td>432</td>\n",
              "    </tr>\n",
              "  </tbody>\n",
              "</table>\n",
              "</div>"
            ],
            "text/plain": [
              "         Month  #Passengers\n",
              "139 1960-08-01          606\n",
              "140 1960-09-01          508\n",
              "141 1960-10-01          461\n",
              "142 1960-11-01          390\n",
              "143 1960-12-01          432"
            ]
          },
          "metadata": {
            "tags": []
          },
          "execution_count": 170
        }
      ]
    },
    {
      "cell_type": "code",
      "metadata": {
        "id": "5PKaS0DmmEYS",
        "outputId": "6499fc88-9a96-432e-fd88-9dc460de2999",
        "colab": {
          "base_uri": "https://localhost:8080/"
        }
      },
      "source": [
        "data.dtypes"
      ],
      "execution_count": 171,
      "outputs": [
        {
          "output_type": "execute_result",
          "data": {
            "text/plain": [
              "Month          datetime64[ns]\n",
              "#Passengers             int64\n",
              "dtype: object"
            ]
          },
          "metadata": {
            "tags": []
          },
          "execution_count": 171
        }
      ]
    },
    {
      "cell_type": "code",
      "metadata": {
        "id": "R7hv2-YwmElc",
        "outputId": "2bb89d53-1b2e-479e-8561-4f05a0c30394",
        "colab": {
          "base_uri": "https://localhost:8080/",
          "height": 235
        }
      },
      "source": [
        "dataPassenger =data.set_index('Month',drop=True)\n",
        "dataPassenger.head()"
      ],
      "execution_count": 172,
      "outputs": [
        {
          "output_type": "execute_result",
          "data": {
            "text/html": [
              "<div>\n",
              "<style scoped>\n",
              "    .dataframe tbody tr th:only-of-type {\n",
              "        vertical-align: middle;\n",
              "    }\n",
              "\n",
              "    .dataframe tbody tr th {\n",
              "        vertical-align: top;\n",
              "    }\n",
              "\n",
              "    .dataframe thead th {\n",
              "        text-align: right;\n",
              "    }\n",
              "</style>\n",
              "<table border=\"1\" class=\"dataframe\">\n",
              "  <thead>\n",
              "    <tr style=\"text-align: right;\">\n",
              "      <th></th>\n",
              "      <th>#Passengers</th>\n",
              "    </tr>\n",
              "    <tr>\n",
              "      <th>Month</th>\n",
              "      <th></th>\n",
              "    </tr>\n",
              "  </thead>\n",
              "  <tbody>\n",
              "    <tr>\n",
              "      <th>1949-01-01</th>\n",
              "      <td>112</td>\n",
              "    </tr>\n",
              "    <tr>\n",
              "      <th>1949-02-01</th>\n",
              "      <td>118</td>\n",
              "    </tr>\n",
              "    <tr>\n",
              "      <th>1949-03-01</th>\n",
              "      <td>132</td>\n",
              "    </tr>\n",
              "    <tr>\n",
              "      <th>1949-04-01</th>\n",
              "      <td>129</td>\n",
              "    </tr>\n",
              "    <tr>\n",
              "      <th>1949-05-01</th>\n",
              "      <td>121</td>\n",
              "    </tr>\n",
              "  </tbody>\n",
              "</table>\n",
              "</div>"
            ],
            "text/plain": [
              "            #Passengers\n",
              "Month                  \n",
              "1949-01-01          112\n",
              "1949-02-01          118\n",
              "1949-03-01          132\n",
              "1949-04-01          129\n",
              "1949-05-01          121"
            ]
          },
          "metadata": {
            "tags": []
          },
          "execution_count": 172
        }
      ]
    },
    {
      "cell_type": "code",
      "metadata": {
        "id": "CK7T6HaomEua"
      },
      "source": [
        "dataPassenger.rename(columns={'#Passengers':'Passengers'},inplace=True)"
      ],
      "execution_count": 173,
      "outputs": []
    },
    {
      "cell_type": "code",
      "metadata": {
        "id": "6W1wR3j-wez2",
        "outputId": "7436f539-325b-4dd5-84a4-1b9b94e754f4",
        "colab": {
          "base_uri": "https://localhost:8080/",
          "height": 297
        }
      },
      "source": [
        "dataPassenger.describe()"
      ],
      "execution_count": 174,
      "outputs": [
        {
          "output_type": "execute_result",
          "data": {
            "text/html": [
              "<div>\n",
              "<style scoped>\n",
              "    .dataframe tbody tr th:only-of-type {\n",
              "        vertical-align: middle;\n",
              "    }\n",
              "\n",
              "    .dataframe tbody tr th {\n",
              "        vertical-align: top;\n",
              "    }\n",
              "\n",
              "    .dataframe thead th {\n",
              "        text-align: right;\n",
              "    }\n",
              "</style>\n",
              "<table border=\"1\" class=\"dataframe\">\n",
              "  <thead>\n",
              "    <tr style=\"text-align: right;\">\n",
              "      <th></th>\n",
              "      <th>Passengers</th>\n",
              "    </tr>\n",
              "  </thead>\n",
              "  <tbody>\n",
              "    <tr>\n",
              "      <th>count</th>\n",
              "      <td>144.000000</td>\n",
              "    </tr>\n",
              "    <tr>\n",
              "      <th>mean</th>\n",
              "      <td>280.298611</td>\n",
              "    </tr>\n",
              "    <tr>\n",
              "      <th>std</th>\n",
              "      <td>119.966317</td>\n",
              "    </tr>\n",
              "    <tr>\n",
              "      <th>min</th>\n",
              "      <td>104.000000</td>\n",
              "    </tr>\n",
              "    <tr>\n",
              "      <th>25%</th>\n",
              "      <td>180.000000</td>\n",
              "    </tr>\n",
              "    <tr>\n",
              "      <th>50%</th>\n",
              "      <td>265.500000</td>\n",
              "    </tr>\n",
              "    <tr>\n",
              "      <th>75%</th>\n",
              "      <td>360.500000</td>\n",
              "    </tr>\n",
              "    <tr>\n",
              "      <th>max</th>\n",
              "      <td>622.000000</td>\n",
              "    </tr>\n",
              "  </tbody>\n",
              "</table>\n",
              "</div>"
            ],
            "text/plain": [
              "       Passengers\n",
              "count  144.000000\n",
              "mean   280.298611\n",
              "std    119.966317\n",
              "min    104.000000\n",
              "25%    180.000000\n",
              "50%    265.500000\n",
              "75%    360.500000\n",
              "max    622.000000"
            ]
          },
          "metadata": {
            "tags": []
          },
          "execution_count": 174
        }
      ]
    },
    {
      "cell_type": "code",
      "metadata": {
        "id": "1zEtCMGbmE0m",
        "outputId": "aff02a7d-3b82-429e-dbb6-f41228903964",
        "colab": {
          "base_uri": "https://localhost:8080/"
        }
      },
      "source": [
        "dataPassenger.columns"
      ],
      "execution_count": 175,
      "outputs": [
        {
          "output_type": "execute_result",
          "data": {
            "text/plain": [
              "Index(['Passengers'], dtype='object')"
            ]
          },
          "metadata": {
            "tags": []
          },
          "execution_count": 175
        }
      ]
    },
    {
      "cell_type": "code",
      "metadata": {
        "id": "cgZBTWnwmE45",
        "outputId": "19783859-e25f-4c31-b5fd-57b2e9e8924c",
        "colab": {
          "base_uri": "https://localhost:8080/",
          "height": 404
        }
      },
      "source": [
        "dataPassenger.plot(kind='line',linestyle='-',marker='*',color = 'g',figsize=(20,6), markerfacecolor='blue',markersize=10,title='Passegers analysis over the Year period.')\n",
        "plt.xlabel('Year')\n",
        "plt.ylabel('Count Of Passenger')\n",
        "plt.show()"
      ],
      "execution_count": 176,
      "outputs": [
        {
          "output_type": "display_data",
          "data": {
            "image/png": "[encoded data removed]",
            "text/plain": [
              "<Figure size 1440x432 with 1 Axes>"
            ]
          },
          "metadata": {
            "tags": [],
            "needs_background": "light"
          }
        }
      ]
    },
    {
      "cell_type": "code",
      "metadata": {
        "id": "rPxwz6knmEy6",
        "outputId": "9119f901-efc2-4e7f-fb1f-029d0b5a6f1b",
        "colab": {
          "base_uri": "https://localhost:8080/",
          "height": 404
        }
      },
      "source": [
        "dailywise_data = dataPassenger.asfreq('D')\n",
        "dailywise_data.plot(kind='line',marker='o',color = 'g',figsize=(20,6), markerfacecolor='blue',markersize=5,title='Passegers analysis over the daily period.')\n",
        "plt.xlabel('Daily Frequency')\n",
        "plt.ylabel('Count Of Passenger')\n",
        "plt.show()"
      ],
      "execution_count": 177,
      "outputs": [
        {
          "output_type": "display_data",
          "data": {
            "image/png": "[encoded data removed]",
            "text/plain": [
              "<Figure size 1440x432 with 1 Axes>"
            ]
          },
          "metadata": {
            "tags": [],
            "needs_background": "light"
          }
        }
      ]
    },
    {
      "cell_type": "markdown",
      "metadata": {
        "id": "30P9TXoN2MkH"
      },
      "source": [
        "From the we can understand there is seasonality as well as trend avalible.It is not stationary series and Its Variance and mean is getting increase as we go ahead."
      ]
    },
    {
      "cell_type": "markdown",
      "metadata": {
        "id": "iWMKQNvx2ugw"
      },
      "source": [
        "As we know the the neural network good in range 0 to 1 so we will use the MinMaxScaler in order to get the data in unique scale."
      ]
    },
    {
      "cell_type": "code",
      "metadata": {
        "id": "7YahTWB1mEkD"
      },
      "source": [
        "scaler = MinMaxScaler()\n",
        "dataset = scaler.fit_transform(dataPassenger)"
      ],
      "execution_count": 178,
      "outputs": []
    },
    {
      "cell_type": "code",
      "metadata": {
        "id": "lPryWOBvmEgf",
        "outputId": "a92b1a4f-36af-4f5a-b456-829e8f8206cb",
        "colab": {
          "base_uri": "https://localhost:8080/"
        }
      },
      "source": [
        "dataset[:5]"
      ],
      "execution_count": 179,
      "outputs": [
        {
          "output_type": "execute_result",
          "data": {
            "text/plain": [
              "array([[0.01544402],\n",
              "       [0.02702703],\n",
              "       [0.05405405],\n",
              "       [0.04826255],\n",
              "       [0.03281853]])"
            ]
          },
          "metadata": {
            "tags": []
          },
          "execution_count": 179
        }
      ]
    },
    {
      "cell_type": "markdown",
      "metadata": {
        "id": "dfrSP7zG3yCN"
      },
      "source": [
        "### Now,we will split data for the training and testing."
      ]
    },
    {
      "cell_type": "markdown",
      "metadata": {
        "id": "4SOatRCU4Muk"
      },
      "source": [
        "We will how much data we will use for training and testing."
      ]
    },
    {
      "cell_type": "code",
      "metadata": {
        "id": "2pp69We1mEfA",
        "outputId": "db32781e-3535-4a61-8881-92e4bab689aa",
        "colab": {
          "base_uri": "https://localhost:8080/"
        }
      },
      "source": [
        "dataset.shape"
      ],
      "execution_count": 180,
      "outputs": [
        {
          "output_type": "execute_result",
          "data": {
            "text/plain": [
              "(144, 1)"
            ]
          },
          "metadata": {
            "tags": []
          },
          "execution_count": 180
        }
      ]
    },
    {
      "cell_type": "code",
      "metadata": {
        "id": "fdlnFo7gmEV7",
        "outputId": "248691fb-85ba-4f90-fe14-51c27933a3ea",
        "colab": {
          "base_uri": "https://localhost:8080/",
          "height": 282
        }
      },
      "source": [
        "dataPassenger.reset_index()['Passengers'].plot()"
      ],
      "execution_count": 181,
      "outputs": [
        {
          "output_type": "execute_result",
          "data": {
            "text/plain": [
              "<matplotlib.axes._subplots.AxesSubplot at 0x7f3f8a166400>"
            ]
          },
          "metadata": {
            "tags": []
          },
          "execution_count": 181
        },
        {
          "output_type": "display_data",
          "data": {
            "image/png": "[encoded data removed]",
            "text/plain": [
              "<Figure size 432x288 with 1 Axes>"
            ]
          },
          "metadata": {
            "tags": [],
            "needs_background": "light"
          }
        }
      ]
    },
    {
      "cell_type": "markdown",
      "metadata": {
        "id": "gxJjIW4O4pJX"
      },
      "source": [
        "Now we will select training upto the 100 days and for testing we use remaining days."
      ]
    },
    {
      "cell_type": "code",
      "metadata": {
        "id": "8HIDowv45AEM",
        "outputId": "1bfdd3a4-9d98-4afe-8918-dba1c789bb1a",
        "colab": {
          "base_uri": "https://localhost:8080/"
        }
      },
      "source": [
        "print('% of the data for training :-',100/100+44)\n",
        "print('% of the data for testing:-',44/100+44)"
      ],
      "execution_count": 182,
      "outputs": [
        {
          "output_type": "stream",
          "text": [
            "% of the data for training :- 45.0\n",
            "% of the data for testing:- 44.44\n"
          ],
          "name": "stdout"
        }
      ]
    },
    {
      "cell_type": "code",
      "metadata": {
        "id": "inKn7mpXmET5"
      },
      "source": [
        "training_data = dataset[:100,:]\n",
        "testing_data = dataset[100:,:]"
      ],
      "execution_count": 183,
      "outputs": []
    },
    {
      "cell_type": "code",
      "metadata": {
        "id": "9X6ocUgcmERo",
        "outputId": "514807ae-b93f-4617-950d-c31b35fd4b65",
        "colab": {
          "base_uri": "https://localhost:8080/"
        }
      },
      "source": [
        "training_data.shape,testing_data.shape"
      ],
      "execution_count": 184,
      "outputs": [
        {
          "output_type": "execute_result",
          "data": {
            "text/plain": [
              "((100, 1), (44, 1))"
            ]
          },
          "metadata": {
            "tags": []
          },
          "execution_count": 184
        }
      ]
    },
    {
      "cell_type": "markdown",
      "metadata": {
        "id": "0A-b9Btw6Iik"
      },
      "source": [
        "## Build Testing And Training Dataset."
      ]
    },
    {
      "cell_type": "markdown",
      "metadata": {
        "id": "W3Ld1crx8kg7"
      },
      "source": [
        "We reaquired previous input to get the present output of any time series problem.Here is the same thing happening.SO we iterating the series by its **length-1**"
      ]
    },
    {
      "cell_type": "code",
      "metadata": {
        "id": "t8xZQgmumEPO"
      },
      "source": [
        "def get_data(dataset,look_back):\n",
        "  dataX,dataY=[],[]\n",
        "  for i in range(len(dataset)-look_back-1):\n",
        "  #here I am taking the range of dataset from -1 that means we going to predict the output of the data on the \n",
        "  #basis of previous input.\n",
        "  #look back it is just variable to determine how many days you want to look back and by default it is taking from (len of data-look_back)\n",
        "  #I use -1 because i will use +1 for upcoming code so index wont be exceed.\n",
        "    a = dataset[i:(i+look_back),0] #here I am getting data for training .Here slicing is done to on the it is taking whole data.\n",
        "\n",
        "    dataX.append(a)\n",
        "    dataY.append(dataset[i+look_back,0])  # it is start to iterate itself from i+lookback form. it means it is future data or we can say very next value.\n",
        "  return np.array(dataX),np.array(dataY)"
      ],
      "execution_count": 185,
      "outputs": []
    },
    {
      "cell_type": "code",
      "metadata": {
        "id": "ztSQKsN5mEFq"
      },
      "source": [
        "look_back =1\n",
        "X_train,Y_train = get_data(training_data,look_back)"
      ],
      "execution_count": 186,
      "outputs": []
    },
    {
      "cell_type": "code",
      "metadata": {
        "id": "MZkt6pU8mEC3",
        "outputId": "f71cdcd7-8e33-401c-c9f4-59040205be4f",
        "colab": {
          "base_uri": "https://localhost:8080/"
        }
      },
      "source": [
        "X_train.shape"
      ],
      "execution_count": 187,
      "outputs": [
        {
          "output_type": "execute_result",
          "data": {
            "text/plain": [
              "(98, 1)"
            ]
          },
          "metadata": {
            "tags": []
          },
          "execution_count": 187
        }
      ]
    },
    {
      "cell_type": "code",
      "metadata": {
        "id": "o4893HtdmEA6",
        "outputId": "cb97c2be-9a6f-4348-aa9a-4696f4ccd582",
        "colab": {
          "base_uri": "https://localhost:8080/"
        }
      },
      "source": [
        "Y_train.shape"
      ],
      "execution_count": 188,
      "outputs": [
        {
          "output_type": "execute_result",
          "data": {
            "text/plain": [
              "(98,)"
            ]
          },
          "metadata": {
            "tags": []
          },
          "execution_count": 188
        }
      ]
    },
    {
      "cell_type": "markdown",
      "metadata": {
        "id": "e_as83QoJL-J"
      },
      "source": [
        "If we see the value of the train data is getting decreases by shape."
      ]
    },
    {
      "cell_type": "code",
      "metadata": {
        "id": "EX_e_NHumD7S",
        "outputId": "857c487c-0b93-47fc-da71-4c3bf28b3345",
        "colab": {
          "base_uri": "https://localhost:8080/"
        }
      },
      "source": [
        "X_train[:5]"
      ],
      "execution_count": 189,
      "outputs": [
        {
          "output_type": "execute_result",
          "data": {
            "text/plain": [
              "array([[0.01544402],\n",
              "       [0.02702703],\n",
              "       [0.05405405],\n",
              "       [0.04826255],\n",
              "       [0.03281853]])"
            ]
          },
          "metadata": {
            "tags": []
          },
          "execution_count": 189
        }
      ]
    },
    {
      "cell_type": "code",
      "metadata": {
        "id": "6bITrwMtmD4L",
        "outputId": "3fdbd72a-686e-44a8-b99f-a2d9723eed1b",
        "colab": {
          "base_uri": "https://localhost:8080/"
        }
      },
      "source": [
        "Y_train[:5]"
      ],
      "execution_count": 190,
      "outputs": [
        {
          "output_type": "execute_result",
          "data": {
            "text/plain": [
              "array([0.02702703, 0.05405405, 0.04826255, 0.03281853, 0.05984556])"
            ]
          },
          "metadata": {
            "tags": []
          },
          "execution_count": 190
        }
      ]
    },
    {
      "cell_type": "markdown",
      "metadata": {
        "id": "76zDuOH5JbU7"
      },
      "source": [
        "If we see correctly the Training is start from 0.01544402 and Y_train is starting from the [0.02702703.\n",
        "\n",
        "Thats means the Y_train is moved by one whereas the X_training lagging by one.This is important to prediction in time series analysis.\n"
      ]
    },
    {
      "cell_type": "markdown",
      "metadata": {
        "id": "Jq4zjidAKSPM"
      },
      "source": [
        "## Similarly for the test data."
      ]
    },
    {
      "cell_type": "code",
      "metadata": {
        "id": "4WUabfFhmD2a"
      },
      "source": [
        "X_test,Y_test = get_data(testing_data,1)"
      ],
      "execution_count": 191,
      "outputs": []
    },
    {
      "cell_type": "markdown",
      "metadata": {
        "id": "w5WL6-wLKkGC"
      },
      "source": [
        "### Reshape the X_train and X_test."
      ]
    },
    {
      "cell_type": "code",
      "metadata": {
        "id": "ZvU5iGxPmDvh"
      },
      "source": [
        "X_train = X_train.reshape(X_train.shape[0],X_train.shape[1],1)\n",
        "X_test = X_test.reshape(X_test.shape[0],X_test.shape[1],1)"
      ],
      "execution_count": 192,
      "outputs": []
    },
    {
      "cell_type": "code",
      "metadata": {
        "id": "znP-fcRMmDty",
        "outputId": "af762730-b66f-4055-a7f9-0e4db52476e3",
        "colab": {
          "base_uri": "https://localhost:8080/"
        }
      },
      "source": [
        "X_train.shape,X_test.shape"
      ],
      "execution_count": 193,
      "outputs": [
        {
          "output_type": "execute_result",
          "data": {
            "text/plain": [
              "((98, 1, 1), (42, 1, 1))"
            ]
          },
          "metadata": {
            "tags": []
          },
          "execution_count": 193
        }
      ]
    },
    {
      "cell_type": "code",
      "metadata": {
        "id": "b92wvCyyM3H2",
        "outputId": "7ff36471-4fc9-4167-8e90-29d12eff2baa",
        "colab": {
          "base_uri": "https://localhost:8080/"
        }
      },
      "source": [
        "X_train.shape[0],X_train.shape[1],X_train.shape[2]"
      ],
      "execution_count": 194,
      "outputs": [
        {
          "output_type": "execute_result",
          "data": {
            "text/plain": [
              "(98, 1, 1)"
            ]
          },
          "metadata": {
            "tags": []
          },
          "execution_count": 194
        }
      ]
    },
    {
      "cell_type": "markdown",
      "metadata": {
        "id": "mv6DhyDlMYYF"
      },
      "source": [
        "## Build The Model."
      ]
    },
    {
      "cell_type": "code",
      "metadata": {
        "id": "tuZ0ASD_mDrV"
      },
      "source": [
        "model = Sequential()\n",
        "model.add(LSTM(10,return_sequences=True,input_shape=(X_train.shape[1],X_train.shape[2]))) #X_train.shape[2]=look_back\n",
        "model.add(LSTM(8))\n",
        "model.add(Dense(1))"
      ],
      "execution_count": 201,
      "outputs": []
    },
    {
      "cell_type": "code",
      "metadata": {
        "id": "3PgXy0FbmDkK",
        "outputId": "dc06d1f5-cc51-48fb-b098-6ee2962464d3",
        "colab": {
          "base_uri": "https://localhost:8080/"
        }
      },
      "source": [
        "model.summary()"
      ],
      "execution_count": 202,
      "outputs": [
        {
          "output_type": "stream",
          "text": [
            "Model: \"sequential_8\"\n",
            "_________________________________________________________________\n",
            "Layer (type)                 Output Shape              Param #   \n",
            "=================================================================\n",
            "lstm_15 (LSTM)               (None, 1, 10)             480       \n",
            "_________________________________________________________________\n",
            "lstm_16 (LSTM)               (None, 8)                 608       \n",
            "_________________________________________________________________\n",
            "dense_4 (Dense)              (None, 1)                 9         \n",
            "=================================================================\n",
            "Total params: 1,097\n",
            "Trainable params: 1,097\n",
            "Non-trainable params: 0\n",
            "_________________________________________________________________\n"
          ],
          "name": "stdout"
        }
      ]
    },
    {
      "cell_type": "code",
      "metadata": {
        "id": "NrF3hMyFNrSx"
      },
      "source": [
        "model.compile(optimizer='adam',loss='mean_squared_error')"
      ],
      "execution_count": 203,
      "outputs": []
    },
    {
      "cell_type": "code",
      "metadata": {
        "id": "RAea7PAzmDid",
        "outputId": "79175218-92db-4996-f736-965eb4b41baf",
        "colab": {
          "base_uri": "https://localhost:8080/"
        }
      },
      "source": [
        "history=model.fit(X_train,Y_train,epochs=50,validation_data=(X_test,Y_test),batch_size=1)"
      ],
      "execution_count": 204,
      "outputs": [
        {
          "output_type": "stream",
          "text": [
            "Epoch 1/50\n",
            "98/98 [==============================] - 1s 10ms/step - loss: 0.0375 - val_loss: 0.2003\n",
            "Epoch 2/50\n",
            "98/98 [==============================] - 0s 4ms/step - loss: 0.0180 - val_loss: 0.1500\n",
            "Epoch 3/50\n",
            "98/98 [==============================] - 0s 4ms/step - loss: 0.0157 - val_loss: 0.1236\n",
            "Epoch 4/50\n",
            "98/98 [==============================] - 0s 4ms/step - loss: 0.0139 - val_loss: 0.0890\n",
            "Epoch 5/50\n",
            "98/98 [==============================] - 0s 4ms/step - loss: 0.0113 - val_loss: 0.0700\n",
            "Epoch 6/50\n",
            "98/98 [==============================] - 0s 4ms/step - loss: 0.0081 - val_loss: 0.0390\n",
            "Epoch 7/50\n",
            "98/98 [==============================] - 0s 4ms/step - loss: 0.0053 - val_loss: 0.0188\n",
            "Epoch 8/50\n",
            "98/98 [==============================] - 0s 4ms/step - loss: 0.0033 - val_loss: 0.0099\n",
            "Epoch 9/50\n",
            "98/98 [==============================] - 0s 4ms/step - loss: 0.0027 - val_loss: 0.0106\n",
            "Epoch 10/50\n",
            "98/98 [==============================] - 0s 4ms/step - loss: 0.0024 - val_loss: 0.0109\n",
            "Epoch 11/50\n",
            "98/98 [==============================] - 0s 4ms/step - loss: 0.0024 - val_loss: 0.0115\n",
            "Epoch 12/50\n",
            "98/98 [==============================] - 0s 4ms/step - loss: 0.0024 - val_loss: 0.0120\n",
            "Epoch 13/50\n",
            "98/98 [==============================] - 0s 4ms/step - loss: 0.0024 - val_loss: 0.0119\n",
            "Epoch 14/50\n",
            "98/98 [==============================] - 0s 4ms/step - loss: 0.0024 - val_loss: 0.0107\n",
            "Epoch 15/50\n",
            "98/98 [==============================] - 0s 4ms/step - loss: 0.0023 - val_loss: 0.0115\n",
            "Epoch 16/50\n",
            "98/98 [==============================] - 0s 4ms/step - loss: 0.0024 - val_loss: 0.0111\n",
            "Epoch 17/50\n",
            "98/98 [==============================] - 0s 4ms/step - loss: 0.0023 - val_loss: 0.0107\n",
            "Epoch 18/50\n",
            "98/98 [==============================] - 0s 4ms/step - loss: 0.0023 - val_loss: 0.0104\n",
            "Epoch 19/50\n",
            "98/98 [==============================] - 0s 4ms/step - loss: 0.0024 - val_loss: 0.0104\n",
            "Epoch 20/50\n",
            "98/98 [==============================] - 0s 4ms/step - loss: 0.0023 - val_loss: 0.0102\n",
            "Epoch 21/50\n",
            "98/98 [==============================] - 0s 4ms/step - loss: 0.0024 - val_loss: 0.0100\n",
            "Epoch 22/50\n",
            "98/98 [==============================] - 0s 4ms/step - loss: 0.0024 - val_loss: 0.0104\n",
            "Epoch 23/50\n",
            "98/98 [==============================] - 0s 4ms/step - loss: 0.0023 - val_loss: 0.0103\n",
            "Epoch 24/50\n",
            "98/98 [==============================] - 0s 4ms/step - loss: 0.0023 - val_loss: 0.0098\n",
            "Epoch 25/50\n",
            "98/98 [==============================] - 0s 4ms/step - loss: 0.0022 - val_loss: 0.0097\n",
            "Epoch 26/50\n",
            "98/98 [==============================] - 0s 4ms/step - loss: 0.0024 - val_loss: 0.0108\n",
            "Epoch 27/50\n",
            "98/98 [==============================] - 0s 4ms/step - loss: 0.0022 - val_loss: 0.0098\n",
            "Epoch 28/50\n",
            "98/98 [==============================] - 0s 4ms/step - loss: 0.0023 - val_loss: 0.0094\n",
            "Epoch 29/50\n",
            "98/98 [==============================] - 0s 4ms/step - loss: 0.0023 - val_loss: 0.0096\n",
            "Epoch 30/50\n",
            "98/98 [==============================] - 0s 4ms/step - loss: 0.0022 - val_loss: 0.0095\n",
            "Epoch 31/50\n",
            "98/98 [==============================] - 0s 4ms/step - loss: 0.0025 - val_loss: 0.0096\n",
            "Epoch 32/50\n",
            "98/98 [==============================] - 0s 4ms/step - loss: 0.0024 - val_loss: 0.0093\n",
            "Epoch 33/50\n",
            "98/98 [==============================] - 0s 4ms/step - loss: 0.0023 - val_loss: 0.0094\n",
            "Epoch 34/50\n",
            "98/98 [==============================] - 0s 4ms/step - loss: 0.0023 - val_loss: 0.0094\n",
            "Epoch 35/50\n",
            "98/98 [==============================] - 0s 4ms/step - loss: 0.0023 - val_loss: 0.0095\n",
            "Epoch 36/50\n",
            "98/98 [==============================] - 0s 4ms/step - loss: 0.0023 - val_loss: 0.0093\n",
            "Epoch 37/50\n",
            "98/98 [==============================] - 0s 4ms/step - loss: 0.0023 - val_loss: 0.0091\n",
            "Epoch 38/50\n",
            "98/98 [==============================] - 0s 4ms/step - loss: 0.0023 - val_loss: 0.0091\n",
            "Epoch 39/50\n",
            "98/98 [==============================] - 0s 4ms/step - loss: 0.0023 - val_loss: 0.0090\n",
            "Epoch 40/50\n",
            "98/98 [==============================] - 0s 4ms/step - loss: 0.0021 - val_loss: 0.0099\n",
            "Epoch 41/50\n",
            "98/98 [==============================] - 0s 4ms/step - loss: 0.0022 - val_loss: 0.0089\n",
            "Epoch 42/50\n",
            "98/98 [==============================] - 0s 4ms/step - loss: 0.0022 - val_loss: 0.0090\n",
            "Epoch 43/50\n",
            "98/98 [==============================] - 0s 4ms/step - loss: 0.0023 - val_loss: 0.0092\n",
            "Epoch 44/50\n",
            "98/98 [==============================] - 0s 4ms/step - loss: 0.0022 - val_loss: 0.0088\n",
            "Epoch 45/50\n",
            "98/98 [==============================] - 0s 4ms/step - loss: 0.0023 - val_loss: 0.0097\n",
            "Epoch 46/50\n",
            "98/98 [==============================] - 0s 4ms/step - loss: 0.0022 - val_loss: 0.0105\n",
            "Epoch 47/50\n",
            "98/98 [==============================] - 0s 4ms/step - loss: 0.0022 - val_loss: 0.0089\n",
            "Epoch 48/50\n",
            "98/98 [==============================] - 0s 4ms/step - loss: 0.0023 - val_loss: 0.0088\n",
            "Epoch 49/50\n",
            "98/98 [==============================] - 0s 4ms/step - loss: 0.0022 - val_loss: 0.0093\n",
            "Epoch 50/50\n",
            "98/98 [==============================] - 0s 4ms/step - loss: 0.0023 - val_loss: 0.0090\n"
          ],
          "name": "stdout"
        }
      ]
    },
    {
      "cell_type": "code",
      "metadata": {
        "id": "Op49T1KESFTt",
        "outputId": "a18c2989-6fde-4f5d-e49b-033e224a4206",
        "colab": {
          "base_uri": "https://localhost:8080/"
        }
      },
      "source": [
        "history.history"
      ],
      "execution_count": 205,
      "outputs": [
        {
          "output_type": "execute_result",
          "data": {
            "text/plain": [
              "{'loss': [0.037539757788181305,\n",
              "  0.01799408532679081,\n",
              "  0.015748197212815285,\n",
              "  0.013901776634156704,\n",
              "  0.01127420924603939,\n",
              "  0.008065512403845787,\n",
              "  0.00531093729659915,\n",
              "  0.003343653865158558,\n",
              "  0.0026674075052142143,\n",
              "  0.002428610809147358,\n",
              "  0.0024001982528716326,\n",
              "  0.002416469156742096,\n",
              "  0.0023775578010827303,\n",
              "  0.0023719295859336853,\n",
              "  0.0023179410491138697,\n",
              "  0.002417221898213029,\n",
              "  0.0023205503821372986,\n",
              "  0.002268187701702118,\n",
              "  0.002369474619626999,\n",
              "  0.002322067506611347,\n",
              "  0.0023573460057377815,\n",
              "  0.0024416951928287745,\n",
              "  0.0022718366235494614,\n",
              "  0.0023028566502034664,\n",
              "  0.002218215959146619,\n",
              "  0.0023626091424375772,\n",
              "  0.0021758833900094032,\n",
              "  0.002335516270250082,\n",
              "  0.0023326915688812733,\n",
              "  0.0022485244553536177,\n",
              "  0.002465984085574746,\n",
              "  0.002395507413893938,\n",
              "  0.0022671024780720472,\n",
              "  0.0022643841803073883,\n",
              "  0.002312598517164588,\n",
              "  0.0022684496361762285,\n",
              "  0.002295777900144458,\n",
              "  0.0022589843720197678,\n",
              "  0.0023145866580307484,\n",
              "  0.0021051911171525717,\n",
              "  0.002189326100051403,\n",
              "  0.002218626206740737,\n",
              "  0.0022797309793531895,\n",
              "  0.0022048328537493944,\n",
              "  0.002263252157717943,\n",
              "  0.0022059567272663116,\n",
              "  0.0021682861261069775,\n",
              "  0.002280163811519742,\n",
              "  0.0021841470152139664,\n",
              "  0.0022519712802022696],\n",
              " 'val_loss': [0.20029045641422272,\n",
              "  0.15002655982971191,\n",
              "  0.12361905723810196,\n",
              "  0.08896446228027344,\n",
              "  0.0699857622385025,\n",
              "  0.03899914771318436,\n",
              "  0.018780795857310295,\n",
              "  0.009859924204647541,\n",
              "  0.010597922839224339,\n",
              "  0.010898987762629986,\n",
              "  0.011521458625793457,\n",
              "  0.011975528672337532,\n",
              "  0.011947991326451302,\n",
              "  0.010690311901271343,\n",
              "  0.011516299098730087,\n",
              "  0.011064283549785614,\n",
              "  0.010737307369709015,\n",
              "  0.010380133986473083,\n",
              "  0.010391459800302982,\n",
              "  0.010229821316897869,\n",
              "  0.010035205632448196,\n",
              "  0.010407804511487484,\n",
              "  0.010305567644536495,\n",
              "  0.009823141619563103,\n",
              "  0.009695786982774734,\n",
              "  0.010812310501933098,\n",
              "  0.009785757400095463,\n",
              "  0.009388159029185772,\n",
              "  0.009610740467905998,\n",
              "  0.009462634101510048,\n",
              "  0.009592953138053417,\n",
              "  0.009288152679800987,\n",
              "  0.009422747418284416,\n",
              "  0.009397287853062153,\n",
              "  0.009510107338428497,\n",
              "  0.009279919788241386,\n",
              "  0.009110132232308388,\n",
              "  0.009137295186519623,\n",
              "  0.009001515805721283,\n",
              "  0.0099342567846179,\n",
              "  0.008925269357860088,\n",
              "  0.008972144685685635,\n",
              "  0.009215308353304863,\n",
              "  0.008797997608780861,\n",
              "  0.0096810981631279,\n",
              "  0.010532970540225506,\n",
              "  0.008898812346160412,\n",
              "  0.008771500550210476,\n",
              "  0.009256516583263874,\n",
              "  0.00902092270553112]}"
            ]
          },
          "metadata": {
            "tags": []
          },
          "execution_count": 205
        }
      ]
    },
    {
      "cell_type": "code",
      "metadata": {
        "id": "3w-h7lKsSIl7",
        "outputId": "479f4ecd-0e8d-4989-b83c-23d9a2421f0b",
        "colab": {
          "base_uri": "https://localhost:8080/",
          "height": 458
        }
      },
      "source": [
        "plt.figure(figsize=(20,7))\n",
        "plt.plot(history.history['loss'],color='g')\n",
        "plt.plot(history.history['val_loss'],color='b')\n",
        "plt.xlabel('Training Loss')\n",
        "plt.ylabel('Validation Loss')\n",
        "plt.legend(['Training Loss','Validation loss'])\n",
        "plt.title('Training and Validation loss Comparision.')\n",
        "plt.show()"
      ],
      "execution_count": 206,
      "outputs": [
        {
          "output_type": "display_data",
          "data": {
            "image/png": "[encoded data removed]",
            "text/plain": [
              "<Figure size 1440x504 with 1 Axes>"
            ]
          },
          "metadata": {
            "tags": [],
            "needs_background": "light"
          }
        }
      ]
    },
    {
      "cell_type": "code",
      "metadata": {
        "id": "8KkmipfFmDdP"
      },
      "source": [
        "y_pred = model.predict(X_test)"
      ],
      "execution_count": 207,
      "outputs": []
    },
    {
      "cell_type": "code",
      "metadata": {
        "id": "5qRO3iuamDbj",
        "outputId": "645f15a2-909e-4677-e865-673ac24eac23",
        "colab": {
          "base_uri": "https://localhost:8080/"
        }
      },
      "source": [
        "scaler.scale_"
      ],
      "execution_count": 208,
      "outputs": [
        {
          "output_type": "execute_result",
          "data": {
            "text/plain": [
              "array([0.0019305])"
            ]
          },
          "metadata": {
            "tags": []
          },
          "execution_count": 208
        }
      ]
    },
    {
      "cell_type": "code",
      "metadata": {
        "id": "vdiGtmDSQthO",
        "outputId": "cc48fc50-9921-421c-82c9-201eed5e8de4",
        "colab": {
          "base_uri": "https://localhost:8080/"
        }
      },
      "source": [
        "y_test = Y_test.reshape(-1,1)\n",
        "y_test = scaler.inverse_transform(y_test)\n",
        "y_test"
      ],
      "execution_count": 209,
      "outputs": [
        {
          "output_type": "execute_result",
          "data": {
            "text/plain": [
              "array([[422.],\n",
              "       [465.],\n",
              "       [467.],\n",
              "       [404.],\n",
              "       [347.],\n",
              "       [305.],\n",
              "       [336.],\n",
              "       [340.],\n",
              "       [318.],\n",
              "       [362.],\n",
              "       [348.],\n",
              "       [363.],\n",
              "       [435.],\n",
              "       [491.],\n",
              "       [505.],\n",
              "       [404.],\n",
              "       [359.],\n",
              "       [310.],\n",
              "       [337.],\n",
              "       [360.],\n",
              "       [342.],\n",
              "       [406.],\n",
              "       [396.],\n",
              "       [420.],\n",
              "       [472.],\n",
              "       [548.],\n",
              "       [559.],\n",
              "       [463.],\n",
              "       [407.],\n",
              "       [362.],\n",
              "       [405.],\n",
              "       [417.],\n",
              "       [391.],\n",
              "       [419.],\n",
              "       [461.],\n",
              "       [472.],\n",
              "       [535.],\n",
              "       [622.],\n",
              "       [606.],\n",
              "       [508.],\n",
              "       [461.],\n",
              "       [390.]])"
            ]
          },
          "metadata": {
            "tags": []
          },
          "execution_count": 209
        }
      ]
    },
    {
      "cell_type": "code",
      "metadata": {
        "id": "slUATwXbQUju",
        "outputId": "87aa593f-f176-4b20-87e1-b2bdaf9b35a8",
        "colab": {
          "base_uri": "https://localhost:8080/"
        }
      },
      "source": [
        "y_pred = scaler.inverse_transform(y_pred)\n",
        "y_pred"
      ],
      "execution_count": 210,
      "outputs": [
        {
          "output_type": "execute_result",
          "data": {
            "text/plain": [
              "array([[350.84637],\n",
              "       [414.02676],\n",
              "       [452.97354],\n",
              "       [454.74808],\n",
              "       [397.3134 ],\n",
              "       [343.1538 ],\n",
              "       [302.47678],\n",
              "       [332.541  ],\n",
              "       [336.40454],\n",
              "       [315.1052 ],\n",
              "       [357.55685],\n",
              "       [344.11664],\n",
              "       [358.51385],\n",
              "       [425.9546 ],\n",
              "       [475.76437],\n",
              "       [487.77814],\n",
              "       [397.3134 ],\n",
              "       [354.6834 ],\n",
              "       [307.3363 ],\n",
              "       [333.50732],\n",
              "       [355.64166],\n",
              "       [338.3345 ],\n",
              "       [399.18115],\n",
              "       [389.81717],\n",
              "       [412.18076],\n",
              "       [459.16907],\n",
              "       [523.47784],\n",
              "       [532.3091 ],\n",
              "       [451.19556],\n",
              "       [400.11407],\n",
              "       [357.55685],\n",
              "       [398.24762],\n",
              "       [409.40643],\n",
              "       [385.1122 ],\n",
              "       [411.25668],\n",
              "       [449.41415],\n",
              "       [459.16907],\n",
              "       [512.88055],\n",
              "       [580.4374 ],\n",
              "       [568.6135 ],\n",
              "       [490.3282 ],\n",
              "       [449.41415]], dtype=float32)"
            ]
          },
          "metadata": {
            "tags": []
          },
          "execution_count": 210
        }
      ]
    },
    {
      "cell_type": "code",
      "metadata": {
        "id": "ad1w6fMJROje",
        "outputId": "a3fc9d48-a121-499c-d497-148c5a758440",
        "colab": {
          "base_uri": "https://localhost:8080/",
          "height": 458
        }
      },
      "source": [
        "plt.figure(figsize=(20,7))\n",
        "plt.plot(y_test,color='g')\n",
        "plt.plot(y_pred,color='b')\n",
        "plt.xlabel('Actaul data')\n",
        "plt.ylabel('Predicted')\n",
        "plt.legend(['Actual Number of Passenger','Predicted Number Of Passenger'])\n",
        "plt.title('Actual and Predicted passenger Comparision.')\n",
        "plt.show()"
      ],
      "execution_count": 211,
      "outputs": [
        {
          "output_type": "display_data",
          "data": {
            "image/png": "[encoded data removed]",
            "text/plain": [
              "<Figure size 1440x504 with 1 Axes>"
            ]
          },
          "metadata": {
            "tags": [],
            "needs_background": "light"
          }
        }
      ]
    },
    {
      "cell_type": "markdown",
      "metadata": {
        "id": "o6nWeMhgUpuE"
      },
      "source": [
        "## Understand It is good model or not."
      ]
    },
    {
      "cell_type": "code",
      "metadata": {
        "id": "-3aIxHnYROw8",
        "outputId": "c1d98212-dd82-462c-b336-a89b50b452d7",
        "colab": {
          "base_uri": "https://localhost:8080/"
        }
      },
      "source": [
        "val_score = model.evaluate(X_test,Y_test,batch_size=1)"
      ],
      "execution_count": 213,
      "outputs": [
        {
          "output_type": "stream",
          "text": [
            "42/42 [==============================] - 0s 2ms/step - loss: 0.0090\n"
          ],
          "name": "stdout"
        }
      ]
    },
    {
      "cell_type": "markdown",
      "metadata": {
        "id": "OnVq3lhmVGLX"
      },
      "source": [
        "### Error induce due to to modeling."
      ]
    },
    {
      "cell_type": "code",
      "metadata": {
        "id": "OsKaOWEUROtv",
        "outputId": "27cd82f1-3eee-404f-bd81-13fc1602a7d0",
        "colab": {
          "base_uri": "https://localhost:8080/"
        }
      },
      "source": [
        "MSE = mean_squared_error(y_test,y_pred)\n",
        "MSE"
      ],
      "execution_count": 214,
      "outputs": [
        {
          "output_type": "execute_result",
          "data": {
            "text/plain": [
              "2420.5300376513264"
            ]
          },
          "metadata": {
            "tags": []
          },
          "execution_count": 214
        }
      ]
    },
    {
      "cell_type": "code",
      "metadata": {
        "id": "JhyLDSfNROrr",
        "outputId": "d6d0905e-2678-4ef9-ef6e-7c9fc7f0e97e",
        "colab": {
          "base_uri": "https://localhost:8080/"
        }
      },
      "source": [
        "error = np.sqrt(MSE)\n",
        "error"
      ],
      "execution_count": 215,
      "outputs": [
        {
          "output_type": "execute_result",
          "data": {
            "text/plain": [
              "49.19888248376508"
            ]
          },
          "metadata": {
            "tags": []
          },
          "execution_count": 215
        }
      ]
    },
    {
      "cell_type": "markdown",
      "metadata": {
        "id": "OrSu32KEVw3Z"
      },
      "source": [
        "## Error already avalible inside the data.By comapring dispursion of data from the mean,That is called as Standard deviation."
      ]
    },
    {
      "cell_type": "code",
      "metadata": {
        "id": "BjoviFN_ROpi",
        "outputId": "0ae38a85-a447-47bd-a5c8-e3304975bf86",
        "colab": {
          "base_uri": "https://localhost:8080/"
        }
      },
      "source": [
        "self_error = np.std(y_test)\n",
        "self_error"
      ],
      "execution_count": 216,
      "outputs": [
        {
          "output_type": "execute_result",
          "data": {
            "text/plain": [
              "77.54904819069958"
            ]
          },
          "metadata": {
            "tags": []
          },
          "execution_count": 216
        }
      ]
    },
    {
      "cell_type": "markdown",
      "metadata": {
        "id": "PH0HjW51WRqh"
      },
      "source": [
        "If we compare the self error of the data is greater than the error induced by the modeling.Since from loss comparision graph and from our recent assumption we can conclude that this model is good model."
      ]
    },
    {
      "cell_type": "markdown",
      "metadata": {
        "id": "gKGIaPAwWz68"
      },
      "source": [
        "## Thank You !!"
      ]
    }
  ]
}