{
  "nbformat": 4,
  "nbformat_minor": 0,
  "metadata": {
    "colab": {
      "name": "Time Series Analysis Temperature Forecasting Problem Statement.ipynb",
      "provenance": [],
      "authorship_tag": "ABX9TyPSo0dUjFz2a5KduOHgcYBO",
      "include_colab_link": true
    },
    "kernelspec": {
      "name": "python3",
      "display_name": "Python 3"
    },
    "accelerator": "GPU"
  },
  "cells": [
    {
      "cell_type": "markdown",
      "metadata": {
        "id": "view-in-github",
        "colab_type": "text"
      },
      "source": [
        "<a href=\"https://colab.research.google.com/github/roshanappa/Anomaly-Detection-Techniques-/blob/master/Time_Series_Analysis_Temperature_Forecasting_Problem_Statement.ipynb\" target=\"_parent\"><img src=\"https://colab.research.google.com/assets/colab-badge.svg\" alt=\"Open In Colab\"/></a>"
      ]
    },
    {
      "cell_type": "code",
      "metadata": {
        "id": "HDmUKr11mvW5"
      },
      "source": [
        "import numpy as np # linear algebra\n",
        "import pandas as pd # data processing, CSV file I/O (e.g. pd.read_csv)\n",
        "import matplotlib.pyplot as plt \n",
        "import seaborn as sns "
      ],
      "execution_count": 135,
      "outputs": []
    },
    {
      "cell_type": "code",
      "metadata": {
        "id": "p4U1HVx0nXHw"
      },
      "source": [
        "df = pd.read_csv('/content/datatraining.txt',sep=',')"
      ],
      "execution_count": 136,
      "outputs": []
    },
    {
      "cell_type": "code",
      "metadata": {
        "id": "8786kbG4nXOE",
        "outputId": "ce3d5872-7f41-4c18-ccb0-ce6de4e63042",
        "colab": {
          "base_uri": "https://localhost:8080/",
          "height": 197
        }
      },
      "source": [
        "df.head()"
      ],
      "execution_count": 137,
      "outputs": [
        {
          "output_type": "execute_result",
          "data": {
            "text/html": [
              "<div>\n",
              "<style scoped>\n",
              "    .dataframe tbody tr th:only-of-type {\n",
              "        vertical-align: middle;\n",
              "    }\n",
              "\n",
              "    .dataframe tbody tr th {\n",
              "        vertical-align: top;\n",
              "    }\n",
              "\n",
              "    .dataframe thead th {\n",
              "        text-align: right;\n",
              "    }\n",
              "</style>\n",
              "<table border=\"1\" class=\"dataframe\">\n",
              "  <thead>\n",
              "    <tr style=\"text-align: right;\">\n",
              "      <th></th>\n",
              "      <th>date</th>\n",
              "      <th>Temperature</th>\n",
              "      <th>Humidity</th>\n",
              "      <th>Light</th>\n",
              "      <th>CO2</th>\n",
              "      <th>HumidityRatio</th>\n",
              "      <th>Occupancy</th>\n",
              "    </tr>\n",
              "  </thead>\n",
              "  <tbody>\n",
              "    <tr>\n",
              "      <th>1</th>\n",
              "      <td>2015-02-04 17:51:00</td>\n",
              "      <td>23.18</td>\n",
              "      <td>27.2720</td>\n",
              "      <td>426.0</td>\n",
              "      <td>721.25</td>\n",
              "      <td>0.004793</td>\n",
              "      <td>1</td>\n",
              "    </tr>\n",
              "    <tr>\n",
              "      <th>2</th>\n",
              "      <td>2015-02-04 17:51:59</td>\n",
              "      <td>23.15</td>\n",
              "      <td>27.2675</td>\n",
              "      <td>429.5</td>\n",
              "      <td>714.00</td>\n",
              "      <td>0.004783</td>\n",
              "      <td>1</td>\n",
              "    </tr>\n",
              "    <tr>\n",
              "      <th>3</th>\n",
              "      <td>2015-02-04 17:53:00</td>\n",
              "      <td>23.15</td>\n",
              "      <td>27.2450</td>\n",
              "      <td>426.0</td>\n",
              "      <td>713.50</td>\n",
              "      <td>0.004779</td>\n",
              "      <td>1</td>\n",
              "    </tr>\n",
              "    <tr>\n",
              "      <th>4</th>\n",
              "      <td>2015-02-04 17:54:00</td>\n",
              "      <td>23.15</td>\n",
              "      <td>27.2000</td>\n",
              "      <td>426.0</td>\n",
              "      <td>708.25</td>\n",
              "      <td>0.004772</td>\n",
              "      <td>1</td>\n",
              "    </tr>\n",
              "    <tr>\n",
              "      <th>5</th>\n",
              "      <td>2015-02-04 17:55:00</td>\n",
              "      <td>23.10</td>\n",
              "      <td>27.2000</td>\n",
              "      <td>426.0</td>\n",
              "      <td>704.50</td>\n",
              "      <td>0.004757</td>\n",
              "      <td>1</td>\n",
              "    </tr>\n",
              "  </tbody>\n",
              "</table>\n",
              "</div>"
            ],
            "text/plain": [
              "                  date  Temperature  Humidity  ...     CO2  HumidityRatio  Occupancy\n",
              "1  2015-02-04 17:51:00        23.18   27.2720  ...  721.25       0.004793          1\n",
              "2  2015-02-04 17:51:59        23.15   27.2675  ...  714.00       0.004783          1\n",
              "3  2015-02-04 17:53:00        23.15   27.2450  ...  713.50       0.004779          1\n",
              "4  2015-02-04 17:54:00        23.15   27.2000  ...  708.25       0.004772          1\n",
              "5  2015-02-04 17:55:00        23.10   27.2000  ...  704.50       0.004757          1\n",
              "\n",
              "[5 rows x 7 columns]"
            ]
          },
          "metadata": {
            "tags": []
          },
          "execution_count": 137
        }
      ]
    },
    {
      "cell_type": "code",
      "metadata": {
        "id": "gCDYSVN3nXUL",
        "outputId": "9f070d45-5bb7-49d2-f8f6-6f237a500174",
        "colab": {
          "base_uri": "https://localhost:8080/",
          "height": 197
        }
      },
      "source": [
        "df.tail()"
      ],
      "execution_count": 138,
      "outputs": [
        {
          "output_type": "execute_result",
          "data": {
            "text/html": [
              "<div>\n",
              "<style scoped>\n",
              "    .dataframe tbody tr th:only-of-type {\n",
              "        vertical-align: middle;\n",
              "    }\n",
              "\n",
              "    .dataframe tbody tr th {\n",
              "        vertical-align: top;\n",
              "    }\n",
              "\n",
              "    .dataframe thead th {\n",
              "        text-align: right;\n",
              "    }\n",
              "</style>\n",
              "<table border=\"1\" class=\"dataframe\">\n",
              "  <thead>\n",
              "    <tr style=\"text-align: right;\">\n",
              "      <th></th>\n",
              "      <th>date</th>\n",
              "      <th>Temperature</th>\n",
              "      <th>Humidity</th>\n",
              "      <th>Light</th>\n",
              "      <th>CO2</th>\n",
              "      <th>HumidityRatio</th>\n",
              "      <th>Occupancy</th>\n",
              "    </tr>\n",
              "  </thead>\n",
              "  <tbody>\n",
              "    <tr>\n",
              "      <th>8139</th>\n",
              "      <td>2015-02-10 09:29:00</td>\n",
              "      <td>21.05</td>\n",
              "      <td>36.0975</td>\n",
              "      <td>433.0</td>\n",
              "      <td>787.250000</td>\n",
              "      <td>0.005579</td>\n",
              "      <td>1</td>\n",
              "    </tr>\n",
              "    <tr>\n",
              "      <th>8140</th>\n",
              "      <td>2015-02-10 09:29:59</td>\n",
              "      <td>21.05</td>\n",
              "      <td>35.9950</td>\n",
              "      <td>433.0</td>\n",
              "      <td>789.500000</td>\n",
              "      <td>0.005563</td>\n",
              "      <td>1</td>\n",
              "    </tr>\n",
              "    <tr>\n",
              "      <th>8141</th>\n",
              "      <td>2015-02-10 09:30:59</td>\n",
              "      <td>21.10</td>\n",
              "      <td>36.0950</td>\n",
              "      <td>433.0</td>\n",
              "      <td>798.500000</td>\n",
              "      <td>0.005596</td>\n",
              "      <td>1</td>\n",
              "    </tr>\n",
              "    <tr>\n",
              "      <th>8142</th>\n",
              "      <td>2015-02-10 09:32:00</td>\n",
              "      <td>21.10</td>\n",
              "      <td>36.2600</td>\n",
              "      <td>433.0</td>\n",
              "      <td>820.333333</td>\n",
              "      <td>0.005621</td>\n",
              "      <td>1</td>\n",
              "    </tr>\n",
              "    <tr>\n",
              "      <th>8143</th>\n",
              "      <td>2015-02-10 09:33:00</td>\n",
              "      <td>21.10</td>\n",
              "      <td>36.2000</td>\n",
              "      <td>447.0</td>\n",
              "      <td>821.000000</td>\n",
              "      <td>0.005612</td>\n",
              "      <td>1</td>\n",
              "    </tr>\n",
              "  </tbody>\n",
              "</table>\n",
              "</div>"
            ],
            "text/plain": [
              "                     date  Temperature  ...  HumidityRatio  Occupancy\n",
              "8139  2015-02-10 09:29:00        21.05  ...       0.005579          1\n",
              "8140  2015-02-10 09:29:59        21.05  ...       0.005563          1\n",
              "8141  2015-02-10 09:30:59        21.10  ...       0.005596          1\n",
              "8142  2015-02-10 09:32:00        21.10  ...       0.005621          1\n",
              "8143  2015-02-10 09:33:00        21.10  ...       0.005612          1\n",
              "\n",
              "[5 rows x 7 columns]"
            ]
          },
          "metadata": {
            "tags": []
          },
          "execution_count": 138
        }
      ]
    },
    {
      "cell_type": "code",
      "metadata": {
        "id": "WY3iQQLwnXaU",
        "outputId": "80e05fcf-6c13-4a2c-8ec6-cd83e5a3fd44",
        "colab": {
          "base_uri": "https://localhost:8080/"
        }
      },
      "source": [
        "df.shape"
      ],
      "execution_count": 139,
      "outputs": [
        {
          "output_type": "execute_result",
          "data": {
            "text/plain": [
              "(8143, 7)"
            ]
          },
          "metadata": {
            "tags": []
          },
          "execution_count": 139
        }
      ]
    },
    {
      "cell_type": "code",
      "metadata": {
        "id": "RhgANlHMnXSY",
        "outputId": "16ee6412-f6a6-43ba-efdf-e82469eb7548",
        "colab": {
          "base_uri": "https://localhost:8080/"
        }
      },
      "source": [
        "df.columns"
      ],
      "execution_count": 140,
      "outputs": [
        {
          "output_type": "execute_result",
          "data": {
            "text/plain": [
              "Index(['date', 'Temperature', 'Humidity', 'Light', 'CO2', 'HumidityRatio',\n",
              "       'Occupancy'],\n",
              "      dtype='object')"
            ]
          },
          "metadata": {
            "tags": []
          },
          "execution_count": 140
        }
      ]
    },
    {
      "cell_type": "code",
      "metadata": {
        "id": "ZA2k5PN9nXL4",
        "outputId": "f910fb56-14b4-447c-c56d-97cad98e378b",
        "colab": {
          "base_uri": "https://localhost:8080/"
        }
      },
      "source": [
        "df.nunique()"
      ],
      "execution_count": 141,
      "outputs": [
        {
          "output_type": "execute_result",
          "data": {
            "text/plain": [
              "date             8143\n",
              "Temperature       265\n",
              "Humidity         1325\n",
              "Light             889\n",
              "CO2              2282\n",
              "HumidityRatio    3583\n",
              "Occupancy           2\n",
              "dtype: int64"
            ]
          },
          "metadata": {
            "tags": []
          },
          "execution_count": 141
        }
      ]
    },
    {
      "cell_type": "code",
      "metadata": {
        "id": "wXE27RQUpRnZ"
      },
      "source": [
        "df.drop(columns=['Occupancy'],inplace=True)"
      ],
      "execution_count": 142,
      "outputs": []
    },
    {
      "cell_type": "code",
      "metadata": {
        "id": "ebiKs-5Bpo3v",
        "outputId": "1a39b797-8ee2-4d5a-bb2e-e35bfb482d05",
        "colab": {
          "base_uri": "https://localhost:8080/"
        }
      },
      "source": [
        "df.dtypes"
      ],
      "execution_count": 143,
      "outputs": [
        {
          "output_type": "execute_result",
          "data": {
            "text/plain": [
              "date              object\n",
              "Temperature      float64\n",
              "Humidity         float64\n",
              "Light            float64\n",
              "CO2              float64\n",
              "HumidityRatio    float64\n",
              "dtype: object"
            ]
          },
          "metadata": {
            "tags": []
          },
          "execution_count": 143
        }
      ]
    },
    {
      "cell_type": "code",
      "metadata": {
        "id": "pdMxSA5JppFb"
      },
      "source": [
        "df['date']= pd.to_datetime(df['date'])"
      ],
      "execution_count": 144,
      "outputs": []
    },
    {
      "cell_type": "code",
      "metadata": {
        "id": "t6CeutFWppEC",
        "outputId": "009ae0c6-be82-4277-fecf-c8910ce690c0",
        "colab": {
          "base_uri": "https://localhost:8080/",
          "height": 197
        }
      },
      "source": [
        "df.head()"
      ],
      "execution_count": 145,
      "outputs": [
        {
          "output_type": "execute_result",
          "data": {
            "text/html": [
              "<div>\n",
              "<style scoped>\n",
              "    .dataframe tbody tr th:only-of-type {\n",
              "        vertical-align: middle;\n",
              "    }\n",
              "\n",
              "    .dataframe tbody tr th {\n",
              "        vertical-align: top;\n",
              "    }\n",
              "\n",
              "    .dataframe thead th {\n",
              "        text-align: right;\n",
              "    }\n",
              "</style>\n",
              "<table border=\"1\" class=\"dataframe\">\n",
              "  <thead>\n",
              "    <tr style=\"text-align: right;\">\n",
              "      <th></th>\n",
              "      <th>date</th>\n",
              "      <th>Temperature</th>\n",
              "      <th>Humidity</th>\n",
              "      <th>Light</th>\n",
              "      <th>CO2</th>\n",
              "      <th>HumidityRatio</th>\n",
              "    </tr>\n",
              "  </thead>\n",
              "  <tbody>\n",
              "    <tr>\n",
              "      <th>1</th>\n",
              "      <td>2015-02-04 17:51:00</td>\n",
              "      <td>23.18</td>\n",
              "      <td>27.2720</td>\n",
              "      <td>426.0</td>\n",
              "      <td>721.25</td>\n",
              "      <td>0.004793</td>\n",
              "    </tr>\n",
              "    <tr>\n",
              "      <th>2</th>\n",
              "      <td>2015-02-04 17:51:59</td>\n",
              "      <td>23.15</td>\n",
              "      <td>27.2675</td>\n",
              "      <td>429.5</td>\n",
              "      <td>714.00</td>\n",
              "      <td>0.004783</td>\n",
              "    </tr>\n",
              "    <tr>\n",
              "      <th>3</th>\n",
              "      <td>2015-02-04 17:53:00</td>\n",
              "      <td>23.15</td>\n",
              "      <td>27.2450</td>\n",
              "      <td>426.0</td>\n",
              "      <td>713.50</td>\n",
              "      <td>0.004779</td>\n",
              "    </tr>\n",
              "    <tr>\n",
              "      <th>4</th>\n",
              "      <td>2015-02-04 17:54:00</td>\n",
              "      <td>23.15</td>\n",
              "      <td>27.2000</td>\n",
              "      <td>426.0</td>\n",
              "      <td>708.25</td>\n",
              "      <td>0.004772</td>\n",
              "    </tr>\n",
              "    <tr>\n",
              "      <th>5</th>\n",
              "      <td>2015-02-04 17:55:00</td>\n",
              "      <td>23.10</td>\n",
              "      <td>27.2000</td>\n",
              "      <td>426.0</td>\n",
              "      <td>704.50</td>\n",
              "      <td>0.004757</td>\n",
              "    </tr>\n",
              "  </tbody>\n",
              "</table>\n",
              "</div>"
            ],
            "text/plain": [
              "                 date  Temperature  Humidity  Light     CO2  HumidityRatio\n",
              "1 2015-02-04 17:51:00        23.18   27.2720  426.0  721.25       0.004793\n",
              "2 2015-02-04 17:51:59        23.15   27.2675  429.5  714.00       0.004783\n",
              "3 2015-02-04 17:53:00        23.15   27.2450  426.0  713.50       0.004779\n",
              "4 2015-02-04 17:54:00        23.15   27.2000  426.0  708.25       0.004772\n",
              "5 2015-02-04 17:55:00        23.10   27.2000  426.0  704.50       0.004757"
            ]
          },
          "metadata": {
            "tags": []
          },
          "execution_count": 145
        }
      ]
    },
    {
      "cell_type": "code",
      "metadata": {
        "id": "dzj82KOGqguM"
      },
      "source": [
        "df.set_index('date',inplace=True)"
      ],
      "execution_count": 146,
      "outputs": []
    },
    {
      "cell_type": "code",
      "metadata": {
        "id": "FMxu1hn2ppBj",
        "outputId": "549ae56e-6443-41fd-af51-2b0dc293d861",
        "colab": {
          "base_uri": "https://localhost:8080/",
          "height": 448
        }
      },
      "source": [
        "df['Temperature'].plot(figsize=(20,7))"
      ],
      "execution_count": 147,
      "outputs": [
        {
          "output_type": "execute_result",
          "data": {
            "text/plain": [
              "<matplotlib.axes._subplots.AxesSubplot at 0x7f0806924ba8>"
            ]
          },
          "metadata": {
            "tags": []
          },
          "execution_count": 147
        },
        {
          "output_type": "display_data",
          "data": {
            "image/png": "[encoded data removed]",
            "text/plain": [
              "<Figure size 1440x504 with 1 Axes>"
            ]
          },
          "metadata": {
            "tags": [],
            "needs_background": "light"
          }
        }
      ]
    },
    {
      "cell_type": "code",
      "metadata": {
        "id": "DZAOQ73mppAR",
        "outputId": "9a0695ac-f7e9-4f14-cafb-65a0a0535d9e",
        "colab": {
          "base_uri": "https://localhost:8080/",
          "height": 432
        }
      },
      "source": [
        "df.plot(subplots=True,figsize=(20,7))\n",
        "plt.show()"
      ],
      "execution_count": 148,
      "outputs": [
        {
          "output_type": "display_data",
          "data": {
            "image/png": "[encoded data removed]",
            "text/plain": [
              "<Figure size 1440x504 with 5 Axes>"
            ]
          },
          "metadata": {
            "tags": [],
            "needs_background": "light"
          }
        }
      ]
    },
    {
      "cell_type": "code",
      "metadata": {
        "id": "HXABCmb1r-L9",
        "outputId": "80d8e1b2-ff9e-4b8e-81d2-0553a6dd761d",
        "colab": {
          "base_uri": "https://localhost:8080/"
        }
      },
      "source": [
        "df.isnull().sum()"
      ],
      "execution_count": 149,
      "outputs": [
        {
          "output_type": "execute_result",
          "data": {
            "text/plain": [
              "Temperature      0\n",
              "Humidity         0\n",
              "Light            0\n",
              "CO2              0\n",
              "HumidityRatio    0\n",
              "dtype: int64"
            ]
          },
          "metadata": {
            "tags": []
          },
          "execution_count": 149
        }
      ]
    },
    {
      "cell_type": "markdown",
      "metadata": {
        "id": "irwfFfDWq1GN"
      },
      "source": [
        "## Data Preprocessing."
      ]
    },
    {
      "cell_type": "code",
      "metadata": {
        "id": "PsJwhBfopo-j",
        "outputId": "c381babc-62e0-4729-d161-6ec615f22e32",
        "colab": {
          "base_uri": "https://localhost:8080/"
        }
      },
      "source": [
        "df.shape"
      ],
      "execution_count": 150,
      "outputs": [
        {
          "output_type": "execute_result",
          "data": {
            "text/plain": [
              "(8143, 5)"
            ]
          },
          "metadata": {
            "tags": []
          },
          "execution_count": 150
        }
      ]
    },
    {
      "cell_type": "code",
      "metadata": {
        "id": "fxIF9z0kq8XX"
      },
      "source": [
        "features = df\n",
        "target = df['Temperature']"
      ],
      "execution_count": 151,
      "outputs": []
    },
    {
      "cell_type": "code",
      "metadata": {
        "id": "Brsld2YKx7JI"
      },
      "source": [
        "X_train,X_test,Y_train,Y_test = train_test_split(features,target,test_size=0.30,shuffle=False)"
      ],
      "execution_count": 152,
      "outputs": []
    },
    {
      "cell_type": "code",
      "metadata": {
        "id": "AvF3UifZq8SX",
        "outputId": "b0f4b66d-5a5f-4390-eea1-8e4c558dd3b4",
        "colab": {
          "base_uri": "https://localhost:8080/"
        }
      },
      "source": [
        "X_train.shape,X_test.shape"
      ],
      "execution_count": 153,
      "outputs": [
        {
          "output_type": "execute_result",
          "data": {
            "text/plain": [
              "((5700, 5), (2443, 5))"
            ]
          },
          "metadata": {
            "tags": []
          },
          "execution_count": 153
        }
      ]
    },
    {
      "cell_type": "code",
      "metadata": {
        "id": "9ll5WRbvyRGQ",
        "outputId": "c51ae392-a317-4b19-a6a7-0bc18aba521f",
        "colab": {
          "base_uri": "https://localhost:8080/"
        }
      },
      "source": [
        "Y_train.shape,Y_test.shape"
      ],
      "execution_count": 154,
      "outputs": [
        {
          "output_type": "execute_result",
          "data": {
            "text/plain": [
              "((5700,), (2443,))"
            ]
          },
          "metadata": {
            "tags": []
          },
          "execution_count": 154
        }
      ]
    },
    {
      "cell_type": "code",
      "metadata": {
        "id": "SbRTMhi0q8Ov"
      },
      "source": [
        "from sklearn.preprocessing import MinMaxScaler\n",
        "from sklearn.model_selection import train_test_split"
      ],
      "execution_count": 155,
      "outputs": []
    },
    {
      "cell_type": "code",
      "metadata": {
        "id": "AR2x4v3YydL3"
      },
      "source": [
        "x_scaler = MinMaxScaler()\n",
        "X_train = xscaler.fit_transform(X_train)\n",
        "X_test  = xscaler.transform(X_test)"
      ],
      "execution_count": 156,
      "outputs": []
    },
    {
      "cell_type": "code",
      "metadata": {
        "id": "YNVtHVPtydHo"
      },
      "source": [
        "y_scaler = MinMaxScaler()\n",
        "Y_train = yscaler.fit_transform(Y_train.to_numpy().reshape(-1,1))\n",
        "Y_test  = yscaler.transform(Y_test.to_numpy().reshape(-1,1))"
      ],
      "execution_count": 157,
      "outputs": []
    },
    {
      "cell_type": "code",
      "metadata": {
        "id": "k5TLVC0UydFr",
        "outputId": "2f879544-f0c9-4ebd-e7b4-7944afef35d2",
        "colab": {
          "base_uri": "https://localhost:8080/"
        }
      },
      "source": [
        "Y_train.shape,Y_test.shape"
      ],
      "execution_count": 158,
      "outputs": [
        {
          "output_type": "execute_result",
          "data": {
            "text/plain": [
              "((5700, 1), (2443, 1))"
            ]
          },
          "metadata": {
            "tags": []
          },
          "execution_count": 158
        }
      ]
    },
    {
      "cell_type": "code",
      "metadata": {
        "id": "VuQZqkPayc-T"
      },
      "source": [
        "win_length=12 #This is for day.\n",
        "batch_size=20\n",
        "num_features =5\n",
        "\n",
        "train_generator = TimeseriesGenerator(X_train,Y_train,length=win_length,sampling_rate=1,batch_size=batch_size)\n",
        "test_generator  = TimeseriesGenerator(X_test,Y_test,length=win_length,sampling_rate=1,batch_size=batch_size)"
      ],
      "execution_count": 159,
      "outputs": []
    },
    {
      "cell_type": "code",
      "metadata": {
        "id": "sqYcK24Lyc8R"
      },
      "source": [
        "\n",
        "import keras\n",
        "model = Sequential()\n",
        "model.add(keras.layers.LSTM(200,return_sequences=True,input_shape=(win_length,num_features)))\n",
        "model.add(keras.layers.ReLU())\n",
        "model.add(keras.layers.LSTM(128,return_sequences=True))\n",
        "model.add(keras.layers.ReLU())\n",
        "model.add(keras.layers.Dropout(0.20))\n",
        "model.add(keras.layers.LSTM(128,return_sequences=False))\n",
        "model.add(keras.layers.Dropout(0.3))\n",
        "model.add(keras.layers.Dense(1))"
      ],
      "execution_count": 160,
      "outputs": []
    },
    {
      "cell_type": "code",
      "metadata": {
        "id": "IczuMVygyc4l",
        "outputId": "9c669b6b-ccaa-4143-80f6-37a831b933ad",
        "colab": {
          "base_uri": "https://localhost:8080/"
        }
      },
      "source": [
        "model.summary()"
      ],
      "execution_count": 161,
      "outputs": [
        {
          "output_type": "stream",
          "text": [
            "Model: \"sequential_4\"\n",
            "_________________________________________________________________\n",
            "Layer (type)                 Output Shape              Param #   \n",
            "=================================================================\n",
            "lstm_8 (LSTM)                (None, 12, 200)           164800    \n",
            "_________________________________________________________________\n",
            "re_lu_3 (ReLU)               (None, 12, 200)           0         \n",
            "_________________________________________________________________\n",
            "lstm_9 (LSTM)                (None, 12, 128)           168448    \n",
            "_________________________________________________________________\n",
            "re_lu_4 (ReLU)               (None, 12, 128)           0         \n",
            "_________________________________________________________________\n",
            "dropout_2 (Dropout)          (None, 12, 128)           0         \n",
            "_________________________________________________________________\n",
            "lstm_10 (LSTM)               (None, 128)               131584    \n",
            "_________________________________________________________________\n",
            "dropout_3 (Dropout)          (None, 128)               0         \n",
            "_________________________________________________________________\n",
            "dense_1 (Dense)              (None, 1)                 129       \n",
            "=================================================================\n",
            "Total params: 464,961\n",
            "Trainable params: 464,961\n",
            "Non-trainable params: 0\n",
            "_________________________________________________________________\n"
          ],
          "name": "stdout"
        }
      ]
    },
    {
      "cell_type": "code",
      "metadata": {
        "id": "X_fm_hXHz_GA"
      },
      "source": [
        "model.compile(optimizer='adam',loss='mse',metrics=['mae'])"
      ],
      "execution_count": 162,
      "outputs": []
    },
    {
      "cell_type": "code",
      "metadata": {
        "id": "zMh2FrEgz_Oi",
        "outputId": "1c811abf-edb0-4f4a-cdd5-2e2a5b112bd2",
        "colab": {
          "base_uri": "https://localhost:8080/"
        }
      },
      "source": [
        "history=model.fit_generator(train_generator,epochs=100,validation_data=test_generator,shuffle=False)"
      ],
      "execution_count": 163,
      "outputs": [
        {
          "output_type": "stream",
          "text": [
            "Epoch 1/100\n",
            "285/285 [==============================] - 3s 12ms/step - loss: 0.0172 - mae: 0.0790 - val_loss: 0.0281 - val_mae: 0.1407\n",
            "Epoch 2/100\n",
            "285/285 [==============================] - 3s 9ms/step - loss: 0.0171 - mae: 0.0825 - val_loss: 0.0308 - val_mae: 0.1443\n",
            "Epoch 3/100\n",
            "285/285 [==============================] - 3s 9ms/step - loss: 0.0259 - mae: 0.1071 - val_loss: 0.0697 - val_mae: 0.1958\n",
            "Epoch 4/100\n",
            "285/285 [==============================] - 2s 9ms/step - loss: 0.0500 - mae: 0.1661 - val_loss: 0.0524 - val_mae: 0.1819\n",
            "Epoch 5/100\n",
            "285/285 [==============================] - 2s 8ms/step - loss: 0.0462 - mae: 0.1648 - val_loss: 0.0275 - val_mae: 0.1383\n",
            "Epoch 6/100\n",
            "285/285 [==============================] - 2s 8ms/step - loss: 0.0184 - mae: 0.1020 - val_loss: 0.0346 - val_mae: 0.1597\n",
            "Epoch 7/100\n",
            "285/285 [==============================] - 2s 8ms/step - loss: 0.0123 - mae: 0.0803 - val_loss: 0.0137 - val_mae: 0.0990\n",
            "Epoch 8/100\n",
            "285/285 [==============================] - 2s 8ms/step - loss: 0.0161 - mae: 0.0912 - val_loss: 0.0251 - val_mae: 0.1307\n",
            "Epoch 9/100\n",
            "285/285 [==============================] - 2s 8ms/step - loss: 0.0118 - mae: 0.0791 - val_loss: 0.0504 - val_mae: 0.2038\n",
            "Epoch 10/100\n",
            "285/285 [==============================] - 2s 9ms/step - loss: 0.0081 - mae: 0.0647 - val_loss: 0.0973 - val_mae: 0.2668\n",
            "Epoch 11/100\n",
            "285/285 [==============================] - 3s 10ms/step - loss: 0.0080 - mae: 0.0613 - val_loss: 0.0431 - val_mae: 0.1753\n",
            "Epoch 12/100\n",
            "285/285 [==============================] - 2s 9ms/step - loss: 0.0094 - mae: 0.0702 - val_loss: 0.0777 - val_mae: 0.2553\n",
            "Epoch 13/100\n",
            "285/285 [==============================] - 2s 8ms/step - loss: 0.0069 - mae: 0.0610 - val_loss: 0.0548 - val_mae: 0.1971\n",
            "Epoch 14/100\n",
            "285/285 [==============================] - 2s 8ms/step - loss: 0.0069 - mae: 0.0601 - val_loss: 0.0523 - val_mae: 0.1940\n",
            "Epoch 15/100\n",
            "285/285 [==============================] - 2s 9ms/step - loss: 0.0070 - mae: 0.0602 - val_loss: 0.0484 - val_mae: 0.1927\n",
            "Epoch 16/100\n",
            "285/285 [==============================] - 2s 9ms/step - loss: 0.0063 - mae: 0.0564 - val_loss: 0.0543 - val_mae: 0.1901\n",
            "Epoch 17/100\n",
            "285/285 [==============================] - 2s 8ms/step - loss: 0.0060 - mae: 0.0542 - val_loss: 0.0479 - val_mae: 0.1816\n",
            "Epoch 18/100\n",
            "285/285 [==============================] - 2s 8ms/step - loss: 0.0060 - mae: 0.0520 - val_loss: 0.0468 - val_mae: 0.1745\n",
            "Epoch 19/100\n",
            "285/285 [==============================] - 2s 9ms/step - loss: 0.0057 - mae: 0.0506 - val_loss: 0.0366 - val_mae: 0.1517\n",
            "Epoch 20/100\n",
            "285/285 [==============================] - 2s 9ms/step - loss: 0.0062 - mae: 0.0517 - val_loss: 0.0308 - val_mae: 0.1367\n",
            "Epoch 21/100\n",
            "285/285 [==============================] - 2s 8ms/step - loss: 0.0056 - mae: 0.0497 - val_loss: 0.0295 - val_mae: 0.1475\n",
            "Epoch 22/100\n",
            "285/285 [==============================] - 2s 9ms/step - loss: 0.0044 - mae: 0.0451 - val_loss: 0.0248 - val_mae: 0.1356\n",
            "Epoch 23/100\n",
            "285/285 [==============================] - 2s 9ms/step - loss: 0.0039 - mae: 0.0436 - val_loss: 0.0219 - val_mae: 0.1294\n",
            "Epoch 24/100\n",
            "285/285 [==============================] - 2s 9ms/step - loss: 0.0029 - mae: 0.0377 - val_loss: 0.0282 - val_mae: 0.1459\n",
            "Epoch 25/100\n",
            "285/285 [==============================] - 2s 8ms/step - loss: 0.0031 - mae: 0.0391 - val_loss: 0.0153 - val_mae: 0.1057\n",
            "Epoch 26/100\n",
            "285/285 [==============================] - 2s 8ms/step - loss: 0.0024 - mae: 0.0357 - val_loss: 0.0179 - val_mae: 0.1095\n",
            "Epoch 27/100\n",
            "285/285 [==============================] - 2s 8ms/step - loss: 0.0030 - mae: 0.0412 - val_loss: 0.0158 - val_mae: 0.1115\n",
            "Epoch 28/100\n",
            "285/285 [==============================] - 2s 8ms/step - loss: 0.0026 - mae: 0.0379 - val_loss: 0.0217 - val_mae: 0.1315\n",
            "Epoch 29/100\n",
            "285/285 [==============================] - 2s 8ms/step - loss: 0.0021 - mae: 0.0345 - val_loss: 0.0164 - val_mae: 0.1186\n",
            "Epoch 30/100\n",
            "285/285 [==============================] - 2s 8ms/step - loss: 0.0019 - mae: 0.0328 - val_loss: 0.0163 - val_mae: 0.1158\n",
            "Epoch 31/100\n",
            "285/285 [==============================] - 2s 8ms/step - loss: 0.0016 - mae: 0.0298 - val_loss: 0.0100 - val_mae: 0.0923\n",
            "Epoch 32/100\n",
            "285/285 [==============================] - 2s 9ms/step - loss: 0.0020 - mae: 0.0333 - val_loss: 0.0221 - val_mae: 0.1144\n",
            "Epoch 33/100\n",
            "285/285 [==============================] - 2s 8ms/step - loss: 0.0021 - mae: 0.0339 - val_loss: 0.0275 - val_mae: 0.1231\n",
            "Epoch 34/100\n",
            "285/285 [==============================] - 2s 8ms/step - loss: 0.0035 - mae: 0.0402 - val_loss: 0.0052 - val_mae: 0.0643\n",
            "Epoch 35/100\n",
            "285/285 [==============================] - 2s 8ms/step - loss: 0.0037 - mae: 0.0419 - val_loss: 0.0086 - val_mae: 0.0837\n",
            "Epoch 36/100\n",
            "285/285 [==============================] - 2s 9ms/step - loss: 0.0034 - mae: 0.0433 - val_loss: 0.0179 - val_mae: 0.1173\n",
            "Epoch 37/100\n",
            "285/285 [==============================] - 2s 9ms/step - loss: 0.0024 - mae: 0.0364 - val_loss: 0.0162 - val_mae: 0.1160\n",
            "Epoch 38/100\n",
            "285/285 [==============================] - 3s 9ms/step - loss: 0.0021 - mae: 0.0346 - val_loss: 0.0135 - val_mae: 0.1023\n",
            "Epoch 39/100\n",
            "285/285 [==============================] - 2s 8ms/step - loss: 0.0018 - mae: 0.0314 - val_loss: 0.0126 - val_mae: 0.1017\n",
            "Epoch 40/100\n",
            "285/285 [==============================] - 2s 8ms/step - loss: 0.0020 - mae: 0.0333 - val_loss: 0.0108 - val_mae: 0.0955\n",
            "Epoch 41/100\n",
            "285/285 [==============================] - 2s 8ms/step - loss: 0.0019 - mae: 0.0322 - val_loss: 0.0101 - val_mae: 0.0903\n",
            "Epoch 42/100\n",
            "285/285 [==============================] - 3s 9ms/step - loss: 0.0017 - mae: 0.0307 - val_loss: 0.0088 - val_mae: 0.0828\n",
            "Epoch 43/100\n",
            "285/285 [==============================] - 2s 8ms/step - loss: 0.0016 - mae: 0.0297 - val_loss: 0.0093 - val_mae: 0.0859\n",
            "Epoch 44/100\n",
            "285/285 [==============================] - 2s 8ms/step - loss: 0.0019 - mae: 0.0307 - val_loss: 0.0096 - val_mae: 0.0820\n",
            "Epoch 45/100\n",
            "285/285 [==============================] - 3s 9ms/step - loss: 0.0018 - mae: 0.0301 - val_loss: 0.0086 - val_mae: 0.0768\n",
            "Epoch 46/100\n",
            "285/285 [==============================] - 2s 8ms/step - loss: 0.0014 - mae: 0.0282 - val_loss: 0.0077 - val_mae: 0.0694\n",
            "Epoch 47/100\n",
            "285/285 [==============================] - 2s 9ms/step - loss: 0.0013 - mae: 0.0269 - val_loss: 0.0083 - val_mae: 0.0717\n",
            "Epoch 48/100\n",
            "285/285 [==============================] - 2s 8ms/step - loss: 0.0013 - mae: 0.0274 - val_loss: 0.0078 - val_mae: 0.0714\n",
            "Epoch 49/100\n",
            "285/285 [==============================] - 2s 9ms/step - loss: 0.0016 - mae: 0.0297 - val_loss: 0.0066 - val_mae: 0.0643\n",
            "Epoch 50/100\n",
            "285/285 [==============================] - 2s 8ms/step - loss: 0.0020 - mae: 0.0320 - val_loss: 0.0022 - val_mae: 0.0335\n",
            "Epoch 51/100\n",
            "285/285 [==============================] - 2s 8ms/step - loss: 0.0016 - mae: 0.0281 - val_loss: 0.0043 - val_mae: 0.0503\n",
            "Epoch 52/100\n",
            "285/285 [==============================] - 2s 8ms/step - loss: 0.0014 - mae: 0.0270 - val_loss: 0.0032 - val_mae: 0.0448\n",
            "Epoch 53/100\n",
            "285/285 [==============================] - 2s 9ms/step - loss: 0.0013 - mae: 0.0250 - val_loss: 0.0088 - val_mae: 0.0765\n",
            "Epoch 54/100\n",
            "285/285 [==============================] - 2s 9ms/step - loss: 0.0023 - mae: 0.0361 - val_loss: 0.0049 - val_mae: 0.0520\n",
            "Epoch 55/100\n",
            "285/285 [==============================] - 2s 8ms/step - loss: 0.0027 - mae: 0.0349 - val_loss: 0.0056 - val_mae: 0.0530\n",
            "Epoch 56/100\n",
            "285/285 [==============================] - 2s 9ms/step - loss: 0.0018 - mae: 0.0312 - val_loss: 0.0030 - val_mae: 0.0394\n",
            "Epoch 57/100\n",
            "285/285 [==============================] - 3s 9ms/step - loss: 0.0018 - mae: 0.0306 - val_loss: 0.0034 - val_mae: 0.0429\n",
            "Epoch 58/100\n",
            "285/285 [==============================] - 2s 8ms/step - loss: 0.0015 - mae: 0.0285 - val_loss: 0.0028 - val_mae: 0.0386\n",
            "Epoch 59/100\n",
            "285/285 [==============================] - 2s 9ms/step - loss: 0.0015 - mae: 0.0284 - val_loss: 0.0026 - val_mae: 0.0392\n",
            "Epoch 60/100\n",
            "285/285 [==============================] - 3s 9ms/step - loss: 0.0014 - mae: 0.0267 - val_loss: 0.0034 - val_mae: 0.0505\n",
            "Epoch 61/100\n",
            "285/285 [==============================] - 2s 9ms/step - loss: 0.0010 - mae: 0.0229 - val_loss: 0.0076 - val_mae: 0.0767\n",
            "Epoch 62/100\n",
            "285/285 [==============================] - 2s 8ms/step - loss: 9.3918e-04 - mae: 0.0225 - val_loss: 0.0056 - val_mae: 0.0599\n",
            "Epoch 63/100\n",
            "285/285 [==============================] - 2s 8ms/step - loss: 0.0011 - mae: 0.0242 - val_loss: 0.0082 - val_mae: 0.0779\n",
            "Epoch 64/100\n",
            "285/285 [==============================] - 3s 9ms/step - loss: 0.0011 - mae: 0.0248 - val_loss: 0.0073 - val_mae: 0.0683\n",
            "Epoch 65/100\n",
            "285/285 [==============================] - 2s 9ms/step - loss: 0.0011 - mae: 0.0239 - val_loss: 0.0067 - val_mae: 0.0702\n",
            "Epoch 66/100\n",
            "285/285 [==============================] - 2s 9ms/step - loss: 0.0015 - mae: 0.0261 - val_loss: 0.0032 - val_mae: 0.0423\n",
            "Epoch 67/100\n",
            "285/285 [==============================] - 2s 8ms/step - loss: 0.0015 - mae: 0.0289 - val_loss: 0.0048 - val_mae: 0.0488\n",
            "Epoch 68/100\n",
            "285/285 [==============================] - 2s 9ms/step - loss: 0.0014 - mae: 0.0266 - val_loss: 0.0041 - val_mae: 0.0541\n",
            "Epoch 69/100\n",
            "285/285 [==============================] - 3s 9ms/step - loss: 0.0013 - mae: 0.0273 - val_loss: 0.0071 - val_mae: 0.0695\n",
            "Epoch 70/100\n",
            "285/285 [==============================] - 2s 8ms/step - loss: 0.0017 - mae: 0.0283 - val_loss: 0.0055 - val_mae: 0.0584\n",
            "Epoch 71/100\n",
            "285/285 [==============================] - 2s 8ms/step - loss: 0.0014 - mae: 0.0264 - val_loss: 0.0038 - val_mae: 0.0444\n",
            "Epoch 72/100\n",
            "285/285 [==============================] - 2s 8ms/step - loss: 0.0015 - mae: 0.0282 - val_loss: 0.0037 - val_mae: 0.0481\n",
            "Epoch 73/100\n",
            "285/285 [==============================] - 2s 8ms/step - loss: 0.0015 - mae: 0.0277 - val_loss: 0.0043 - val_mae: 0.0526\n",
            "Epoch 74/100\n",
            "285/285 [==============================] - 2s 8ms/step - loss: 0.0014 - mae: 0.0267 - val_loss: 0.0029 - val_mae: 0.0403\n",
            "Epoch 75/100\n",
            "285/285 [==============================] - 2s 8ms/step - loss: 0.0011 - mae: 0.0243 - val_loss: 0.0039 - val_mae: 0.0527\n",
            "Epoch 76/100\n",
            "285/285 [==============================] - 3s 9ms/step - loss: 9.8689e-04 - mae: 0.0233 - val_loss: 0.0024 - val_mae: 0.0342\n",
            "Epoch 77/100\n",
            "285/285 [==============================] - 2s 9ms/step - loss: 8.7762e-04 - mae: 0.0219 - val_loss: 0.0047 - val_mae: 0.0619\n",
            "Epoch 78/100\n",
            "285/285 [==============================] - 2s 8ms/step - loss: 0.0025 - mae: 0.0339 - val_loss: 0.0063 - val_mae: 0.0671\n",
            "Epoch 79/100\n",
            "285/285 [==============================] - 2s 8ms/step - loss: 0.0021 - mae: 0.0305 - val_loss: 0.0065 - val_mae: 0.0642\n",
            "Epoch 80/100\n",
            "285/285 [==============================] - 2s 8ms/step - loss: 0.0010 - mae: 0.0247 - val_loss: 0.0094 - val_mae: 0.0764\n",
            "Epoch 81/100\n",
            "285/285 [==============================] - 2s 8ms/step - loss: 0.0010 - mae: 0.0241 - val_loss: 0.0021 - val_mae: 0.0355\n",
            "Epoch 82/100\n",
            "285/285 [==============================] - 3s 9ms/step - loss: 0.0012 - mae: 0.0248 - val_loss: 0.0029 - val_mae: 0.0491\n",
            "Epoch 83/100\n",
            "285/285 [==============================] - 2s 8ms/step - loss: 9.0214e-04 - mae: 0.0223 - val_loss: 0.0020 - val_mae: 0.0382\n",
            "Epoch 84/100\n",
            "285/285 [==============================] - 2s 9ms/step - loss: 7.2287e-04 - mae: 0.0200 - val_loss: 0.0050 - val_mae: 0.0628\n",
            "Epoch 85/100\n",
            "285/285 [==============================] - 2s 8ms/step - loss: 0.0020 - mae: 0.0319 - val_loss: 0.0060 - val_mae: 0.0633\n",
            "Epoch 86/100\n",
            "285/285 [==============================] - 2s 9ms/step - loss: 0.0016 - mae: 0.0264 - val_loss: 0.0054 - val_mae: 0.0647\n",
            "Epoch 87/100\n",
            "285/285 [==============================] - 2s 8ms/step - loss: 9.4060e-04 - mae: 0.0230 - val_loss: 0.0083 - val_mae: 0.0796\n",
            "Epoch 88/100\n",
            "285/285 [==============================] - 2s 9ms/step - loss: 9.0286e-04 - mae: 0.0225 - val_loss: 0.0031 - val_mae: 0.0415\n",
            "Epoch 89/100\n",
            "285/285 [==============================] - 2s 9ms/step - loss: 0.0012 - mae: 0.0253 - val_loss: 0.0045 - val_mae: 0.0473\n",
            "Epoch 90/100\n",
            "285/285 [==============================] - 2s 8ms/step - loss: 0.0011 - mae: 0.0247 - val_loss: 0.0038 - val_mae: 0.0476\n",
            "Epoch 91/100\n",
            "285/285 [==============================] - 2s 8ms/step - loss: 8.4597e-04 - mae: 0.0213 - val_loss: 0.0027 - val_mae: 0.0436\n",
            "Epoch 92/100\n",
            "285/285 [==============================] - 2s 9ms/step - loss: 8.5554e-04 - mae: 0.0220 - val_loss: 0.0047 - val_mae: 0.0567\n",
            "Epoch 93/100\n",
            "285/285 [==============================] - 3s 9ms/step - loss: 9.9850e-04 - mae: 0.0232 - val_loss: 0.0042 - val_mae: 0.0520\n",
            "Epoch 94/100\n",
            "285/285 [==============================] - 2s 9ms/step - loss: 0.0012 - mae: 0.0241 - val_loss: 0.0090 - val_mae: 0.0804\n",
            "Epoch 95/100\n",
            "285/285 [==============================] - 2s 8ms/step - loss: 0.0011 - mae: 0.0243 - val_loss: 0.0070 - val_mae: 0.0616\n",
            "Epoch 96/100\n",
            "285/285 [==============================] - 2s 8ms/step - loss: 9.1001e-04 - mae: 0.0230 - val_loss: 0.0140 - val_mae: 0.0913\n",
            "Epoch 97/100\n",
            "285/285 [==============================] - 2s 8ms/step - loss: 0.0013 - mae: 0.0250 - val_loss: 0.0031 - val_mae: 0.0431\n",
            "Epoch 98/100\n",
            "285/285 [==============================] - 2s 8ms/step - loss: 8.5088e-04 - mae: 0.0218 - val_loss: 0.0077 - val_mae: 0.0674\n",
            "Epoch 99/100\n",
            "285/285 [==============================] - 2s 8ms/step - loss: 0.0012 - mae: 0.0241 - val_loss: 0.0069 - val_mae: 0.0673\n",
            "Epoch 100/100\n",
            "285/285 [==============================] - 2s 8ms/step - loss: 0.0012 - mae: 0.0244 - val_loss: 0.0067 - val_mae: 0.0671\n"
          ],
          "name": "stdout"
        }
      ]
    },
    {
      "cell_type": "code",
      "metadata": {
        "id": "oQ-MTGUUz_Ce",
        "outputId": "1e8c4062-dcc2-4eab-d655-c0df354cd73f",
        "colab": {
          "base_uri": "https://localhost:8080/"
        }
      },
      "source": [
        "history.history"
      ],
      "execution_count": 168,
      "outputs": [
        {
          "output_type": "execute_result",
          "data": {
            "text/plain": [
              "{'loss': [0.017175640910863876,\n",
              "  0.017107676714658737,\n",
              "  0.025888100266456604,\n",
              "  0.05000616982579231,\n",
              "  0.046208661049604416,\n",
              "  0.018386762589216232,\n",
              "  0.012278090231120586,\n",
              "  0.01606116257607937,\n",
              "  0.01178784016519785,\n",
              "  0.008070726878941059,\n",
              "  0.007998130284249783,\n",
              "  0.009378086775541306,\n",
              "  0.006944005843251944,\n",
              "  0.006939670071005821,\n",
              "  0.007008960470557213,\n",
              "  0.0063270581886172295,\n",
              "  0.005963188596069813,\n",
              "  0.006022515706717968,\n",
              "  0.005655893124639988,\n",
              "  0.006231770850718021,\n",
              "  0.005589199718087912,\n",
              "  0.004354736767709255,\n",
              "  0.003862234763801098,\n",
              "  0.002853641752153635,\n",
              "  0.003101494163274765,\n",
              "  0.002428211970254779,\n",
              "  0.00297674722969532,\n",
              "  0.002594584133476019,\n",
              "  0.0021257305052131414,\n",
              "  0.0019486098317429423,\n",
              "  0.0016444853972643614,\n",
              "  0.0019747146870940924,\n",
              "  0.0020696534775197506,\n",
              "  0.003501162165775895,\n",
              "  0.003686225274577737,\n",
              "  0.0033760054502636194,\n",
              "  0.0023840332869440317,\n",
              "  0.002143687568604946,\n",
              "  0.0017524786526337266,\n",
              "  0.0019887539092451334,\n",
              "  0.001866082544438541,\n",
              "  0.001679176464676857,\n",
              "  0.0016388462390750647,\n",
              "  0.0018938372377306223,\n",
              "  0.0017609064234420657,\n",
              "  0.0013927698601037264,\n",
              "  0.00130072224419564,\n",
              "  0.0013375873677432537,\n",
              "  0.0015910649672150612,\n",
              "  0.001991226803511381,\n",
              "  0.0015764225972816348,\n",
              "  0.0013682630378752947,\n",
              "  0.0012502854224294424,\n",
              "  0.0023432099260389805,\n",
              "  0.002708523301407695,\n",
              "  0.0017580154817551374,\n",
              "  0.0017920676618814468,\n",
              "  0.0015403665602207184,\n",
              "  0.0015287044225260615,\n",
              "  0.0013689405750483274,\n",
              "  0.0010022985516116023,\n",
              "  0.0009391820640303195,\n",
              "  0.0010555055923759937,\n",
              "  0.0011153675150126219,\n",
              "  0.001139308325946331,\n",
              "  0.0015149075770750642,\n",
              "  0.0015260892687365413,\n",
              "  0.0013702012365683913,\n",
              "  0.0012799820397049189,\n",
              "  0.0016531553119421005,\n",
              "  0.0013547592097893357,\n",
              "  0.001476998790167272,\n",
              "  0.0015316108474507928,\n",
              "  0.0014124000445008278,\n",
              "  0.0011311628622934222,\n",
              "  0.000986894010566175,\n",
              "  0.0008776212343946099,\n",
              "  0.002467973390594125,\n",
              "  0.0021219467744231224,\n",
              "  0.0010364633053541183,\n",
              "  0.0010410405229777098,\n",
              "  0.0011868519941344857,\n",
              "  0.0009021416772156954,\n",
              "  0.0007228660979308188,\n",
              "  0.002023270120844245,\n",
              "  0.0015725083649158478,\n",
              "  0.00094060436822474,\n",
              "  0.000902861007489264,\n",
              "  0.001207335153594613,\n",
              "  0.0010568121215328574,\n",
              "  0.0008459664531983435,\n",
              "  0.0008555378881283104,\n",
              "  0.0009984984062612057,\n",
              "  0.0011734392028301954,\n",
              "  0.0011152804363518953,\n",
              "  0.0009100086172111332,\n",
              "  0.0012846626341342926,\n",
              "  0.0008508787141181529,\n",
              "  0.0011731504928320646,\n",
              "  0.0012086046626791358],\n",
              " 'mae': [0.07902052998542786,\n",
              "  0.08245203644037247,\n",
              "  0.10705219954252243,\n",
              "  0.16607169806957245,\n",
              "  0.16476409137248993,\n",
              "  0.10200461745262146,\n",
              "  0.08026856184005737,\n",
              "  0.09122052043676376,\n",
              "  0.07913116365671158,\n",
              "  0.06473630666732788,\n",
              "  0.06133047118782997,\n",
              "  0.07021676003932953,\n",
              "  0.06099995598196983,\n",
              "  0.0600946769118309,\n",
              "  0.06015787646174431,\n",
              "  0.0564492791891098,\n",
              "  0.05424047261476517,\n",
              "  0.05204249918460846,\n",
              "  0.05055514723062515,\n",
              "  0.051695242524147034,\n",
              "  0.04968445748090744,\n",
              "  0.045062121003866196,\n",
              "  0.043608877807855606,\n",
              "  0.03766010329127312,\n",
              "  0.03908506780862808,\n",
              "  0.035724442452192307,\n",
              "  0.04115324467420578,\n",
              "  0.03785519301891327,\n",
              "  0.034534163773059845,\n",
              "  0.032845087349414825,\n",
              "  0.0297757089138031,\n",
              "  0.03331686928868294,\n",
              "  0.033918701112270355,\n",
              "  0.04022276774048805,\n",
              "  0.04191020503640175,\n",
              "  0.043281037360429764,\n",
              "  0.036358948796987534,\n",
              "  0.03460017219185829,\n",
              "  0.03136930242180824,\n",
              "  0.033254627138376236,\n",
              "  0.03216377645730972,\n",
              "  0.030689530074596405,\n",
              "  0.02971745654940605,\n",
              "  0.030660660937428474,\n",
              "  0.03012636862695217,\n",
              "  0.028150789439678192,\n",
              "  0.02689225599169731,\n",
              "  0.02744975872337818,\n",
              "  0.029743997380137444,\n",
              "  0.032010674476623535,\n",
              "  0.02814718708395958,\n",
              "  0.026956558227539062,\n",
              "  0.025015145540237427,\n",
              "  0.03607460856437683,\n",
              "  0.03487271070480347,\n",
              "  0.0312490314245224,\n",
              "  0.030644427984952927,\n",
              "  0.028523053973913193,\n",
              "  0.028379295021295547,\n",
              "  0.026674464344978333,\n",
              "  0.022934144362807274,\n",
              "  0.022463729605078697,\n",
              "  0.024218278005719185,\n",
              "  0.024835636839270592,\n",
              "  0.023946639150381088,\n",
              "  0.02612505666911602,\n",
              "  0.028875650838017464,\n",
              "  0.026572158560156822,\n",
              "  0.02733248844742775,\n",
              "  0.028303977102041245,\n",
              "  0.02638484537601471,\n",
              "  0.028185971081256866,\n",
              "  0.027692940086126328,\n",
              "  0.026695646345615387,\n",
              "  0.024291710928082466,\n",
              "  0.02326502650976181,\n",
              "  0.02185659110546112,\n",
              "  0.033873677253723145,\n",
              "  0.030460048466920853,\n",
              "  0.02468876913189888,\n",
              "  0.024135904386639595,\n",
              "  0.024757249280810356,\n",
              "  0.022284764796495438,\n",
              "  0.01998533494770527,\n",
              "  0.03189655765891075,\n",
              "  0.02644108608365059,\n",
              "  0.022993989288806915,\n",
              "  0.02246246673166752,\n",
              "  0.025289516896009445,\n",
              "  0.024681227281689644,\n",
              "  0.021268626675009727,\n",
              "  0.02198156528174877,\n",
              "  0.023245619609951973,\n",
              "  0.02405029535293579,\n",
              "  0.024309547618031502,\n",
              "  0.02304353006184101,\n",
              "  0.025040721520781517,\n",
              "  0.021778153255581856,\n",
              "  0.02405211143195629,\n",
              "  0.024356599897146225],\n",
              " 'val_loss': [0.028103459626436234,\n",
              "  0.030753888189792633,\n",
              "  0.06972300261259079,\n",
              "  0.05242596194148064,\n",
              "  0.02754434570670128,\n",
              "  0.03461909666657448,\n",
              "  0.0137205570936203,\n",
              "  0.025101808831095695,\n",
              "  0.05043502897024155,\n",
              "  0.09734462946653366,\n",
              "  0.04306728392839432,\n",
              "  0.07771453261375427,\n",
              "  0.05478406697511673,\n",
              "  0.052268970757722855,\n",
              "  0.048430874943733215,\n",
              "  0.05430502071976662,\n",
              "  0.04785812646150589,\n",
              "  0.04681754112243652,\n",
              "  0.036588799208402634,\n",
              "  0.0308344978839159,\n",
              "  0.029487276449799538,\n",
              "  0.024844352155923843,\n",
              "  0.021871697157621384,\n",
              "  0.028222326189279556,\n",
              "  0.015315686352550983,\n",
              "  0.017853086814284325,\n",
              "  0.01579286903142929,\n",
              "  0.021654019132256508,\n",
              "  0.0164288692176342,\n",
              "  0.01627998799085617,\n",
              "  0.009980740025639534,\n",
              "  0.022146914154291153,\n",
              "  0.02745557576417923,\n",
              "  0.005234295502305031,\n",
              "  0.008639729581773281,\n",
              "  0.01792985573410988,\n",
              "  0.016179440543055534,\n",
              "  0.013495299033820629,\n",
              "  0.012599514797329903,\n",
              "  0.010797584429383278,\n",
              "  0.010084149427711964,\n",
              "  0.008751318790018559,\n",
              "  0.009320645593106747,\n",
              "  0.009615378454327583,\n",
              "  0.008631665259599686,\n",
              "  0.007742251269519329,\n",
              "  0.008255120366811752,\n",
              "  0.0077704996801912785,\n",
              "  0.006639509461820126,\n",
              "  0.002169881947338581,\n",
              "  0.004340165760368109,\n",
              "  0.0032455450855195522,\n",
              "  0.008814389817416668,\n",
              "  0.004881285596638918,\n",
              "  0.005644474644213915,\n",
              "  0.003003926482051611,\n",
              "  0.0034456721041351557,\n",
              "  0.0027870507910847664,\n",
              "  0.0026386685203760862,\n",
              "  0.003440320957452059,\n",
              "  0.007598399184644222,\n",
              "  0.005563250742852688,\n",
              "  0.008237732574343681,\n",
              "  0.007298869080841541,\n",
              "  0.0066792587749660015,\n",
              "  0.003168450901284814,\n",
              "  0.0047948965802788734,\n",
              "  0.004118891898542643,\n",
              "  0.007108106277883053,\n",
              "  0.005497381091117859,\n",
              "  0.0037526306696236134,\n",
              "  0.003712957026436925,\n",
              "  0.004329094663262367,\n",
              "  0.002887765411287546,\n",
              "  0.003863963996991515,\n",
              "  0.0024213711731135845,\n",
              "  0.0046626063995063305,\n",
              "  0.0063405632972717285,\n",
              "  0.006451060064136982,\n",
              "  0.009447148069739342,\n",
              "  0.002086958847939968,\n",
              "  0.0029102128464728594,\n",
              "  0.0020271730609238148,\n",
              "  0.004988978151232004,\n",
              "  0.006003395654261112,\n",
              "  0.005418912973254919,\n",
              "  0.008257504552602768,\n",
              "  0.003134399652481079,\n",
              "  0.004502178635448217,\n",
              "  0.0037899846211075783,\n",
              "  0.002696956740692258,\n",
              "  0.004690027330070734,\n",
              "  0.0041952733881771564,\n",
              "  0.008999910205602646,\n",
              "  0.0070484960451722145,\n",
              "  0.013983926735818386,\n",
              "  0.0031048536766320467,\n",
              "  0.00773980189114809,\n",
              "  0.0068900384940207005,\n",
              "  0.006701319944113493],\n",
              " 'val_mae': [0.14071917533874512,\n",
              "  0.1442916840314865,\n",
              "  0.19576352834701538,\n",
              "  0.18188871443271637,\n",
              "  0.13831636309623718,\n",
              "  0.1596725881099701,\n",
              "  0.09897572547197342,\n",
              "  0.13070791959762573,\n",
              "  0.20379658043384552,\n",
              "  0.26678547263145447,\n",
              "  0.17529542744159698,\n",
              "  0.25527501106262207,\n",
              "  0.19710710644721985,\n",
              "  0.19403351843357086,\n",
              "  0.1927436888217926,\n",
              "  0.19007471203804016,\n",
              "  0.18157900869846344,\n",
              "  0.1745038479566574,\n",
              "  0.15168379247188568,\n",
              "  0.13668608665466309,\n",
              "  0.1474916934967041,\n",
              "  0.13561321794986725,\n",
              "  0.12938286364078522,\n",
              "  0.14590702950954437,\n",
              "  0.10570955276489258,\n",
              "  0.10949228703975677,\n",
              "  0.11153027415275574,\n",
              "  0.13154208660125732,\n",
              "  0.1186184361577034,\n",
              "  0.1158033013343811,\n",
              "  0.09232400357723236,\n",
              "  0.11440686136484146,\n",
              "  0.1231095939874649,\n",
              "  0.06431001424789429,\n",
              "  0.08365556597709656,\n",
              "  0.11728638410568237,\n",
              "  0.11600136756896973,\n",
              "  0.10232990980148315,\n",
              "  0.1017041951417923,\n",
              "  0.09551992267370224,\n",
              "  0.09028338640928268,\n",
              "  0.08277864009141922,\n",
              "  0.08591186255216599,\n",
              "  0.08198702335357666,\n",
              "  0.07682151347398758,\n",
              "  0.06941879540681839,\n",
              "  0.07166340947151184,\n",
              "  0.07142696529626846,\n",
              "  0.06432310491800308,\n",
              "  0.033541835844516754,\n",
              "  0.05026358366012573,\n",
              "  0.04479400813579559,\n",
              "  0.07651961594820023,\n",
              "  0.052039310336112976,\n",
              "  0.05297618731856346,\n",
              "  0.03942302241921425,\n",
              "  0.04286910593509674,\n",
              "  0.03864866867661476,\n",
              "  0.03917105495929718,\n",
              "  0.05053508281707764,\n",
              "  0.0767417922616005,\n",
              "  0.05987468361854553,\n",
              "  0.0778530165553093,\n",
              "  0.06831282377243042,\n",
              "  0.07024240493774414,\n",
              "  0.04228788614273071,\n",
              "  0.048825547099113464,\n",
              "  0.05410367250442505,\n",
              "  0.06947628408670425,\n",
              "  0.05837516859173775,\n",
              "  0.04441147670149803,\n",
              "  0.048137664794921875,\n",
              "  0.05264459550380707,\n",
              "  0.04032302647829056,\n",
              "  0.052668601274490356,\n",
              "  0.03416001424193382,\n",
              "  0.06192844361066818,\n",
              "  0.06713467091321945,\n",
              "  0.06422906368970871,\n",
              "  0.0763857439160347,\n",
              "  0.03548433259129524,\n",
              "  0.04908233508467674,\n",
              "  0.03817920386791229,\n",
              "  0.06281311064958572,\n",
              "  0.0633355900645256,\n",
              "  0.06474006175994873,\n",
              "  0.07963738590478897,\n",
              "  0.04154451563954353,\n",
              "  0.04727554693818092,\n",
              "  0.04755762964487076,\n",
              "  0.043553080409765244,\n",
              "  0.056657787412405014,\n",
              "  0.05196080729365349,\n",
              "  0.08040983974933624,\n",
              "  0.06159402057528496,\n",
              "  0.09130331128835678,\n",
              "  0.04311677813529968,\n",
              "  0.06738760322332382,\n",
              "  0.06725180149078369,\n",
              "  0.06707538664340973]}"
            ]
          },
          "metadata": {
            "tags": []
          },
          "execution_count": 168
        }
      ]
    },
    {
      "cell_type": "code",
      "metadata": {
        "id": "n5cISxAbyc2V",
        "outputId": "83a2159b-79f6-4caa-d52f-f37a7589f4b9",
        "colab": {
          "base_uri": "https://localhost:8080/",
          "height": 513
        }
      },
      "source": [
        "plt.figure(figsize=(10,8))\n",
        "train_loss= history.history['loss']\n",
        "test_loss = history.history['val_loss']\n",
        "plt.plot(range(len(train_loss)),train_loss)\n",
        "plt.plot(range(len(test_loss)),test_loss)\n",
        "plt.xlabel('Epoches')\n",
        "plt.ylabel('Losses')\n",
        "plt.title('Model loss observation')\n",
        "plt.legend(['Training losses','Validation_loss'])\n",
        "plt.show()"
      ],
      "execution_count": 165,
      "outputs": [
        {
          "output_type": "display_data",
          "data": {
            "image/png": "[encoded data removed]",
            "text/plain": [
              "<Figure size 720x576 with 1 Axes>"
            ]
          },
          "metadata": {
            "tags": [],
            "needs_background": "light"
          }
        }
      ]
    },
    {
      "cell_type": "code",
      "metadata": {
        "id": "3jitZf164d7G",
        "outputId": "a4468f25-bea6-4186-da75-241ec4a9f100",
        "colab": {
          "base_uri": "https://localhost:8080/",
          "height": 513
        }
      },
      "source": [
        "plt.figure(figsize=(10,8))\n",
        "train_loss= history.history['mae']\n",
        "test_loss = history.history['val_mae']\n",
        "plt.plot(range(len(train_loss)),train_loss)\n",
        "plt.plot(range(len(test_loss)),test_loss)\n",
        "plt.xlabel('Epoches')\n",
        "plt.ylabel('Mean Absolute error')\n",
        "plt.title('Model mean absolute error observation')\n",
        "plt.legend(['Training MAE losses','Validation_MAE_loss'])\n",
        "plt.show()"
      ],
      "execution_count": 169,
      "outputs": [
        {
          "output_type": "display_data",
          "data": {
            "image/png": "[encoded data removed]",
            "text/plain": [
              "<Figure size 720x576 with 1 Axes>"
            ]
          },
          "metadata": {
            "tags": [],
            "needs_background": "light"
          }
        }
      ]
    },
    {
      "cell_type": "code",
      "metadata": {
        "id": "SvrPRTpSsje5"
      },
      "source": [
        "first_evalution_batch = X_train[-12:]"
      ],
      "execution_count": 187,
      "outputs": []
    },
    {
      "cell_type": "code",
      "metadata": {
        "id": "1_vt4CZlsjcC",
        "outputId": "8f468e39-0966-4a2f-82ef-a8d04cb3e90b",
        "colab": {
          "base_uri": "https://localhost:8080/"
        }
      },
      "source": [
        "first_evalution_batch"
      ],
      "execution_count": 188,
      "outputs": [
        {
          "output_type": "execute_result",
          "data": {
            "text/plain": [
              "array([[0.11961722, 0.67836844, 0.01455055, 0.0141136 , 0.50904275],\n",
              "       [0.12559809, 0.67836844, 0.01196379, 0.016179  , 0.5117922 ],\n",
              "       [0.11961722, 0.67836844, 0.01896961, 0.01824441, 0.50904275],\n",
              "       [0.11961722, 0.67836844, 0.01552059, 0.01239243, 0.50904275],\n",
              "       [0.11961722, 0.67836844, 0.01552059, 0.01755594, 0.50904275],\n",
              "       [0.11961722, 0.67836844, 0.01552059, 0.016179  , 0.50904275],\n",
              "       [0.12559809, 0.68204614, 0.01552059, 0.01273666, 0.51541286],\n",
              "       [0.11961722, 0.68020729, 0.01552059, 0.01790017, 0.51085022],\n",
              "       [0.11961722, 0.68204614, 0.01552059, 0.01273666, 0.51265771],\n",
              "       [0.11961722, 0.68572384, 0.01552059, 0.01457258, 0.51627277],\n",
              "       [0.11961722, 0.68572384, 0.01552059, 0.01927711, 0.51627277],\n",
              "       [0.11961722, 0.68572384, 0.01552059, 0.01239243, 0.51627277]])"
            ]
          },
          "metadata": {
            "tags": []
          },
          "execution_count": 188
        }
      ]
    },
    {
      "cell_type": "code",
      "metadata": {
        "id": "D_HAjpYasjZ8",
        "outputId": "1ce99614-a8d1-45bb-8cdc-5ccefa42172f",
        "colab": {
          "base_uri": "https://localhost:8080/"
        }
      },
      "source": [
        "first_evalution_batch.shape"
      ],
      "execution_count": 189,
      "outputs": [
        {
          "output_type": "execute_result",
          "data": {
            "text/plain": [
              "(12, 5)"
            ]
          },
          "metadata": {
            "tags": []
          },
          "execution_count": 189
        }
      ]
    },
    {
      "cell_type": "code",
      "metadata": {
        "id": "w3RAJuTEsjWg"
      },
      "source": [
        "first_evalution_batch = first_evalution_batch.reshape(1,first_evalution_batch.shape[0],first_evalution_batch.shape[1])"
      ],
      "execution_count": 190,
      "outputs": []
    },
    {
      "cell_type": "code",
      "metadata": {
        "id": "vxLuK2LOsjT5"
      },
      "source": [
        "result=model.predict(first_evalution_batch)"
      ],
      "execution_count": 229,
      "outputs": []
    },
    {
      "cell_type": "code",
      "metadata": {
        "id": "iwAF1nL2HBDA",
        "outputId": "84cd96b6-cd00-4838-de54-58de4b62f015",
        "colab": {
          "base_uri": "https://localhost:8080/"
        }
      },
      "source": [
        "result = yscaler.inverse_transform(result)\n",
        "result"
      ],
      "execution_count": 230,
      "outputs": [
        {
          "output_type": "execute_result",
          "data": {
            "text/plain": [
              "array([[19.410305]], dtype=float32)"
            ]
          },
          "metadata": {
            "tags": []
          },
          "execution_count": 230
        }
      ]
    },
    {
      "cell_type": "code",
      "metadata": {
        "id": "zLXxBhahsjQE",
        "outputId": "4f00fb7e-014a-4fd1-9eff-7069f28de9c5",
        "colab": {
          "base_uri": "https://localhost:8080/"
        }
      },
      "source": [
        "first_evalution_batch.shape"
      ],
      "execution_count": 192,
      "outputs": [
        {
          "output_type": "execute_result",
          "data": {
            "text/plain": [
              "(1, 12, 5)"
            ]
          },
          "metadata": {
            "tags": []
          },
          "execution_count": 192
        }
      ]
    },
    {
      "cell_type": "code",
      "metadata": {
        "id": "S6WNF5ftCAOT",
        "outputId": "69e8e137-fc64-4122-c7df-d0f3f8de4725",
        "colab": {
          "base_uri": "https://localhost:8080/"
        }
      },
      "source": [
        "predictions = model.predict_generator(test_generator)"
      ],
      "execution_count": 200,
      "outputs": [
        {
          "output_type": "stream",
          "text": [
            "WARNING:tensorflow:From <ipython-input-200-9068eb02ed61>:1: Model.predict_generator (from tensorflow.python.keras.engine.training) is deprecated and will be removed in a future version.\n",
            "Instructions for updating:\n",
            "Please use Model.predict, which supports generators.\n"
          ],
          "name": "stdout"
        }
      ]
    },
    {
      "cell_type": "code",
      "metadata": {
        "id": "bV7zBG1fCALu",
        "outputId": "04f45317-122a-466d-f4d5-0bbdcabdab5b",
        "colab": {
          "base_uri": "https://localhost:8080/"
        }
      },
      "source": [
        "predictions"
      ],
      "execution_count": 201,
      "outputs": [
        {
          "output_type": "execute_result",
          "data": {
            "text/plain": [
              "array([[0.08250844],\n",
              "       [0.07720819],\n",
              "       [0.07208079],\n",
              "       ...,\n",
              "       [0.43631622],\n",
              "       [0.43832162],\n",
              "       [0.44027868]], dtype=float32)"
            ]
          },
          "metadata": {
            "tags": []
          },
          "execution_count": 201
        }
      ]
    },
    {
      "cell_type": "code",
      "metadata": {
        "id": "rtozTUuvCopq",
        "outputId": "cad81772-cf85-4e51-b4f2-bacf5d4aee6d",
        "colab": {
          "base_uri": "https://localhost:8080/"
        }
      },
      "source": [
        "predictions.shape"
      ],
      "execution_count": 202,
      "outputs": [
        {
          "output_type": "execute_result",
          "data": {
            "text/plain": [
              "(2431, 1)"
            ]
          },
          "metadata": {
            "tags": []
          },
          "execution_count": 202
        }
      ]
    },
    {
      "cell_type": "code",
      "metadata": {
        "id": "blEafwKTCojK"
      },
      "source": [
        "df_final = df[predictions.shape[0]*-1:]"
      ],
      "execution_count": 217,
      "outputs": []
    },
    {
      "cell_type": "code",
      "metadata": {
        "id": "zlSgvnwPCAHk",
        "outputId": "9cde379b-afca-4d49-bc32-346ad3df3a81",
        "colab": {
          "base_uri": "https://localhost:8080/"
        }
      },
      "source": [
        "df_final.count()"
      ],
      "execution_count": 221,
      "outputs": [
        {
          "output_type": "execute_result",
          "data": {
            "text/plain": [
              "Temperature      2431\n",
              "Humidity         2431\n",
              "Light            2431\n",
              "CO2              2431\n",
              "HumidityRatio    2431\n",
              "dtype: int64"
            ]
          },
          "metadata": {
            "tags": []
          },
          "execution_count": 221
        }
      ]
    },
    {
      "cell_type": "code",
      "metadata": {
        "id": "nln5z73sFbkw",
        "outputId": "60379ea7-ce1a-4f4a-a27e-cb00b0d4eca3",
        "colab": {
          "base_uri": "https://localhost:8080/"
        }
      },
      "source": [
        "predicted = yscaler.inverse_transform(predictions)\n",
        "predicted"
      ],
      "execution_count": 222,
      "outputs": [
        {
          "output_type": "execute_result",
          "data": {
            "text/plain": [
              "array([[19.344885],\n",
              "       [19.32273 ],\n",
              "       [19.301296],\n",
              "       ...,\n",
              "       [20.823803],\n",
              "       [20.832184],\n",
              "       [20.840364]], dtype=float32)"
            ]
          },
          "metadata": {
            "tags": []
          },
          "execution_count": 222
        }
      ]
    },
    {
      "cell_type": "code",
      "metadata": {
        "id": "aSWHX6zXFbzD",
        "outputId": "a7b285ef-0307-4de3-9c16-c701ca59c9f7",
        "colab": {
          "base_uri": "https://localhost:8080/"
        }
      },
      "source": [
        "df_final['Predicted_temperature'] = predicted"
      ],
      "execution_count": 225,
      "outputs": [
        {
          "output_type": "stream",
          "text": [
            "/usr/local/lib/python3.6/dist-packages/ipykernel_launcher.py:1: SettingWithCopyWarning: \n",
            "A value is trying to be set on a copy of a slice from a DataFrame.\n",
            "Try using .loc[row_indexer,col_indexer] = value instead\n",
            "\n",
            "See the caveats in the documentation: https://pandas.pydata.org/pandas-docs/stable/user_guide/indexing.html#returning-a-view-versus-a-copy\n",
            "  \"\"\"Entry point for launching an IPython kernel.\n"
          ],
          "name": "stderr"
        }
      ]
    },
    {
      "cell_type": "code",
      "metadata": {
        "id": "vIb-W-eBGCBB",
        "outputId": "1053dfdc-5d70-490a-cda2-ed88d69cbb83",
        "colab": {
          "base_uri": "https://localhost:8080/",
          "height": 527
        }
      },
      "source": [
        "df_final[:15]"
      ],
      "execution_count": 228,
      "outputs": [
        {
          "output_type": "execute_result",
          "data": {
            "text/html": [
              "<div>\n",
              "<style scoped>\n",
              "    .dataframe tbody tr th:only-of-type {\n",
              "        vertical-align: middle;\n",
              "    }\n",
              "\n",
              "    .dataframe tbody tr th {\n",
              "        vertical-align: top;\n",
              "    }\n",
              "\n",
              "    .dataframe thead th {\n",
              "        text-align: right;\n",
              "    }\n",
              "</style>\n",
              "<table border=\"1\" class=\"dataframe\">\n",
              "  <thead>\n",
              "    <tr style=\"text-align: right;\">\n",
              "      <th></th>\n",
              "      <th>Temperature</th>\n",
              "      <th>Humidity</th>\n",
              "      <th>Light</th>\n",
              "      <th>CO2</th>\n",
              "      <th>HumidityRatio</th>\n",
              "      <th>Predicted_temperature</th>\n",
              "    </tr>\n",
              "    <tr>\n",
              "      <th>date</th>\n",
              "      <th></th>\n",
              "      <th></th>\n",
              "      <th></th>\n",
              "      <th></th>\n",
              "      <th></th>\n",
              "      <th></th>\n",
              "    </tr>\n",
              "  </thead>\n",
              "  <tbody>\n",
              "    <tr>\n",
              "      <th>2015-02-08 17:03:00</th>\n",
              "      <td>19.426667</td>\n",
              "      <td>27.133333</td>\n",
              "      <td>6.000000</td>\n",
              "      <td>423.000000</td>\n",
              "      <td>0.003782</td>\n",
              "      <td>19.344885</td>\n",
              "    </tr>\n",
              "    <tr>\n",
              "      <th>2015-02-08 17:04:00</th>\n",
              "      <td>19.417500</td>\n",
              "      <td>27.125000</td>\n",
              "      <td>6.000000</td>\n",
              "      <td>428.000000</td>\n",
              "      <td>0.003779</td>\n",
              "      <td>19.322729</td>\n",
              "    </tr>\n",
              "    <tr>\n",
              "      <th>2015-02-08 17:05:00</th>\n",
              "      <td>19.390000</td>\n",
              "      <td>27.100000</td>\n",
              "      <td>6.000000</td>\n",
              "      <td>423.750000</td>\n",
              "      <td>0.003769</td>\n",
              "      <td>19.301296</td>\n",
              "    </tr>\n",
              "    <tr>\n",
              "      <th>2015-02-08 17:06:00</th>\n",
              "      <td>19.426667</td>\n",
              "      <td>27.133333</td>\n",
              "      <td>6.000000</td>\n",
              "      <td>428.000000</td>\n",
              "      <td>0.003782</td>\n",
              "      <td>19.285921</td>\n",
              "    </tr>\n",
              "    <tr>\n",
              "      <th>2015-02-08 17:06:59</th>\n",
              "      <td>19.426667</td>\n",
              "      <td>27.133333</td>\n",
              "      <td>6.000000</td>\n",
              "      <td>426.333333</td>\n",
              "      <td>0.003782</td>\n",
              "      <td>19.274204</td>\n",
              "    </tr>\n",
              "    <tr>\n",
              "      <th>2015-02-08 17:08:00</th>\n",
              "      <td>19.390000</td>\n",
              "      <td>27.100000</td>\n",
              "      <td>11.500000</td>\n",
              "      <td>429.500000</td>\n",
              "      <td>0.003769</td>\n",
              "      <td>19.265106</td>\n",
              "    </tr>\n",
              "    <tr>\n",
              "      <th>2015-02-08 17:09:00</th>\n",
              "      <td>19.426667</td>\n",
              "      <td>27.166667</td>\n",
              "      <td>20.666667</td>\n",
              "      <td>427.000000</td>\n",
              "      <td>0.003787</td>\n",
              "      <td>19.259043</td>\n",
              "    </tr>\n",
              "    <tr>\n",
              "      <th>2015-02-08 17:10:00</th>\n",
              "      <td>19.390000</td>\n",
              "      <td>27.125000</td>\n",
              "      <td>17.000000</td>\n",
              "      <td>424.250000</td>\n",
              "      <td>0.003772</td>\n",
              "      <td>19.259548</td>\n",
              "    </tr>\n",
              "    <tr>\n",
              "      <th>2015-02-08 17:10:59</th>\n",
              "      <td>19.390000</td>\n",
              "      <td>27.200000</td>\n",
              "      <td>17.000000</td>\n",
              "      <td>423.000000</td>\n",
              "      <td>0.003783</td>\n",
              "      <td>19.263630</td>\n",
              "    </tr>\n",
              "    <tr>\n",
              "      <th>2015-02-08 17:12:00</th>\n",
              "      <td>19.390000</td>\n",
              "      <td>27.133333</td>\n",
              "      <td>20.666667</td>\n",
              "      <td>424.000000</td>\n",
              "      <td>0.003773</td>\n",
              "      <td>19.262175</td>\n",
              "    </tr>\n",
              "    <tr>\n",
              "      <th>2015-02-08 17:12:59</th>\n",
              "      <td>19.390000</td>\n",
              "      <td>27.150000</td>\n",
              "      <td>17.000000</td>\n",
              "      <td>423.500000</td>\n",
              "      <td>0.003776</td>\n",
              "      <td>19.259624</td>\n",
              "    </tr>\n",
              "    <tr>\n",
              "      <th>2015-02-08 17:13:59</th>\n",
              "      <td>19.390000</td>\n",
              "      <td>27.100000</td>\n",
              "      <td>17.000000</td>\n",
              "      <td>425.750000</td>\n",
              "      <td>0.003769</td>\n",
              "      <td>19.261520</td>\n",
              "    </tr>\n",
              "    <tr>\n",
              "      <th>2015-02-08 17:15:00</th>\n",
              "      <td>19.390000</td>\n",
              "      <td>27.150000</td>\n",
              "      <td>17.000000</td>\n",
              "      <td>426.750000</td>\n",
              "      <td>0.003776</td>\n",
              "      <td>19.260954</td>\n",
              "    </tr>\n",
              "    <tr>\n",
              "      <th>2015-02-08 17:16:00</th>\n",
              "      <td>19.445000</td>\n",
              "      <td>27.200000</td>\n",
              "      <td>17.000000</td>\n",
              "      <td>434.500000</td>\n",
              "      <td>0.003796</td>\n",
              "      <td>19.258965</td>\n",
              "    </tr>\n",
              "    <tr>\n",
              "      <th>2015-02-08 17:17:00</th>\n",
              "      <td>19.390000</td>\n",
              "      <td>27.200000</td>\n",
              "      <td>20.666667</td>\n",
              "      <td>426.000000</td>\n",
              "      <td>0.003783</td>\n",
              "      <td>19.262957</td>\n",
              "    </tr>\n",
              "  </tbody>\n",
              "</table>\n",
              "</div>"
            ],
            "text/plain": [
              "                     Temperature  ...  Predicted_temperature\n",
              "date                              ...                       \n",
              "2015-02-08 17:03:00    19.426667  ...              19.344885\n",
              "2015-02-08 17:04:00    19.417500  ...              19.322729\n",
              "2015-02-08 17:05:00    19.390000  ...              19.301296\n",
              "2015-02-08 17:06:00    19.426667  ...              19.285921\n",
              "2015-02-08 17:06:59    19.426667  ...              19.274204\n",
              "2015-02-08 17:08:00    19.390000  ...              19.265106\n",
              "2015-02-08 17:09:00    19.426667  ...              19.259043\n",
              "2015-02-08 17:10:00    19.390000  ...              19.259548\n",
              "2015-02-08 17:10:59    19.390000  ...              19.263630\n",
              "2015-02-08 17:12:00    19.390000  ...              19.262175\n",
              "2015-02-08 17:12:59    19.390000  ...              19.259624\n",
              "2015-02-08 17:13:59    19.390000  ...              19.261520\n",
              "2015-02-08 17:15:00    19.390000  ...              19.260954\n",
              "2015-02-08 17:16:00    19.445000  ...              19.258965\n",
              "2015-02-08 17:17:00    19.390000  ...              19.262957\n",
              "\n",
              "[15 rows x 6 columns]"
            ]
          },
          "metadata": {
            "tags": []
          },
          "execution_count": 228
        }
      ]
    },
    {
      "cell_type": "code",
      "metadata": {
        "id": "IDh2ttVXHcaR",
        "outputId": "4cdbec13-ed4f-474e-dfa5-1ef2094c69f1",
        "colab": {
          "base_uri": "https://localhost:8080/",
          "height": 525
        }
      },
      "source": [
        "df_final[['Temperature','Predicted_temperature']].plot(figsize=(25,9))"
      ],
      "execution_count": 232,
      "outputs": [
        {
          "output_type": "execute_result",
          "data": {
            "text/plain": [
              "<matplotlib.axes._subplots.AxesSubplot at 0x7f0811e3fa90>"
            ]
          },
          "metadata": {
            "tags": []
          },
          "execution_count": 232
        },
        {
          "output_type": "display_data",
          "data": {
            "image/png": "[encoded data removed]",
            "text/plain": [
              "<Figure size 1800x648 with 1 Axes>"
            ]
          },
          "metadata": {
            "tags": [],
            "needs_background": "light"
          }
        }
      ]
    }
  ]
}