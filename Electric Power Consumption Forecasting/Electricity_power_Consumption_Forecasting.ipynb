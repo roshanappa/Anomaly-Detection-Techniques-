{
  "nbformat": 4,
  "nbformat_minor": 0,
  "metadata": {
    "colab": {
      "name": "Electricity power Consumption Forecasting.ipynb",
      "provenance": [],
      "authorship_tag": "ABX9TyNgLjb7TTyH3U7F/p8wwp6M",
      "include_colab_link": true
    },
    "kernelspec": {
      "name": "python3",
      "display_name": "Python 3"
    },
    "accelerator": "GPU"
  },
  "cells": [
    {
      "cell_type": "markdown",
      "metadata": {
        "id": "view-in-github",
        "colab_type": "text"
      },
      "source": [
        "<a href=\"https://colab.research.google.com/github/roshanappa/Anomaly-Detection-Techniques-/blob/master/Electric%20Power%20Consumption%20Forecasting/Electricity_power_Consumption_Forecasting.ipynb\" target=\"_parent\"><img src=\"https://colab.research.google.com/assets/colab-badge.svg\" alt=\"Open In Colab\"/></a>"
      ]
    },
    {
      "cell_type": "markdown",
      "metadata": {
        "id": "rz55jxXk769u"
      },
      "source": [
        "## Importing The Necessary Libraries"
      ]
    },
    {
      "cell_type": "code",
      "metadata": {
        "id": "7kQotXyS735H"
      },
      "source": [
        "import numpy as np\n",
        "import pandas as pd\n",
        "import matplotlib as mpl\n",
        "import seaborn as sns"
      ],
      "execution_count": 53,
      "outputs": []
    },
    {
      "cell_type": "code",
      "metadata": {
        "id": "QjW88rVM74CX"
      },
      "source": [
        "from sklearn.preprocessing import StandardScaler,MinMaxScaler\n",
        "from sklearn.model_selection import train_test_split"
      ],
      "execution_count": 54,
      "outputs": []
    },
    {
      "cell_type": "code",
      "metadata": {
        "id": "XjfriWRu74Iz"
      },
      "source": [
        "from tensorflow.keras import Sequential\n",
        "from tensorflow.keras.layers import Dense,LSTM,Dropout\n",
        "from tensorflow.keras.preprocessing.sequence import TimeseriesGenerator"
      ],
      "execution_count": 55,
      "outputs": []
    },
    {
      "cell_type": "code",
      "metadata": {
        "id": "3bZMet1k74HH"
      },
      "source": [
        "mpl.rcParams['figure.figsize']=(10,9)\n",
        "mpl.rcParams['axes.grid']=False"
      ],
      "execution_count": 56,
      "outputs": []
    },
    {
      "cell_type": "code",
      "metadata": {
        "id": "K94zjMpM74BP",
        "outputId": "be769090-30c5-4c6e-a340-fc4db64f21a7",
        "colab": {
          "base_uri": "https://localhost:8080/"
        }
      },
      "source": [
        "df = pd.read_csv('https://archive.ics.uci.edu/ml/machine-learning-databases/00235/household_power_consumption.zip',sep=';')"
      ],
      "execution_count": 57,
      "outputs": [
        {
          "output_type": "stream",
          "text": [
            "/usr/local/lib/python3.6/dist-packages/IPython/core/interactiveshell.py:2718: DtypeWarning: Columns (2,3,4,5,6,7) have mixed types.Specify dtype option on import or set low_memory=False.\n",
            "  interactivity=interactivity, compiler=compiler, result=result)\n"
          ],
          "name": "stderr"
        }
      ]
    },
    {
      "cell_type": "markdown",
      "metadata": {
        "id": "cJ9GDPBUH_kB"
      },
      "source": [
        "## Preprocessing Of The Data."
      ]
    },
    {
      "cell_type": "code",
      "metadata": {
        "id": "rvUcq9wi7330",
        "outputId": "a31ab444-ee3c-4262-8336-ffee8d17377c",
        "colab": {
          "base_uri": "https://localhost:8080/",
          "height": 197
        }
      },
      "source": [
        "df.head()"
      ],
      "execution_count": 58,
      "outputs": [
        {
          "output_type": "execute_result",
          "data": {
            "text/html": [
              "<div>\n",
              "<style scoped>\n",
              "    .dataframe tbody tr th:only-of-type {\n",
              "        vertical-align: middle;\n",
              "    }\n",
              "\n",
              "    .dataframe tbody tr th {\n",
              "        vertical-align: top;\n",
              "    }\n",
              "\n",
              "    .dataframe thead th {\n",
              "        text-align: right;\n",
              "    }\n",
              "</style>\n",
              "<table border=\"1\" class=\"dataframe\">\n",
              "  <thead>\n",
              "    <tr style=\"text-align: right;\">\n",
              "      <th></th>\n",
              "      <th>Date</th>\n",
              "      <th>Time</th>\n",
              "      <th>Global_active_power</th>\n",
              "      <th>Global_reactive_power</th>\n",
              "      <th>Voltage</th>\n",
              "      <th>Global_intensity</th>\n",
              "      <th>Sub_metering_1</th>\n",
              "      <th>Sub_metering_2</th>\n",
              "      <th>Sub_metering_3</th>\n",
              "    </tr>\n",
              "  </thead>\n",
              "  <tbody>\n",
              "    <tr>\n",
              "      <th>0</th>\n",
              "      <td>16/12/2006</td>\n",
              "      <td>17:24:00</td>\n",
              "      <td>4.216</td>\n",
              "      <td>0.418</td>\n",
              "      <td>234.840</td>\n",
              "      <td>18.400</td>\n",
              "      <td>0.000</td>\n",
              "      <td>1.000</td>\n",
              "      <td>17.0</td>\n",
              "    </tr>\n",
              "    <tr>\n",
              "      <th>1</th>\n",
              "      <td>16/12/2006</td>\n",
              "      <td>17:25:00</td>\n",
              "      <td>5.360</td>\n",
              "      <td>0.436</td>\n",
              "      <td>233.630</td>\n",
              "      <td>23.000</td>\n",
              "      <td>0.000</td>\n",
              "      <td>1.000</td>\n",
              "      <td>16.0</td>\n",
              "    </tr>\n",
              "    <tr>\n",
              "      <th>2</th>\n",
              "      <td>16/12/2006</td>\n",
              "      <td>17:26:00</td>\n",
              "      <td>5.374</td>\n",
              "      <td>0.498</td>\n",
              "      <td>233.290</td>\n",
              "      <td>23.000</td>\n",
              "      <td>0.000</td>\n",
              "      <td>2.000</td>\n",
              "      <td>17.0</td>\n",
              "    </tr>\n",
              "    <tr>\n",
              "      <th>3</th>\n",
              "      <td>16/12/2006</td>\n",
              "      <td>17:27:00</td>\n",
              "      <td>5.388</td>\n",
              "      <td>0.502</td>\n",
              "      <td>233.740</td>\n",
              "      <td>23.000</td>\n",
              "      <td>0.000</td>\n",
              "      <td>1.000</td>\n",
              "      <td>17.0</td>\n",
              "    </tr>\n",
              "    <tr>\n",
              "      <th>4</th>\n",
              "      <td>16/12/2006</td>\n",
              "      <td>17:28:00</td>\n",
              "      <td>3.666</td>\n",
              "      <td>0.528</td>\n",
              "      <td>235.680</td>\n",
              "      <td>15.800</td>\n",
              "      <td>0.000</td>\n",
              "      <td>1.000</td>\n",
              "      <td>17.0</td>\n",
              "    </tr>\n",
              "  </tbody>\n",
              "</table>\n",
              "</div>"
            ],
            "text/plain": [
              "         Date      Time  ... Sub_metering_2 Sub_metering_3\n",
              "0  16/12/2006  17:24:00  ...          1.000           17.0\n",
              "1  16/12/2006  17:25:00  ...          1.000           16.0\n",
              "2  16/12/2006  17:26:00  ...          2.000           17.0\n",
              "3  16/12/2006  17:27:00  ...          1.000           17.0\n",
              "4  16/12/2006  17:28:00  ...          1.000           17.0\n",
              "\n",
              "[5 rows x 9 columns]"
            ]
          },
          "metadata": {
            "tags": []
          },
          "execution_count": 58
        }
      ]
    },
    {
      "cell_type": "code",
      "metadata": {
        "id": "0Ufb0X58731h",
        "outputId": "ec6d5d5b-65b7-4fc6-b1cd-749200cf10e6",
        "colab": {
          "base_uri": "https://localhost:8080/",
          "height": 197
        }
      },
      "source": [
        "df.tail()"
      ],
      "execution_count": 59,
      "outputs": [
        {
          "output_type": "execute_result",
          "data": {
            "text/html": [
              "<div>\n",
              "<style scoped>\n",
              "    .dataframe tbody tr th:only-of-type {\n",
              "        vertical-align: middle;\n",
              "    }\n",
              "\n",
              "    .dataframe tbody tr th {\n",
              "        vertical-align: top;\n",
              "    }\n",
              "\n",
              "    .dataframe thead th {\n",
              "        text-align: right;\n",
              "    }\n",
              "</style>\n",
              "<table border=\"1\" class=\"dataframe\">\n",
              "  <thead>\n",
              "    <tr style=\"text-align: right;\">\n",
              "      <th></th>\n",
              "      <th>Date</th>\n",
              "      <th>Time</th>\n",
              "      <th>Global_active_power</th>\n",
              "      <th>Global_reactive_power</th>\n",
              "      <th>Voltage</th>\n",
              "      <th>Global_intensity</th>\n",
              "      <th>Sub_metering_1</th>\n",
              "      <th>Sub_metering_2</th>\n",
              "      <th>Sub_metering_3</th>\n",
              "    </tr>\n",
              "  </thead>\n",
              "  <tbody>\n",
              "    <tr>\n",
              "      <th>2075254</th>\n",
              "      <td>26/11/2010</td>\n",
              "      <td>20:58:00</td>\n",
              "      <td>0.946</td>\n",
              "      <td>0</td>\n",
              "      <td>240.43</td>\n",
              "      <td>4</td>\n",
              "      <td>0</td>\n",
              "      <td>0</td>\n",
              "      <td>0.0</td>\n",
              "    </tr>\n",
              "    <tr>\n",
              "      <th>2075255</th>\n",
              "      <td>26/11/2010</td>\n",
              "      <td>20:59:00</td>\n",
              "      <td>0.944</td>\n",
              "      <td>0</td>\n",
              "      <td>240</td>\n",
              "      <td>4</td>\n",
              "      <td>0</td>\n",
              "      <td>0</td>\n",
              "      <td>0.0</td>\n",
              "    </tr>\n",
              "    <tr>\n",
              "      <th>2075256</th>\n",
              "      <td>26/11/2010</td>\n",
              "      <td>21:00:00</td>\n",
              "      <td>0.938</td>\n",
              "      <td>0</td>\n",
              "      <td>239.82</td>\n",
              "      <td>3.8</td>\n",
              "      <td>0</td>\n",
              "      <td>0</td>\n",
              "      <td>0.0</td>\n",
              "    </tr>\n",
              "    <tr>\n",
              "      <th>2075257</th>\n",
              "      <td>26/11/2010</td>\n",
              "      <td>21:01:00</td>\n",
              "      <td>0.934</td>\n",
              "      <td>0</td>\n",
              "      <td>239.7</td>\n",
              "      <td>3.8</td>\n",
              "      <td>0</td>\n",
              "      <td>0</td>\n",
              "      <td>0.0</td>\n",
              "    </tr>\n",
              "    <tr>\n",
              "      <th>2075258</th>\n",
              "      <td>26/11/2010</td>\n",
              "      <td>21:02:00</td>\n",
              "      <td>0.932</td>\n",
              "      <td>0</td>\n",
              "      <td>239.55</td>\n",
              "      <td>3.8</td>\n",
              "      <td>0</td>\n",
              "      <td>0</td>\n",
              "      <td>0.0</td>\n",
              "    </tr>\n",
              "  </tbody>\n",
              "</table>\n",
              "</div>"
            ],
            "text/plain": [
              "               Date      Time  ... Sub_metering_2 Sub_metering_3\n",
              "2075254  26/11/2010  20:58:00  ...              0            0.0\n",
              "2075255  26/11/2010  20:59:00  ...              0            0.0\n",
              "2075256  26/11/2010  21:00:00  ...              0            0.0\n",
              "2075257  26/11/2010  21:01:00  ...              0            0.0\n",
              "2075258  26/11/2010  21:02:00  ...              0            0.0\n",
              "\n",
              "[5 rows x 9 columns]"
            ]
          },
          "metadata": {
            "tags": []
          },
          "execution_count": 59
        }
      ]
    },
    {
      "cell_type": "code",
      "metadata": {
        "id": "RSA6GYY4730B",
        "outputId": "f3fdd602-d9a1-4ce3-c923-03c16444e1b8",
        "colab": {
          "base_uri": "https://localhost:8080/"
        }
      },
      "source": [
        "df.dtypes"
      ],
      "execution_count": 60,
      "outputs": [
        {
          "output_type": "execute_result",
          "data": {
            "text/plain": [
              "Date                      object\n",
              "Time                      object\n",
              "Global_active_power       object\n",
              "Global_reactive_power     object\n",
              "Voltage                   object\n",
              "Global_intensity          object\n",
              "Sub_metering_1            object\n",
              "Sub_metering_2            object\n",
              "Sub_metering_3           float64\n",
              "dtype: object"
            ]
          },
          "metadata": {
            "tags": []
          },
          "execution_count": 60
        }
      ]
    },
    {
      "cell_type": "code",
      "metadata": {
        "id": "nDZk5cll8z9l",
        "outputId": "15d7c35a-7fa8-4bd2-bf69-033659f49845",
        "colab": {
          "base_uri": "https://localhost:8080/"
        }
      },
      "source": [
        "df.isnull().sum()"
      ],
      "execution_count": 61,
      "outputs": [
        {
          "output_type": "execute_result",
          "data": {
            "text/plain": [
              "Date                         0\n",
              "Time                         0\n",
              "Global_active_power          0\n",
              "Global_reactive_power        0\n",
              "Voltage                      0\n",
              "Global_intensity             0\n",
              "Sub_metering_1               0\n",
              "Sub_metering_2               0\n",
              "Sub_metering_3           25979\n",
              "dtype: int64"
            ]
          },
          "metadata": {
            "tags": []
          },
          "execution_count": 61
        }
      ]
    },
    {
      "cell_type": "code",
      "metadata": {
        "id": "uUa8dc2m80Dr",
        "outputId": "43988738-c548-4d08-818c-011f652be178",
        "colab": {
          "base_uri": "https://localhost:8080/",
          "height": 197
        }
      },
      "source": [
        "df['DateTime'] = df['Date'].str.cat(df['Time'],sep=' ')\n",
        "df.head()"
      ],
      "execution_count": 62,
      "outputs": [
        {
          "output_type": "execute_result",
          "data": {
            "text/html": [
              "<div>\n",
              "<style scoped>\n",
              "    .dataframe tbody tr th:only-of-type {\n",
              "        vertical-align: middle;\n",
              "    }\n",
              "\n",
              "    .dataframe tbody tr th {\n",
              "        vertical-align: top;\n",
              "    }\n",
              "\n",
              "    .dataframe thead th {\n",
              "        text-align: right;\n",
              "    }\n",
              "</style>\n",
              "<table border=\"1\" class=\"dataframe\">\n",
              "  <thead>\n",
              "    <tr style=\"text-align: right;\">\n",
              "      <th></th>\n",
              "      <th>Date</th>\n",
              "      <th>Time</th>\n",
              "      <th>Global_active_power</th>\n",
              "      <th>Global_reactive_power</th>\n",
              "      <th>Voltage</th>\n",
              "      <th>Global_intensity</th>\n",
              "      <th>Sub_metering_1</th>\n",
              "      <th>Sub_metering_2</th>\n",
              "      <th>Sub_metering_3</th>\n",
              "      <th>DateTime</th>\n",
              "    </tr>\n",
              "  </thead>\n",
              "  <tbody>\n",
              "    <tr>\n",
              "      <th>0</th>\n",
              "      <td>16/12/2006</td>\n",
              "      <td>17:24:00</td>\n",
              "      <td>4.216</td>\n",
              "      <td>0.418</td>\n",
              "      <td>234.840</td>\n",
              "      <td>18.400</td>\n",
              "      <td>0.000</td>\n",
              "      <td>1.000</td>\n",
              "      <td>17.0</td>\n",
              "      <td>16/12/2006 17:24:00</td>\n",
              "    </tr>\n",
              "    <tr>\n",
              "      <th>1</th>\n",
              "      <td>16/12/2006</td>\n",
              "      <td>17:25:00</td>\n",
              "      <td>5.360</td>\n",
              "      <td>0.436</td>\n",
              "      <td>233.630</td>\n",
              "      <td>23.000</td>\n",
              "      <td>0.000</td>\n",
              "      <td>1.000</td>\n",
              "      <td>16.0</td>\n",
              "      <td>16/12/2006 17:25:00</td>\n",
              "    </tr>\n",
              "    <tr>\n",
              "      <th>2</th>\n",
              "      <td>16/12/2006</td>\n",
              "      <td>17:26:00</td>\n",
              "      <td>5.374</td>\n",
              "      <td>0.498</td>\n",
              "      <td>233.290</td>\n",
              "      <td>23.000</td>\n",
              "      <td>0.000</td>\n",
              "      <td>2.000</td>\n",
              "      <td>17.0</td>\n",
              "      <td>16/12/2006 17:26:00</td>\n",
              "    </tr>\n",
              "    <tr>\n",
              "      <th>3</th>\n",
              "      <td>16/12/2006</td>\n",
              "      <td>17:27:00</td>\n",
              "      <td>5.388</td>\n",
              "      <td>0.502</td>\n",
              "      <td>233.740</td>\n",
              "      <td>23.000</td>\n",
              "      <td>0.000</td>\n",
              "      <td>1.000</td>\n",
              "      <td>17.0</td>\n",
              "      <td>16/12/2006 17:27:00</td>\n",
              "    </tr>\n",
              "    <tr>\n",
              "      <th>4</th>\n",
              "      <td>16/12/2006</td>\n",
              "      <td>17:28:00</td>\n",
              "      <td>3.666</td>\n",
              "      <td>0.528</td>\n",
              "      <td>235.680</td>\n",
              "      <td>15.800</td>\n",
              "      <td>0.000</td>\n",
              "      <td>1.000</td>\n",
              "      <td>17.0</td>\n",
              "      <td>16/12/2006 17:28:00</td>\n",
              "    </tr>\n",
              "  </tbody>\n",
              "</table>\n",
              "</div>"
            ],
            "text/plain": [
              "         Date      Time  ... Sub_metering_3             DateTime\n",
              "0  16/12/2006  17:24:00  ...           17.0  16/12/2006 17:24:00\n",
              "1  16/12/2006  17:25:00  ...           16.0  16/12/2006 17:25:00\n",
              "2  16/12/2006  17:26:00  ...           17.0  16/12/2006 17:26:00\n",
              "3  16/12/2006  17:27:00  ...           17.0  16/12/2006 17:27:00\n",
              "4  16/12/2006  17:28:00  ...           17.0  16/12/2006 17:28:00\n",
              "\n",
              "[5 rows x 10 columns]"
            ]
          },
          "metadata": {
            "tags": []
          },
          "execution_count": 62
        }
      ]
    },
    {
      "cell_type": "code",
      "metadata": {
        "id": "dRWnD81X80TB"
      },
      "source": [
        "df.drop(columns=['Date','Time'],inplace=True)"
      ],
      "execution_count": 63,
      "outputs": []
    },
    {
      "cell_type": "code",
      "metadata": {
        "id": "IwytgMAeKbk0",
        "outputId": "28dafc7c-f9cf-4852-ed4e-764e840f707d",
        "colab": {
          "base_uri": "https://localhost:8080/"
        }
      },
      "source": [
        "df.columns"
      ],
      "execution_count": 64,
      "outputs": [
        {
          "output_type": "execute_result",
          "data": {
            "text/plain": [
              "Index(['Global_active_power', 'Global_reactive_power', 'Voltage',\n",
              "       'Global_intensity', 'Sub_metering_1', 'Sub_metering_2',\n",
              "       'Sub_metering_3', 'DateTime'],\n",
              "      dtype='object')"
            ]
          },
          "metadata": {
            "tags": []
          },
          "execution_count": 64
        }
      ]
    },
    {
      "cell_type": "code",
      "metadata": {
        "id": "Ep0zU9tTKeFe",
        "outputId": "aab144ac-d10a-426b-9e99-969355c64a56",
        "colab": {
          "base_uri": "https://localhost:8080/",
          "height": 197
        }
      },
      "source": [
        "df.head()"
      ],
      "execution_count": 65,
      "outputs": [
        {
          "output_type": "execute_result",
          "data": {
            "text/html": [
              "<div>\n",
              "<style scoped>\n",
              "    .dataframe tbody tr th:only-of-type {\n",
              "        vertical-align: middle;\n",
              "    }\n",
              "\n",
              "    .dataframe tbody tr th {\n",
              "        vertical-align: top;\n",
              "    }\n",
              "\n",
              "    .dataframe thead th {\n",
              "        text-align: right;\n",
              "    }\n",
              "</style>\n",
              "<table border=\"1\" class=\"dataframe\">\n",
              "  <thead>\n",
              "    <tr style=\"text-align: right;\">\n",
              "      <th></th>\n",
              "      <th>Global_active_power</th>\n",
              "      <th>Global_reactive_power</th>\n",
              "      <th>Voltage</th>\n",
              "      <th>Global_intensity</th>\n",
              "      <th>Sub_metering_1</th>\n",
              "      <th>Sub_metering_2</th>\n",
              "      <th>Sub_metering_3</th>\n",
              "      <th>DateTime</th>\n",
              "    </tr>\n",
              "  </thead>\n",
              "  <tbody>\n",
              "    <tr>\n",
              "      <th>0</th>\n",
              "      <td>4.216</td>\n",
              "      <td>0.418</td>\n",
              "      <td>234.840</td>\n",
              "      <td>18.400</td>\n",
              "      <td>0.000</td>\n",
              "      <td>1.000</td>\n",
              "      <td>17.0</td>\n",
              "      <td>16/12/2006 17:24:00</td>\n",
              "    </tr>\n",
              "    <tr>\n",
              "      <th>1</th>\n",
              "      <td>5.360</td>\n",
              "      <td>0.436</td>\n",
              "      <td>233.630</td>\n",
              "      <td>23.000</td>\n",
              "      <td>0.000</td>\n",
              "      <td>1.000</td>\n",
              "      <td>16.0</td>\n",
              "      <td>16/12/2006 17:25:00</td>\n",
              "    </tr>\n",
              "    <tr>\n",
              "      <th>2</th>\n",
              "      <td>5.374</td>\n",
              "      <td>0.498</td>\n",
              "      <td>233.290</td>\n",
              "      <td>23.000</td>\n",
              "      <td>0.000</td>\n",
              "      <td>2.000</td>\n",
              "      <td>17.0</td>\n",
              "      <td>16/12/2006 17:26:00</td>\n",
              "    </tr>\n",
              "    <tr>\n",
              "      <th>3</th>\n",
              "      <td>5.388</td>\n",
              "      <td>0.502</td>\n",
              "      <td>233.740</td>\n",
              "      <td>23.000</td>\n",
              "      <td>0.000</td>\n",
              "      <td>1.000</td>\n",
              "      <td>17.0</td>\n",
              "      <td>16/12/2006 17:27:00</td>\n",
              "    </tr>\n",
              "    <tr>\n",
              "      <th>4</th>\n",
              "      <td>3.666</td>\n",
              "      <td>0.528</td>\n",
              "      <td>235.680</td>\n",
              "      <td>15.800</td>\n",
              "      <td>0.000</td>\n",
              "      <td>1.000</td>\n",
              "      <td>17.0</td>\n",
              "      <td>16/12/2006 17:28:00</td>\n",
              "    </tr>\n",
              "  </tbody>\n",
              "</table>\n",
              "</div>"
            ],
            "text/plain": [
              "  Global_active_power  ...             DateTime\n",
              "0               4.216  ...  16/12/2006 17:24:00\n",
              "1               5.360  ...  16/12/2006 17:25:00\n",
              "2               5.374  ...  16/12/2006 17:26:00\n",
              "3               5.388  ...  16/12/2006 17:27:00\n",
              "4               3.666  ...  16/12/2006 17:28:00\n",
              "\n",
              "[5 rows x 8 columns]"
            ]
          },
          "metadata": {
            "tags": []
          },
          "execution_count": 65
        }
      ]
    },
    {
      "cell_type": "code",
      "metadata": {
        "id": "qhM_D-dtKfwM",
        "outputId": "7814ebd7-973e-41fa-c4f1-334f98c9dbaa",
        "colab": {
          "base_uri": "https://localhost:8080/",
          "height": 197
        }
      },
      "source": [
        "df.tail()"
      ],
      "execution_count": 66,
      "outputs": [
        {
          "output_type": "execute_result",
          "data": {
            "text/html": [
              "<div>\n",
              "<style scoped>\n",
              "    .dataframe tbody tr th:only-of-type {\n",
              "        vertical-align: middle;\n",
              "    }\n",
              "\n",
              "    .dataframe tbody tr th {\n",
              "        vertical-align: top;\n",
              "    }\n",
              "\n",
              "    .dataframe thead th {\n",
              "        text-align: right;\n",
              "    }\n",
              "</style>\n",
              "<table border=\"1\" class=\"dataframe\">\n",
              "  <thead>\n",
              "    <tr style=\"text-align: right;\">\n",
              "      <th></th>\n",
              "      <th>Global_active_power</th>\n",
              "      <th>Global_reactive_power</th>\n",
              "      <th>Voltage</th>\n",
              "      <th>Global_intensity</th>\n",
              "      <th>Sub_metering_1</th>\n",
              "      <th>Sub_metering_2</th>\n",
              "      <th>Sub_metering_3</th>\n",
              "      <th>DateTime</th>\n",
              "    </tr>\n",
              "  </thead>\n",
              "  <tbody>\n",
              "    <tr>\n",
              "      <th>2075254</th>\n",
              "      <td>0.946</td>\n",
              "      <td>0</td>\n",
              "      <td>240.43</td>\n",
              "      <td>4</td>\n",
              "      <td>0</td>\n",
              "      <td>0</td>\n",
              "      <td>0.0</td>\n",
              "      <td>26/11/2010 20:58:00</td>\n",
              "    </tr>\n",
              "    <tr>\n",
              "      <th>2075255</th>\n",
              "      <td>0.944</td>\n",
              "      <td>0</td>\n",
              "      <td>240</td>\n",
              "      <td>4</td>\n",
              "      <td>0</td>\n",
              "      <td>0</td>\n",
              "      <td>0.0</td>\n",
              "      <td>26/11/2010 20:59:00</td>\n",
              "    </tr>\n",
              "    <tr>\n",
              "      <th>2075256</th>\n",
              "      <td>0.938</td>\n",
              "      <td>0</td>\n",
              "      <td>239.82</td>\n",
              "      <td>3.8</td>\n",
              "      <td>0</td>\n",
              "      <td>0</td>\n",
              "      <td>0.0</td>\n",
              "      <td>26/11/2010 21:00:00</td>\n",
              "    </tr>\n",
              "    <tr>\n",
              "      <th>2075257</th>\n",
              "      <td>0.934</td>\n",
              "      <td>0</td>\n",
              "      <td>239.7</td>\n",
              "      <td>3.8</td>\n",
              "      <td>0</td>\n",
              "      <td>0</td>\n",
              "      <td>0.0</td>\n",
              "      <td>26/11/2010 21:01:00</td>\n",
              "    </tr>\n",
              "    <tr>\n",
              "      <th>2075258</th>\n",
              "      <td>0.932</td>\n",
              "      <td>0</td>\n",
              "      <td>239.55</td>\n",
              "      <td>3.8</td>\n",
              "      <td>0</td>\n",
              "      <td>0</td>\n",
              "      <td>0.0</td>\n",
              "      <td>26/11/2010 21:02:00</td>\n",
              "    </tr>\n",
              "  </tbody>\n",
              "</table>\n",
              "</div>"
            ],
            "text/plain": [
              "        Global_active_power  ...             DateTime\n",
              "2075254               0.946  ...  26/11/2010 20:58:00\n",
              "2075255               0.944  ...  26/11/2010 20:59:00\n",
              "2075256               0.938  ...  26/11/2010 21:00:00\n",
              "2075257               0.934  ...  26/11/2010 21:01:00\n",
              "2075258               0.932  ...  26/11/2010 21:02:00\n",
              "\n",
              "[5 rows x 8 columns]"
            ]
          },
          "metadata": {
            "tags": []
          },
          "execution_count": 66
        }
      ]
    },
    {
      "cell_type": "markdown",
      "metadata": {
        "id": "2wFqdrZ1Kx8q"
      },
      "source": [
        "We save it as csv file first."
      ]
    },
    {
      "cell_type": "code",
      "metadata": {
        "id": "dzl51T7LK29A"
      },
      "source": [
        "df.to_csv('Clean_data.csv')"
      ],
      "execution_count": 67,
      "outputs": []
    },
    {
      "cell_type": "code",
      "metadata": {
        "id": "AlLFkUBhL9WR"
      },
      "source": [
        "data = pd.read_csv('Clean_data.csv',index_col='DateTime',parse_dates=True,low_memory=False,)"
      ],
      "execution_count": 86,
      "outputs": []
    },
    {
      "cell_type": "code",
      "metadata": {
        "id": "FAJHdRtoLCWm",
        "outputId": "b8b5ef40-1e5d-4af8-e279-9378b3578505",
        "colab": {
          "base_uri": "https://localhost:8080/",
          "height": 227
        }
      },
      "source": [
        "data.head()"
      ],
      "execution_count": 88,
      "outputs": [
        {
          "output_type": "execute_result",
          "data": {
            "text/html": [
              "<div>\n",
              "<style scoped>\n",
              "    .dataframe tbody tr th:only-of-type {\n",
              "        vertical-align: middle;\n",
              "    }\n",
              "\n",
              "    .dataframe tbody tr th {\n",
              "        vertical-align: top;\n",
              "    }\n",
              "\n",
              "    .dataframe thead th {\n",
              "        text-align: right;\n",
              "    }\n",
              "</style>\n",
              "<table border=\"1\" class=\"dataframe\">\n",
              "  <thead>\n",
              "    <tr style=\"text-align: right;\">\n",
              "      <th></th>\n",
              "      <th>Unnamed: 0</th>\n",
              "      <th>Global_active_power</th>\n",
              "      <th>Global_reactive_power</th>\n",
              "      <th>Voltage</th>\n",
              "      <th>Global_intensity</th>\n",
              "      <th>Sub_metering_1</th>\n",
              "      <th>Sub_metering_2</th>\n",
              "      <th>Sub_metering_3</th>\n",
              "    </tr>\n",
              "    <tr>\n",
              "      <th>DateTime</th>\n",
              "      <th></th>\n",
              "      <th></th>\n",
              "      <th></th>\n",
              "      <th></th>\n",
              "      <th></th>\n",
              "      <th></th>\n",
              "      <th></th>\n",
              "      <th></th>\n",
              "    </tr>\n",
              "  </thead>\n",
              "  <tbody>\n",
              "    <tr>\n",
              "      <th>2006-12-16 17:24:00</th>\n",
              "      <td>0</td>\n",
              "      <td>4.216</td>\n",
              "      <td>0.418</td>\n",
              "      <td>234.840</td>\n",
              "      <td>18.400</td>\n",
              "      <td>0.000</td>\n",
              "      <td>1.000</td>\n",
              "      <td>17.0</td>\n",
              "    </tr>\n",
              "    <tr>\n",
              "      <th>2006-12-16 17:25:00</th>\n",
              "      <td>1</td>\n",
              "      <td>5.360</td>\n",
              "      <td>0.436</td>\n",
              "      <td>233.630</td>\n",
              "      <td>23.000</td>\n",
              "      <td>0.000</td>\n",
              "      <td>1.000</td>\n",
              "      <td>16.0</td>\n",
              "    </tr>\n",
              "    <tr>\n",
              "      <th>2006-12-16 17:26:00</th>\n",
              "      <td>2</td>\n",
              "      <td>5.374</td>\n",
              "      <td>0.498</td>\n",
              "      <td>233.290</td>\n",
              "      <td>23.000</td>\n",
              "      <td>0.000</td>\n",
              "      <td>2.000</td>\n",
              "      <td>17.0</td>\n",
              "    </tr>\n",
              "    <tr>\n",
              "      <th>2006-12-16 17:27:00</th>\n",
              "      <td>3</td>\n",
              "      <td>5.388</td>\n",
              "      <td>0.502</td>\n",
              "      <td>233.740</td>\n",
              "      <td>23.000</td>\n",
              "      <td>0.000</td>\n",
              "      <td>1.000</td>\n",
              "      <td>17.0</td>\n",
              "    </tr>\n",
              "    <tr>\n",
              "      <th>2006-12-16 17:28:00</th>\n",
              "      <td>4</td>\n",
              "      <td>3.666</td>\n",
              "      <td>0.528</td>\n",
              "      <td>235.680</td>\n",
              "      <td>15.800</td>\n",
              "      <td>0.000</td>\n",
              "      <td>1.000</td>\n",
              "      <td>17.0</td>\n",
              "    </tr>\n",
              "  </tbody>\n",
              "</table>\n",
              "</div>"
            ],
            "text/plain": [
              "                     Unnamed: 0  ... Sub_metering_3\n",
              "DateTime                         ...               \n",
              "2006-12-16 17:24:00           0  ...           17.0\n",
              "2006-12-16 17:25:00           1  ...           16.0\n",
              "2006-12-16 17:26:00           2  ...           17.0\n",
              "2006-12-16 17:27:00           3  ...           17.0\n",
              "2006-12-16 17:28:00           4  ...           17.0\n",
              "\n",
              "[5 rows x 8 columns]"
            ]
          },
          "metadata": {
            "tags": []
          },
          "execution_count": 88
        }
      ]
    },
    {
      "cell_type": "code",
      "metadata": {
        "id": "49jV3fL-eWZR"
      },
      "source": [
        "del data['Unnamed: 0']"
      ],
      "execution_count": 89,
      "outputs": []
    },
    {
      "cell_type": "code",
      "metadata": {
        "id": "wW9e4uVJ-MMh"
      },
      "source": [
        "data.replace('?',np.nan,inplace=True)"
      ],
      "execution_count": 90,
      "outputs": []
    },
    {
      "cell_type": "code",
      "metadata": {
        "id": "-fPrICcY-MKO"
      },
      "source": [
        "data = data.astype('float')"
      ],
      "execution_count": 91,
      "outputs": []
    },
    {
      "cell_type": "code",
      "metadata": {
        "id": "NaMn30TF-MIv",
        "outputId": "cd7c8d2e-9102-46f1-dad7-f3fc71fa4841",
        "colab": {
          "base_uri": "https://localhost:8080/"
        }
      },
      "source": [
        "data.dtypes"
      ],
      "execution_count": 92,
      "outputs": [
        {
          "output_type": "execute_result",
          "data": {
            "text/plain": [
              "Global_active_power      float64\n",
              "Global_reactive_power    float64\n",
              "Voltage                  float64\n",
              "Global_intensity         float64\n",
              "Sub_metering_1           float64\n",
              "Sub_metering_2           float64\n",
              "Sub_metering_3           float64\n",
              "dtype: object"
            ]
          },
          "metadata": {
            "tags": []
          },
          "execution_count": 92
        }
      ]
    },
    {
      "cell_type": "code",
      "metadata": {
        "id": "-vsVNKsZ-MG2"
      },
      "source": [
        "data = data.fillna(method='ffill')"
      ],
      "execution_count": 93,
      "outputs": []
    },
    {
      "cell_type": "code",
      "metadata": {
        "id": "N6WTE5wi-MFJ",
        "outputId": "40524204-4606-4c08-eb09-46f93d329310",
        "colab": {
          "base_uri": "https://localhost:8080/"
        }
      },
      "source": [
        "data.isnull().sum()"
      ],
      "execution_count": 94,
      "outputs": [
        {
          "output_type": "execute_result",
          "data": {
            "text/plain": [
              "Global_active_power      0\n",
              "Global_reactive_power    0\n",
              "Voltage                  0\n",
              "Global_intensity         0\n",
              "Sub_metering_1           0\n",
              "Sub_metering_2           0\n",
              "Sub_metering_3           0\n",
              "dtype: int64"
            ]
          },
          "metadata": {
            "tags": []
          },
          "execution_count": 94
        }
      ]
    },
    {
      "cell_type": "code",
      "metadata": {
        "id": "_GmwyUC-HtpA",
        "outputId": "cc4ffff3-0ffb-4f8f-96e4-52244560577e",
        "colab": {
          "base_uri": "https://localhost:8080/",
          "height": 227
        }
      },
      "source": [
        "data.tail()"
      ],
      "execution_count": 95,
      "outputs": [
        {
          "output_type": "execute_result",
          "data": {
            "text/html": [
              "<div>\n",
              "<style scoped>\n",
              "    .dataframe tbody tr th:only-of-type {\n",
              "        vertical-align: middle;\n",
              "    }\n",
              "\n",
              "    .dataframe tbody tr th {\n",
              "        vertical-align: top;\n",
              "    }\n",
              "\n",
              "    .dataframe thead th {\n",
              "        text-align: right;\n",
              "    }\n",
              "</style>\n",
              "<table border=\"1\" class=\"dataframe\">\n",
              "  <thead>\n",
              "    <tr style=\"text-align: right;\">\n",
              "      <th></th>\n",
              "      <th>Global_active_power</th>\n",
              "      <th>Global_reactive_power</th>\n",
              "      <th>Voltage</th>\n",
              "      <th>Global_intensity</th>\n",
              "      <th>Sub_metering_1</th>\n",
              "      <th>Sub_metering_2</th>\n",
              "      <th>Sub_metering_3</th>\n",
              "    </tr>\n",
              "    <tr>\n",
              "      <th>DateTime</th>\n",
              "      <th></th>\n",
              "      <th></th>\n",
              "      <th></th>\n",
              "      <th></th>\n",
              "      <th></th>\n",
              "      <th></th>\n",
              "      <th></th>\n",
              "    </tr>\n",
              "  </thead>\n",
              "  <tbody>\n",
              "    <tr>\n",
              "      <th>2010-11-26 20:58:00</th>\n",
              "      <td>0.946</td>\n",
              "      <td>0.0</td>\n",
              "      <td>240.43</td>\n",
              "      <td>4.0</td>\n",
              "      <td>0.0</td>\n",
              "      <td>0.0</td>\n",
              "      <td>0.0</td>\n",
              "    </tr>\n",
              "    <tr>\n",
              "      <th>2010-11-26 20:59:00</th>\n",
              "      <td>0.944</td>\n",
              "      <td>0.0</td>\n",
              "      <td>240.00</td>\n",
              "      <td>4.0</td>\n",
              "      <td>0.0</td>\n",
              "      <td>0.0</td>\n",
              "      <td>0.0</td>\n",
              "    </tr>\n",
              "    <tr>\n",
              "      <th>2010-11-26 21:00:00</th>\n",
              "      <td>0.938</td>\n",
              "      <td>0.0</td>\n",
              "      <td>239.82</td>\n",
              "      <td>3.8</td>\n",
              "      <td>0.0</td>\n",
              "      <td>0.0</td>\n",
              "      <td>0.0</td>\n",
              "    </tr>\n",
              "    <tr>\n",
              "      <th>2010-11-26 21:01:00</th>\n",
              "      <td>0.934</td>\n",
              "      <td>0.0</td>\n",
              "      <td>239.70</td>\n",
              "      <td>3.8</td>\n",
              "      <td>0.0</td>\n",
              "      <td>0.0</td>\n",
              "      <td>0.0</td>\n",
              "    </tr>\n",
              "    <tr>\n",
              "      <th>2010-11-26 21:02:00</th>\n",
              "      <td>0.932</td>\n",
              "      <td>0.0</td>\n",
              "      <td>239.55</td>\n",
              "      <td>3.8</td>\n",
              "      <td>0.0</td>\n",
              "      <td>0.0</td>\n",
              "      <td>0.0</td>\n",
              "    </tr>\n",
              "  </tbody>\n",
              "</table>\n",
              "</div>"
            ],
            "text/plain": [
              "                     Global_active_power  ...  Sub_metering_3\n",
              "DateTime                                  ...                \n",
              "2010-11-26 20:58:00                0.946  ...             0.0\n",
              "2010-11-26 20:59:00                0.944  ...             0.0\n",
              "2010-11-26 21:00:00                0.938  ...             0.0\n",
              "2010-11-26 21:01:00                0.934  ...             0.0\n",
              "2010-11-26 21:02:00                0.932  ...             0.0\n",
              "\n",
              "[5 rows x 7 columns]"
            ]
          },
          "metadata": {
            "tags": []
          },
          "execution_count": 95
        }
      ]
    },
    {
      "cell_type": "markdown",
      "metadata": {
        "id": "CBRF8MwiIFS0"
      },
      "source": [
        "## Dataset Preparation."
      ]
    },
    {
      "cell_type": "code",
      "metadata": {
        "id": "_x87GeBtHt-8"
      },
      "source": [
        "datasets = data.resample('H').sum()"
      ],
      "execution_count": 96,
      "outputs": []
    },
    {
      "cell_type": "code",
      "metadata": {
        "id": "ucGFgco2HuF0",
        "outputId": "8b3d4fcc-d51d-4cea-c1e3-52be34a92f94",
        "colab": {
          "base_uri": "https://localhost:8080/",
          "height": 227
        }
      },
      "source": [
        "datasets.head()"
      ],
      "execution_count": 97,
      "outputs": [
        {
          "output_type": "execute_result",
          "data": {
            "text/html": [
              "<div>\n",
              "<style scoped>\n",
              "    .dataframe tbody tr th:only-of-type {\n",
              "        vertical-align: middle;\n",
              "    }\n",
              "\n",
              "    .dataframe tbody tr th {\n",
              "        vertical-align: top;\n",
              "    }\n",
              "\n",
              "    .dataframe thead th {\n",
              "        text-align: right;\n",
              "    }\n",
              "</style>\n",
              "<table border=\"1\" class=\"dataframe\">\n",
              "  <thead>\n",
              "    <tr style=\"text-align: right;\">\n",
              "      <th></th>\n",
              "      <th>Global_active_power</th>\n",
              "      <th>Global_reactive_power</th>\n",
              "      <th>Voltage</th>\n",
              "      <th>Global_intensity</th>\n",
              "      <th>Sub_metering_1</th>\n",
              "      <th>Sub_metering_2</th>\n",
              "      <th>Sub_metering_3</th>\n",
              "    </tr>\n",
              "    <tr>\n",
              "      <th>DateTime</th>\n",
              "      <th></th>\n",
              "      <th></th>\n",
              "      <th></th>\n",
              "      <th></th>\n",
              "      <th></th>\n",
              "      <th></th>\n",
              "      <th></th>\n",
              "    </tr>\n",
              "  </thead>\n",
              "  <tbody>\n",
              "    <tr>\n",
              "      <th>2006-12-16 17:00:00</th>\n",
              "      <td>152.024</td>\n",
              "      <td>8.244</td>\n",
              "      <td>8447.18</td>\n",
              "      <td>651.6</td>\n",
              "      <td>0.0</td>\n",
              "      <td>19.0</td>\n",
              "      <td>607.0</td>\n",
              "    </tr>\n",
              "    <tr>\n",
              "      <th>2006-12-16 18:00:00</th>\n",
              "      <td>217.932</td>\n",
              "      <td>4.802</td>\n",
              "      <td>14074.81</td>\n",
              "      <td>936.0</td>\n",
              "      <td>0.0</td>\n",
              "      <td>403.0</td>\n",
              "      <td>1012.0</td>\n",
              "    </tr>\n",
              "    <tr>\n",
              "      <th>2006-12-16 19:00:00</th>\n",
              "      <td>204.014</td>\n",
              "      <td>5.114</td>\n",
              "      <td>13993.95</td>\n",
              "      <td>870.2</td>\n",
              "      <td>0.0</td>\n",
              "      <td>86.0</td>\n",
              "      <td>1001.0</td>\n",
              "    </tr>\n",
              "    <tr>\n",
              "      <th>2006-12-16 20:00:00</th>\n",
              "      <td>196.114</td>\n",
              "      <td>4.506</td>\n",
              "      <td>14044.29</td>\n",
              "      <td>835.0</td>\n",
              "      <td>0.0</td>\n",
              "      <td>0.0</td>\n",
              "      <td>1007.0</td>\n",
              "    </tr>\n",
              "    <tr>\n",
              "      <th>2006-12-16 21:00:00</th>\n",
              "      <td>183.388</td>\n",
              "      <td>4.600</td>\n",
              "      <td>14229.52</td>\n",
              "      <td>782.8</td>\n",
              "      <td>0.0</td>\n",
              "      <td>25.0</td>\n",
              "      <td>1033.0</td>\n",
              "    </tr>\n",
              "  </tbody>\n",
              "</table>\n",
              "</div>"
            ],
            "text/plain": [
              "                     Global_active_power  ...  Sub_metering_3\n",
              "DateTime                                  ...                \n",
              "2006-12-16 17:00:00              152.024  ...           607.0\n",
              "2006-12-16 18:00:00              217.932  ...          1012.0\n",
              "2006-12-16 19:00:00              204.014  ...          1001.0\n",
              "2006-12-16 20:00:00              196.114  ...          1007.0\n",
              "2006-12-16 21:00:00              183.388  ...          1033.0\n",
              "\n",
              "[5 rows x 7 columns]"
            ]
          },
          "metadata": {
            "tags": []
          },
          "execution_count": 97
        }
      ]
    },
    {
      "cell_type": "code",
      "metadata": {
        "id": "B2e7T6UsPYwD",
        "outputId": "417c40e1-16b5-4d00-f845-e0bb237869b2",
        "colab": {
          "base_uri": "https://localhost:8080/",
          "height": 227
        }
      },
      "source": [
        "datasets.tail()"
      ],
      "execution_count": 98,
      "outputs": [
        {
          "output_type": "execute_result",
          "data": {
            "text/html": [
              "<div>\n",
              "<style scoped>\n",
              "    .dataframe tbody tr th:only-of-type {\n",
              "        vertical-align: middle;\n",
              "    }\n",
              "\n",
              "    .dataframe tbody tr th {\n",
              "        vertical-align: top;\n",
              "    }\n",
              "\n",
              "    .dataframe thead th {\n",
              "        text-align: right;\n",
              "    }\n",
              "</style>\n",
              "<table border=\"1\" class=\"dataframe\">\n",
              "  <thead>\n",
              "    <tr style=\"text-align: right;\">\n",
              "      <th></th>\n",
              "      <th>Global_active_power</th>\n",
              "      <th>Global_reactive_power</th>\n",
              "      <th>Voltage</th>\n",
              "      <th>Global_intensity</th>\n",
              "      <th>Sub_metering_1</th>\n",
              "      <th>Sub_metering_2</th>\n",
              "      <th>Sub_metering_3</th>\n",
              "    </tr>\n",
              "    <tr>\n",
              "      <th>DateTime</th>\n",
              "      <th></th>\n",
              "      <th></th>\n",
              "      <th></th>\n",
              "      <th></th>\n",
              "      <th></th>\n",
              "      <th></th>\n",
              "      <th></th>\n",
              "    </tr>\n",
              "  </thead>\n",
              "  <tbody>\n",
              "    <tr>\n",
              "      <th>2010-12-11 19:00:00</th>\n",
              "      <td>143.518</td>\n",
              "      <td>6.828</td>\n",
              "      <td>13931.03</td>\n",
              "      <td>620.2</td>\n",
              "      <td>21.0</td>\n",
              "      <td>0.0</td>\n",
              "      <td>788.0</td>\n",
              "    </tr>\n",
              "    <tr>\n",
              "      <th>2010-12-11 20:00:00</th>\n",
              "      <td>105.200</td>\n",
              "      <td>5.090</td>\n",
              "      <td>14040.45</td>\n",
              "      <td>450.0</td>\n",
              "      <td>483.0</td>\n",
              "      <td>66.0</td>\n",
              "      <td>604.0</td>\n",
              "    </tr>\n",
              "    <tr>\n",
              "      <th>2010-12-11 21:00:00</th>\n",
              "      <td>66.894</td>\n",
              "      <td>5.148</td>\n",
              "      <td>14192.62</td>\n",
              "      <td>284.8</td>\n",
              "      <td>513.0</td>\n",
              "      <td>27.0</td>\n",
              "      <td>0.0</td>\n",
              "    </tr>\n",
              "    <tr>\n",
              "      <th>2010-12-11 22:00:00</th>\n",
              "      <td>19.232</td>\n",
              "      <td>4.574</td>\n",
              "      <td>14408.44</td>\n",
              "      <td>82.4</td>\n",
              "      <td>0.0</td>\n",
              "      <td>0.0</td>\n",
              "      <td>0.0</td>\n",
              "    </tr>\n",
              "    <tr>\n",
              "      <th>2010-12-11 23:00:00</th>\n",
              "      <td>38.392</td>\n",
              "      <td>2.986</td>\n",
              "      <td>14602.29</td>\n",
              "      <td>156.4</td>\n",
              "      <td>0.0</td>\n",
              "      <td>0.0</td>\n",
              "      <td>0.0</td>\n",
              "    </tr>\n",
              "  </tbody>\n",
              "</table>\n",
              "</div>"
            ],
            "text/plain": [
              "                     Global_active_power  ...  Sub_metering_3\n",
              "DateTime                                  ...                \n",
              "2010-12-11 19:00:00              143.518  ...           788.0\n",
              "2010-12-11 20:00:00              105.200  ...           604.0\n",
              "2010-12-11 21:00:00               66.894  ...             0.0\n",
              "2010-12-11 22:00:00               19.232  ...             0.0\n",
              "2010-12-11 23:00:00               38.392  ...             0.0\n",
              "\n",
              "[5 rows x 7 columns]"
            ]
          },
          "metadata": {
            "tags": []
          },
          "execution_count": 98
        }
      ]
    },
    {
      "cell_type": "code",
      "metadata": {
        "id": "Misi_GTbPa9A",
        "outputId": "029052c5-2eee-4b2d-edd6-970daefcf7e1",
        "colab": {
          "base_uri": "https://localhost:8080/"
        }
      },
      "source": [
        "datasets.shape"
      ],
      "execution_count": 99,
      "outputs": [
        {
          "output_type": "execute_result",
          "data": {
            "text/plain": [
              "(34951, 7)"
            ]
          },
          "metadata": {
            "tags": []
          },
          "execution_count": 99
        }
      ]
    },
    {
      "cell_type": "markdown",
      "metadata": {
        "id": "vfKAXYEtNu1T"
      },
      "source": [
        "AS we we interseted in the Global_active_power"
      ]
    },
    {
      "cell_type": "code",
      "metadata": {
        "id": "yyMspZxoHuLM",
        "outputId": "90577bd6-add7-4fe0-d0a7-e594429a9350",
        "colab": {
          "base_uri": "https://localhost:8080/",
          "height": 683
        }
      },
      "source": [
        "data.plot(subplots=True)"
      ],
      "execution_count": 80,
      "outputs": [
        {
          "output_type": "execute_result",
          "data": {
            "text/plain": [
              "array([<matplotlib.axes._subplots.AxesSubplot object at 0x7f89ad48f470>,\n",
              "       <matplotlib.axes._subplots.AxesSubplot object at 0x7f89ad4afcc0>,\n",
              "       <matplotlib.axes._subplots.AxesSubplot object at 0x7f89c875fef0>,\n",
              "       <matplotlib.axes._subplots.AxesSubplot object at 0x7f89c871c160>,\n",
              "       <matplotlib.axes._subplots.AxesSubplot object at 0x7f89c86cd390>,\n",
              "       <matplotlib.axes._subplots.AxesSubplot object at 0x7f89c86ff518>,\n",
              "       <matplotlib.axes._subplots.AxesSubplot object at 0x7f89c86b2748>,\n",
              "       <matplotlib.axes._subplots.AxesSubplot object at 0x7f89c8665940>],\n",
              "      dtype=object)"
            ]
          },
          "metadata": {
            "tags": []
          },
          "execution_count": 80
        },
        {
          "output_type": "display_data",
          "data": {
            "image/png": "[encoded data removed]",
            "text/plain": [
              "<Figure size 720x648 with 8 Axes>"
            ]
          },
          "metadata": {
            "tags": [],
            "needs_background": "light"
          }
        }
      ]
    },
    {
      "cell_type": "code",
      "metadata": {
        "id": "UbzvpYb7OIwb",
        "outputId": "d979b687-3997-425e-ec78-6b010e9f1942",
        "colab": {
          "base_uri": "https://localhost:8080/"
        }
      },
      "source": [
        "datasets.info()"
      ],
      "execution_count": 100,
      "outputs": [
        {
          "output_type": "stream",
          "text": [
            "<class 'pandas.core.frame.DataFrame'>\n",
            "DatetimeIndex: 34951 entries, 2006-12-16 17:00:00 to 2010-12-11 23:00:00\n",
            "Freq: H\n",
            "Data columns (total 7 columns):\n",
            " #   Column                 Non-Null Count  Dtype  \n",
            "---  ------                 --------------  -----  \n",
            " 0   Global_active_power    34951 non-null  float64\n",
            " 1   Global_reactive_power  34951 non-null  float64\n",
            " 2   Voltage                34951 non-null  float64\n",
            " 3   Global_intensity       34951 non-null  float64\n",
            " 4   Sub_metering_1         34951 non-null  float64\n",
            " 5   Sub_metering_2         34951 non-null  float64\n",
            " 6   Sub_metering_3         34951 non-null  float64\n",
            "dtypes: float64(7)\n",
            "memory usage: 2.1 MB\n"
          ],
          "name": "stdout"
        }
      ]
    },
    {
      "cell_type": "code",
      "metadata": {
        "id": "ycgeiBRlHuVW",
        "outputId": "2ea370e3-7bc8-4670-b013-033be0610196",
        "colab": {
          "base_uri": "https://localhost:8080/",
          "height": 287
        }
      },
      "source": [
        "round(datasets.describe(),1)"
      ],
      "execution_count": 101,
      "outputs": [
        {
          "output_type": "execute_result",
          "data": {
            "text/html": [
              "<div>\n",
              "<style scoped>\n",
              "    .dataframe tbody tr th:only-of-type {\n",
              "        vertical-align: middle;\n",
              "    }\n",
              "\n",
              "    .dataframe tbody tr th {\n",
              "        vertical-align: top;\n",
              "    }\n",
              "\n",
              "    .dataframe thead th {\n",
              "        text-align: right;\n",
              "    }\n",
              "</style>\n",
              "<table border=\"1\" class=\"dataframe\">\n",
              "  <thead>\n",
              "    <tr style=\"text-align: right;\">\n",
              "      <th></th>\n",
              "      <th>Global_active_power</th>\n",
              "      <th>Global_reactive_power</th>\n",
              "      <th>Voltage</th>\n",
              "      <th>Global_intensity</th>\n",
              "      <th>Sub_metering_1</th>\n",
              "      <th>Sub_metering_2</th>\n",
              "      <th>Sub_metering_3</th>\n",
              "    </tr>\n",
              "  </thead>\n",
              "  <tbody>\n",
              "    <tr>\n",
              "      <th>count</th>\n",
              "      <td>34951.0</td>\n",
              "      <td>34951.0</td>\n",
              "      <td>34951.0</td>\n",
              "      <td>34951.0</td>\n",
              "      <td>34951.0</td>\n",
              "      <td>34951.0</td>\n",
              "      <td>34951.0</td>\n",
              "    </tr>\n",
              "    <tr>\n",
              "      <th>mean</th>\n",
              "      <td>64.5</td>\n",
              "      <td>7.3</td>\n",
              "      <td>14300.3</td>\n",
              "      <td>273.4</td>\n",
              "      <td>66.0</td>\n",
              "      <td>76.5</td>\n",
              "      <td>381.0</td>\n",
              "    </tr>\n",
              "    <tr>\n",
              "      <th>std</th>\n",
              "      <td>53.8</td>\n",
              "      <td>4.1</td>\n",
              "      <td>1476.1</td>\n",
              "      <td>225.3</td>\n",
              "      <td>210.1</td>\n",
              "      <td>248.9</td>\n",
              "      <td>440.1</td>\n",
              "    </tr>\n",
              "    <tr>\n",
              "      <th>min</th>\n",
              "      <td>0.0</td>\n",
              "      <td>0.0</td>\n",
              "      <td>0.0</td>\n",
              "      <td>0.0</td>\n",
              "      <td>0.0</td>\n",
              "      <td>0.0</td>\n",
              "      <td>0.0</td>\n",
              "    </tr>\n",
              "    <tr>\n",
              "      <th>25%</th>\n",
              "      <td>20.3</td>\n",
              "      <td>4.6</td>\n",
              "      <td>14347.2</td>\n",
              "      <td>89.4</td>\n",
              "      <td>0.0</td>\n",
              "      <td>0.0</td>\n",
              "      <td>39.0</td>\n",
              "    </tr>\n",
              "    <tr>\n",
              "      <th>50%</th>\n",
              "      <td>46.9</td>\n",
              "      <td>6.4</td>\n",
              "      <td>14456.9</td>\n",
              "      <td>200.4</td>\n",
              "      <td>0.0</td>\n",
              "      <td>19.0</td>\n",
              "      <td>98.0</td>\n",
              "    </tr>\n",
              "    <tr>\n",
              "      <th>75%</th>\n",
              "      <td>94.1</td>\n",
              "      <td>8.9</td>\n",
              "      <td>14560.4</td>\n",
              "      <td>393.0</td>\n",
              "      <td>0.0</td>\n",
              "      <td>39.0</td>\n",
              "      <td>833.0</td>\n",
              "    </tr>\n",
              "    <tr>\n",
              "      <th>max</th>\n",
              "      <td>393.6</td>\n",
              "      <td>46.5</td>\n",
              "      <td>15114.1</td>\n",
              "      <td>1703.0</td>\n",
              "      <td>2902.0</td>\n",
              "      <td>2786.0</td>\n",
              "      <td>1293.0</td>\n",
              "    </tr>\n",
              "  </tbody>\n",
              "</table>\n",
              "</div>"
            ],
            "text/plain": [
              "       Global_active_power  ...  Sub_metering_3\n",
              "count              34951.0  ...         34951.0\n",
              "mean                  64.5  ...           381.0\n",
              "std                   53.8  ...           440.1\n",
              "min                    0.0  ...             0.0\n",
              "25%                   20.3  ...            39.0\n",
              "50%                   46.9  ...            98.0\n",
              "75%                   94.1  ...           833.0\n",
              "max                  393.6  ...          1293.0\n",
              "\n",
              "[8 rows x 7 columns]"
            ]
          },
          "metadata": {
            "tags": []
          },
          "execution_count": 101
        }
      ]
    },
    {
      "cell_type": "markdown",
      "metadata": {
        "id": "Aaj05DS8OpAu"
      },
      "source": [
        "If we see in the Global power consumption the outliers are avalible."
      ]
    },
    {
      "cell_type": "code",
      "metadata": {
        "id": "XM3tcvvgHuTA",
        "outputId": "41d9c26b-187a-4b97-b497-f658db09f5a5",
        "colab": {
          "base_uri": "https://localhost:8080/",
          "height": 436
        }
      },
      "source": [
        "datasets.query('Global_active_power > 200')"
      ],
      "execution_count": 102,
      "outputs": [
        {
          "output_type": "execute_result",
          "data": {
            "text/html": [
              "<div>\n",
              "<style scoped>\n",
              "    .dataframe tbody tr th:only-of-type {\n",
              "        vertical-align: middle;\n",
              "    }\n",
              "\n",
              "    .dataframe tbody tr th {\n",
              "        vertical-align: top;\n",
              "    }\n",
              "\n",
              "    .dataframe thead th {\n",
              "        text-align: right;\n",
              "    }\n",
              "</style>\n",
              "<table border=\"1\" class=\"dataframe\">\n",
              "  <thead>\n",
              "    <tr style=\"text-align: right;\">\n",
              "      <th></th>\n",
              "      <th>Global_active_power</th>\n",
              "      <th>Global_reactive_power</th>\n",
              "      <th>Voltage</th>\n",
              "      <th>Global_intensity</th>\n",
              "      <th>Sub_metering_1</th>\n",
              "      <th>Sub_metering_2</th>\n",
              "      <th>Sub_metering_3</th>\n",
              "    </tr>\n",
              "    <tr>\n",
              "      <th>DateTime</th>\n",
              "      <th></th>\n",
              "      <th></th>\n",
              "      <th></th>\n",
              "      <th></th>\n",
              "      <th></th>\n",
              "      <th></th>\n",
              "      <th></th>\n",
              "    </tr>\n",
              "  </thead>\n",
              "  <tbody>\n",
              "    <tr>\n",
              "      <th>2006-12-16 18:00:00</th>\n",
              "      <td>217.932</td>\n",
              "      <td>4.802</td>\n",
              "      <td>14074.81</td>\n",
              "      <td>936.0</td>\n",
              "      <td>0.0</td>\n",
              "      <td>403.0</td>\n",
              "      <td>1012.0</td>\n",
              "    </tr>\n",
              "    <tr>\n",
              "      <th>2006-12-16 19:00:00</th>\n",
              "      <td>204.014</td>\n",
              "      <td>5.114</td>\n",
              "      <td>13993.95</td>\n",
              "      <td>870.2</td>\n",
              "      <td>0.0</td>\n",
              "      <td>86.0</td>\n",
              "      <td>1001.0</td>\n",
              "    </tr>\n",
              "    <tr>\n",
              "      <th>2006-12-17 01:00:00</th>\n",
              "      <td>200.964</td>\n",
              "      <td>8.216</td>\n",
              "      <td>14426.90</td>\n",
              "      <td>854.8</td>\n",
              "      <td>0.0</td>\n",
              "      <td>1514.0</td>\n",
              "      <td>0.0</td>\n",
              "    </tr>\n",
              "    <tr>\n",
              "      <th>2006-12-17 10:00:00</th>\n",
              "      <td>217.734</td>\n",
              "      <td>11.676</td>\n",
              "      <td>14126.46</td>\n",
              "      <td>932.0</td>\n",
              "      <td>533.0</td>\n",
              "      <td>1341.0</td>\n",
              "      <td>969.0</td>\n",
              "    </tr>\n",
              "    <tr>\n",
              "      <th>2006-12-17 17:00:00</th>\n",
              "      <td>204.406</td>\n",
              "      <td>9.998</td>\n",
              "      <td>14053.79</td>\n",
              "      <td>870.6</td>\n",
              "      <td>0.0</td>\n",
              "      <td>28.0</td>\n",
              "      <td>1009.0</td>\n",
              "    </tr>\n",
              "    <tr>\n",
              "      <th>...</th>\n",
              "      <td>...</td>\n",
              "      <td>...</td>\n",
              "      <td>...</td>\n",
              "      <td>...</td>\n",
              "      <td>...</td>\n",
              "      <td>...</td>\n",
              "      <td>...</td>\n",
              "    </tr>\n",
              "    <tr>\n",
              "      <th>2010-11-03 21:00:00</th>\n",
              "      <td>236.782</td>\n",
              "      <td>12.386</td>\n",
              "      <td>14303.87</td>\n",
              "      <td>1005.4</td>\n",
              "      <td>1061.0</td>\n",
              "      <td>0.0</td>\n",
              "      <td>1085.0</td>\n",
              "    </tr>\n",
              "    <tr>\n",
              "      <th>2010-11-04 20:00:00</th>\n",
              "      <td>228.968</td>\n",
              "      <td>6.492</td>\n",
              "      <td>14269.98</td>\n",
              "      <td>974.8</td>\n",
              "      <td>1716.0</td>\n",
              "      <td>13.0</td>\n",
              "      <td>681.0</td>\n",
              "    </tr>\n",
              "    <tr>\n",
              "      <th>2010-11-04 21:00:00</th>\n",
              "      <td>232.988</td>\n",
              "      <td>5.916</td>\n",
              "      <td>14191.49</td>\n",
              "      <td>1002.8</td>\n",
              "      <td>1781.0</td>\n",
              "      <td>0.0</td>\n",
              "      <td>641.0</td>\n",
              "    </tr>\n",
              "    <tr>\n",
              "      <th>2010-11-14 15:00:00</th>\n",
              "      <td>249.394</td>\n",
              "      <td>14.224</td>\n",
              "      <td>14093.25</td>\n",
              "      <td>1076.6</td>\n",
              "      <td>2451.0</td>\n",
              "      <td>0.0</td>\n",
              "      <td>481.0</td>\n",
              "    </tr>\n",
              "    <tr>\n",
              "      <th>2010-11-20 18:00:00</th>\n",
              "      <td>337.610</td>\n",
              "      <td>11.944</td>\n",
              "      <td>13830.86</td>\n",
              "      <td>1483.2</td>\n",
              "      <td>861.0</td>\n",
              "      <td>1789.0</td>\n",
              "      <td>980.0</td>\n",
              "    </tr>\n",
              "  </tbody>\n",
              "</table>\n",
              "<p>863 rows × 7 columns</p>\n",
              "</div>"
            ],
            "text/plain": [
              "                     Global_active_power  ...  Sub_metering_3\n",
              "DateTime                                  ...                \n",
              "2006-12-16 18:00:00              217.932  ...          1012.0\n",
              "2006-12-16 19:00:00              204.014  ...          1001.0\n",
              "2006-12-17 01:00:00              200.964  ...             0.0\n",
              "2006-12-17 10:00:00              217.734  ...           969.0\n",
              "2006-12-17 17:00:00              204.406  ...          1009.0\n",
              "...                                  ...  ...             ...\n",
              "2010-11-03 21:00:00              236.782  ...          1085.0\n",
              "2010-11-04 20:00:00              228.968  ...           681.0\n",
              "2010-11-04 21:00:00              232.988  ...           641.0\n",
              "2010-11-14 15:00:00              249.394  ...           481.0\n",
              "2010-11-20 18:00:00              337.610  ...           980.0\n",
              "\n",
              "[863 rows x 7 columns]"
            ]
          },
          "metadata": {
            "tags": []
          },
          "execution_count": 102
        }
      ]
    },
    {
      "cell_type": "code",
      "metadata": {
        "id": "9oGDo8sfHuRK",
        "outputId": "61ced7e6-47cb-478e-9264-cfa08e78dd63",
        "colab": {
          "base_uri": "https://localhost:8080/"
        }
      },
      "source": [
        "datasets.query('Global_active_power > 200').shape"
      ],
      "execution_count": 103,
      "outputs": [
        {
          "output_type": "execute_result",
          "data": {
            "text/plain": [
              "(863, 7)"
            ]
          },
          "metadata": {
            "tags": []
          },
          "execution_count": 103
        }
      ]
    },
    {
      "cell_type": "code",
      "metadata": {
        "id": "Re1Nr-ajHuJW",
        "outputId": "5833c104-c615-479f-f421-ead0c6c3a576",
        "colab": {
          "base_uri": "https://localhost:8080/",
          "height": 706
        }
      },
      "source": [
        "datasets.plot(subplots=True,figsize=(20,10))"
      ],
      "execution_count": 104,
      "outputs": [
        {
          "output_type": "execute_result",
          "data": {
            "text/plain": [
              "array([<matplotlib.axes._subplots.AxesSubplot object at 0x7f89a7a526a0>,\n",
              "       <matplotlib.axes._subplots.AxesSubplot object at 0x7f899e952b70>,\n",
              "       <matplotlib.axes._subplots.AxesSubplot object at 0x7f899e966b70>,\n",
              "       <matplotlib.axes._subplots.AxesSubplot object at 0x7f89a79f7b70>,\n",
              "       <matplotlib.axes._subplots.AxesSubplot object at 0x7f89a79a9b70>,\n",
              "       <matplotlib.axes._subplots.AxesSubplot object at 0x7f89a795cb70>,\n",
              "       <matplotlib.axes._subplots.AxesSubplot object at 0x7f89a798db70>],\n",
              "      dtype=object)"
            ]
          },
          "metadata": {
            "tags": []
          },
          "execution_count": 104
        },
        {
          "output_type": "display_data",
          "data": {
            "image/png": "[encoded data removed]",
            "text/plain": [
              "<Figure size 1440x720 with 7 Axes>"
            ]
          },
          "metadata": {
            "tags": [],
            "needs_background": "light"
          }
        }
      ]
    },
    {
      "cell_type": "markdown",
      "metadata": {
        "id": "exuOz6jPgMWJ"
      },
      "source": [
        "## Data Preparation."
      ]
    },
    {
      "cell_type": "code",
      "metadata": {
        "id": "f8-IUEP9Ht9j"
      },
      "source": [
        "from keras.preprocessing.sequence import TimeseriesGenerator"
      ],
      "execution_count": 282,
      "outputs": []
    },
    {
      "cell_type": "code",
      "metadata": {
        "id": "blyGvT7PHtnC"
      },
      "source": [
        "features = datasets\n",
        "target = dataset['Global_active_power']"
      ],
      "execution_count": 308,
      "outputs": []
    },
    {
      "cell_type": "code",
      "metadata": {
        "id": "8Qo4Ythdhl2x"
      },
      "source": [
        "X_train,X_test,Y_train,Y_test = train_test_split(features,target,test_size=0.3,random_state=42,shuffle=False)"
      ],
      "execution_count": 309,
      "outputs": []
    },
    {
      "cell_type": "code",
      "metadata": {
        "id": "YG1NFANTh-XL",
        "outputId": "575599d7-e813-4bef-90d2-583602768dbb",
        "colab": {
          "base_uri": "https://localhost:8080/"
        }
      },
      "source": [
        "X_train.shape,X_test.shape"
      ],
      "execution_count": 310,
      "outputs": [
        {
          "output_type": "execute_result",
          "data": {
            "text/plain": [
              "((24465, 7), (10486, 7))"
            ]
          },
          "metadata": {
            "tags": []
          },
          "execution_count": 310
        }
      ]
    },
    {
      "cell_type": "code",
      "metadata": {
        "id": "4AaTg4rwiBbs",
        "outputId": "be56800b-01eb-45f8-e2fc-356a0a4e3573",
        "colab": {
          "base_uri": "https://localhost:8080/"
        }
      },
      "source": [
        "  Y_train.shape,Y_test.shape"
      ],
      "execution_count": 311,
      "outputs": [
        {
          "output_type": "execute_result",
          "data": {
            "text/plain": [
              "((24465,), (10486,))"
            ]
          },
          "metadata": {
            "tags": []
          },
          "execution_count": 311
        }
      ]
    },
    {
      "cell_type": "markdown",
      "metadata": {
        "id": "lMnOgHaQg_s1"
      },
      "source": [
        "We have taken the data on hourly basis we are taking length of `one_day=24*1=24`"
      ]
    },
    {
      "cell_type": "markdown",
      "metadata": {
        "id": "uAdFsrESiNNm"
      },
      "source": [
        "- windows_length=24\n",
        "- batch_size=30\n",
        "- num_features =6"
      ]
    },
    {
      "cell_type": "code",
      "metadata": {
        "id": "_J0gYj-yimIy"
      },
      "source": [
        "xscaler = MinMaxScaler()\n",
        "X_train = xscaler.fit_transform(X_train)\n",
        "X_test = xscaler.fit_transform(X_test)"
      ],
      "execution_count": 312,
      "outputs": []
    },
    {
      "cell_type": "code",
      "metadata": {
        "id": "FblMwA-akhSs",
        "outputId": "2a14abf2-7ae0-4fe5-e968-21ce67b1b4f5",
        "colab": {
          "base_uri": "https://localhost:8080/"
        }
      },
      "source": [
        "X_train.shape,X_test.shape"
      ],
      "execution_count": 313,
      "outputs": [
        {
          "output_type": "execute_result",
          "data": {
            "text/plain": [
              "((24465, 7), (10486, 7))"
            ]
          },
          "metadata": {
            "tags": []
          },
          "execution_count": 313
        }
      ]
    },
    {
      "cell_type": "code",
      "metadata": {
        "id": "yIi1StizizOt"
      },
      "source": [
        "yscaler = MinMaxScaler()\n",
        "Y_train = yscaler.fit_transform(Y_train.to_numpy().reshape(-1,1))\n",
        "Y_test  = yscaler.fit_transform(Y_test.to_numpy().reshape(-1,1))"
      ],
      "execution_count": 314,
      "outputs": []
    },
    {
      "cell_type": "code",
      "metadata": {
        "id": "MAHKOXyxknun",
        "outputId": "45d802b8-7a5a-4817-a9cc-cd59c346d914",
        "colab": {
          "base_uri": "https://localhost:8080/"
        }
      },
      "source": [
        "Y_train.shape,Y_test.shape"
      ],
      "execution_count": 315,
      "outputs": [
        {
          "output_type": "execute_result",
          "data": {
            "text/plain": [
              "((24465, 1), (10486, 1))"
            ]
          },
          "metadata": {
            "tags": []
          },
          "execution_count": 315
        }
      ]
    },
    {
      "cell_type": "code",
      "metadata": {
        "id": "ANk5lJHcHtjh"
      },
      "source": [
        "win_length=24 #This is for day.\n",
        "batch_size=60\n",
        "num_features =7\n",
        "\n",
        "train_generator = TimeseriesGenerator(X_train,Y_train,length=win_length,sampling_rate=1,batch_size=batch_size)\n",
        "test_generator  = TimeseriesGenerator(X_test,Y_test,length=win_length,sampling_rate=1,batch_size=batch_size)"
      ],
      "execution_count": 316,
      "outputs": []
    },
    {
      "cell_type": "code",
      "metadata": {
        "id": "4AKESMK1Hte7"
      },
      "source": [
        "\n",
        "import keras\n",
        "model = Sequential()\n",
        "model.add(keras.layers.LSTM(200,return_sequences=True,input_shape=(win_length,num_features)))\n",
        "model.add(keras.layers.LeakyReLU(alpha=0.5))\n",
        "model.add(keras.layers.LSTM(128,return_sequences=True))\n",
        "model.add(keras.layers.LeakyReLU(alpha=0.5))\n",
        "model.add(keras.layers.Dropout(0.3))\n",
        "model.add(keras.layers.LSTM(128,return_sequences=False))\n",
        "model.add(keras.layers.Dropout(0.3))\n",
        "model.add(keras.layers.Dense(1))"
      ],
      "execution_count": 317,
      "outputs": []
    },
    {
      "cell_type": "code",
      "metadata": {
        "id": "42HxhW14HtdI",
        "outputId": "d0f65947-d2ec-4027-a44c-2ea0c2f4b25e",
        "colab": {
          "base_uri": "https://localhost:8080/"
        }
      },
      "source": [
        "model.summary()"
      ],
      "execution_count": 318,
      "outputs": [
        {
          "output_type": "stream",
          "text": [
            "Model: \"sequential_9\"\n",
            "_________________________________________________________________\n",
            "Layer (type)                 Output Shape              Param #   \n",
            "=================================================================\n",
            "lstm_19 (LSTM)               (None, 24, 200)           166400    \n",
            "_________________________________________________________________\n",
            "leaky_re_lu_10 (LeakyReLU)   (None, 24, 200)           0         \n",
            "_________________________________________________________________\n",
            "lstm_20 (LSTM)               (None, 24, 128)           168448    \n",
            "_________________________________________________________________\n",
            "leaky_re_lu_11 (LeakyReLU)   (None, 24, 128)           0         \n",
            "_________________________________________________________________\n",
            "dropout_14 (Dropout)         (None, 24, 128)           0         \n",
            "_________________________________________________________________\n",
            "lstm_21 (LSTM)               (None, 128)               131584    \n",
            "_________________________________________________________________\n",
            "dropout_15 (Dropout)         (None, 128)               0         \n",
            "_________________________________________________________________\n",
            "dense_9 (Dense)              (None, 1)                 129       \n",
            "=================================================================\n",
            "Total params: 466,561\n",
            "Trainable params: 466,561\n",
            "Non-trainable params: 0\n",
            "_________________________________________________________________\n"
          ],
          "name": "stdout"
        }
      ]
    },
    {
      "cell_type": "code",
      "metadata": {
        "id": "MnNX1GdgHtZW"
      },
      "source": [
        "early_stopping = keras.callbacks.EarlyStopping(monitor='val_loss',patience=1,mode='min')\n",
        "\n",
        "model.compile(optimizer='adam',loss='mse',metrics=['mae'])"
      ],
      "execution_count": 321,
      "outputs": []
    },
    {
      "cell_type": "code",
      "metadata": {
        "id": "lLSetJ2DDDir",
        "outputId": "e4645da0-2874-48a6-e5e3-b39cfbfa402b",
        "colab": {
          "base_uri": "https://localhost:8080/"
        }
      },
      "source": [
        "history=model.fit_generator(train_generator,epochs=50,validation_data=test_generator,shuffle=False,callbacks=[early_stopping])"
      ],
      "execution_count": 322,
      "outputs": [
        {
          "output_type": "stream",
          "text": [
            "Epoch 1/50\n",
            "408/408 [==============================] - 94s 230ms/step - loss: 0.0090 - mae: 0.0673 - val_loss: 0.0095 - val_mae: 0.0702\n",
            "Epoch 2/50\n",
            "408/408 [==============================] - 97s 237ms/step - loss: 0.0086 - mae: 0.0651 - val_loss: 0.0094 - val_mae: 0.0702\n",
            "Epoch 3/50\n",
            "408/408 [==============================] - 96s 236ms/step - loss: 0.0084 - mae: 0.0640 - val_loss: 0.0095 - val_mae: 0.0687\n"
          ],
          "name": "stdout"
        }
      ]
    },
    {
      "cell_type": "code",
      "metadata": {
        "id": "KdUEm0FEmsBw",
        "outputId": "f8bd1f9e-1611-4488-e2f3-d2558c7171d9",
        "colab": {
          "base_uri": "https://localhost:8080/"
        }
      },
      "source": [
        "model.evaluate_generator(test_generator,verbose=1)"
      ],
      "execution_count": 323,
      "outputs": [
        {
          "output_type": "stream",
          "text": [
            "175/175 [==============================] - 12s 67ms/step - loss: 0.0095 - mae: 0.0687\n"
          ],
          "name": "stdout"
        },
        {
          "output_type": "execute_result",
          "data": {
            "text/plain": [
              "[0.00953302439302206, 0.06872784346342087]"
            ]
          },
          "metadata": {
            "tags": []
          },
          "execution_count": 323
        }
      ]
    },
    {
      "cell_type": "code",
      "metadata": {
        "id": "UzrEXO7imr_g"
      },
      "source": [
        "predictions = model.predict_generator(test_generator)"
      ],
      "execution_count": 324,
      "outputs": []
    },
    {
      "cell_type": "code",
      "metadata": {
        "id": "BDxWoWf6mr8x",
        "outputId": "24b00b07-cb50-4902-b131-0dd0c8e6c1de",
        "colab": {
          "base_uri": "https://localhost:8080/"
        }
      },
      "source": [
        "predictions"
      ],
      "execution_count": 325,
      "outputs": [
        {
          "output_type": "execute_result",
          "data": {
            "text/plain": [
              "array([[0.03379559],\n",
              "       [0.06134725],\n",
              "       [0.10010566],\n",
              "       ...,\n",
              "       [0.15277934],\n",
              "       [0.09663937],\n",
              "       [0.04073189]], dtype=float32)"
            ]
          },
          "metadata": {
            "tags": []
          },
          "execution_count": 325
        }
      ]
    },
    {
      "cell_type": "code",
      "metadata": {
        "id": "0gujSf7W0c6k",
        "outputId": "ee86bbce-2b78-4268-be73-9c061d45733f",
        "colab": {
          "base_uri": "https://localhost:8080/"
        }
      },
      "source": [
        "predicted = predictions.reshape(-1,1)\n",
        "predicted"
      ],
      "execution_count": 326,
      "outputs": [
        {
          "output_type": "execute_result",
          "data": {
            "text/plain": [
              "array([[0.03379559],\n",
              "       [0.06134725],\n",
              "       [0.10010566],\n",
              "       ...,\n",
              "       [0.15277934],\n",
              "       [0.09663937],\n",
              "       [0.04073189]], dtype=float32)"
            ]
          },
          "metadata": {
            "tags": []
          },
          "execution_count": 326
        }
      ]
    },
    {
      "cell_type": "code",
      "metadata": {
        "id": "_OhOtah7mr4y",
        "outputId": "8cf63699-2a7b-41ed-de92-5ccd55d8d7cc",
        "colab": {
          "base_uri": "https://localhost:8080/"
        }
      },
      "source": [
        "predictions.shape"
      ],
      "execution_count": 327,
      "outputs": [
        {
          "output_type": "execute_result",
          "data": {
            "text/plain": [
              "(10462, 1)"
            ]
          },
          "metadata": {
            "tags": []
          },
          "execution_count": 327
        }
      ]
    },
    {
      "cell_type": "code",
      "metadata": {
        "id": "8o4vWmFk1Qs9",
        "outputId": "589892c2-1667-4c4f-d814-0f91b63fdc0f",
        "colab": {
          "base_uri": "https://localhost:8080/"
        }
      },
      "source": [
        "predicted.shape"
      ],
      "execution_count": 328,
      "outputs": [
        {
          "output_type": "execute_result",
          "data": {
            "text/plain": [
              "(10462, 1)"
            ]
          },
          "metadata": {
            "tags": []
          },
          "execution_count": 328
        }
      ]
    },
    {
      "cell_type": "code",
      "metadata": {
        "id": "FEMNsHlfqqKT",
        "outputId": "73f342ed-a03a-41d2-de34-968585dabc0d",
        "colab": {
          "base_uri": "https://localhost:8080/"
        }
      },
      "source": [
        "X_test"
      ],
      "execution_count": 329,
      "outputs": [
        {
          "output_type": "execute_result",
          "data": {
            "text/plain": [
              "array([[0.04889073, 0.08854954, 0.9907689 , ..., 0.        , 0.        ,\n",
              "        0.        ],\n",
              "       [0.0518942 , 0.1359742 , 0.98592707, ..., 0.        , 0.01403642,\n",
              "        0.        ],\n",
              "       [0.0490566 , 0.0977724 , 0.9763625 , ..., 0.        , 0.00986343,\n",
              "        0.        ],\n",
              "       ...,\n",
              "       [0.19813987, 0.12972483, 0.93903052, ..., 0.17818687, 0.01024279,\n",
              "        0.        ],\n",
              "       [0.05696514, 0.11526056, 0.95330989, ..., 0.        , 0.        ,\n",
              "        0.        ],\n",
              "       [0.11371701, 0.07524443, 0.96613564, ..., 0.        , 0.        ,\n",
              "        0.        ]])"
            ]
          },
          "metadata": {
            "tags": []
          },
          "execution_count": 329
        }
      ]
    },
    {
      "cell_type": "code",
      "metadata": {
        "id": "_bSWbCq7qqG7",
        "outputId": "e559f5ab-de1f-4e96-9d45-eaa30fee6b03",
        "colab": {
          "base_uri": "https://localhost:8080/"
        }
      },
      "source": [
        "X_test[:,1:][win_length:]"
      ],
      "execution_count": 330,
      "outputs": [
        {
          "output_type": "execute_result",
          "data": {
            "text/plain": [
              "array([[0.07942748, 0.97818861, 0.04557713, 0.        , 0.        ,\n",
              "        0.        ],\n",
              "       [0.13667977, 0.97440076, 0.05056634, 0.        , 0.01176024,\n",
              "        0.        ],\n",
              "       [0.09454692, 0.97518347, 0.04692557, 0.        , 0.00113809,\n",
              "        0.        ],\n",
              "       ...,\n",
              "       [0.12972483, 0.93903052, 0.19201726, 0.17818687, 0.01024279,\n",
              "        0.        ],\n",
              "       [0.11526056, 0.95330989, 0.05555556, 0.        , 0.        ,\n",
              "        0.        ],\n",
              "       [0.07524443, 0.96613564, 0.10544768, 0.        , 0.        ,\n",
              "        0.        ]])"
            ]
          },
          "metadata": {
            "tags": []
          },
          "execution_count": 330
        }
      ]
    },
    {
      "cell_type": "code",
      "metadata": {
        "id": "P0uxpi8usFCg",
        "outputId": "4a0e46a4-8f18-44ca-e205-3904546bd196",
        "colab": {
          "base_uri": "https://localhost:8080/"
        }
      },
      "source": [
        "X_test.shape"
      ],
      "execution_count": 331,
      "outputs": [
        {
          "output_type": "execute_result",
          "data": {
            "text/plain": [
              "(10486, 7)"
            ]
          },
          "metadata": {
            "tags": []
          },
          "execution_count": 331
        }
      ]
    },
    {
      "cell_type": "code",
      "metadata": {
        "id": "V5KbOR21qqEg"
      },
      "source": [
        "df_pred = pd.concat([pd.DataFrame(predicted),pd.DataFrame(X_test[:,1:][win_length:])],axis=1)"
      ],
      "execution_count": 333,
      "outputs": []
    },
    {
      "cell_type": "code",
      "metadata": {
        "id": "9BqU_fMaqqBC"
      },
      "source": [
        "df_pred.columns = ['Predicted','Col1','Col2','Col3','Col4','Col5','Col6']"
      ],
      "execution_count": 334,
      "outputs": []
    },
    {
      "cell_type": "code",
      "metadata": {
        "id": "g3w2JXCcqp-Q",
        "outputId": "4110f8d1-0c8a-4e9b-f35d-ac5799879493",
        "colab": {
          "base_uri": "https://localhost:8080/",
          "height": 406
        }
      },
      "source": [
        "df_pred"
      ],
      "execution_count": 336,
      "outputs": [
        {
          "output_type": "execute_result",
          "data": {
            "text/html": [
              "<div>\n",
              "<style scoped>\n",
              "    .dataframe tbody tr th:only-of-type {\n",
              "        vertical-align: middle;\n",
              "    }\n",
              "\n",
              "    .dataframe tbody tr th {\n",
              "        vertical-align: top;\n",
              "    }\n",
              "\n",
              "    .dataframe thead th {\n",
              "        text-align: right;\n",
              "    }\n",
              "</style>\n",
              "<table border=\"1\" class=\"dataframe\">\n",
              "  <thead>\n",
              "    <tr style=\"text-align: right;\">\n",
              "      <th></th>\n",
              "      <th>Predicted</th>\n",
              "      <th>Col1</th>\n",
              "      <th>Col2</th>\n",
              "      <th>Col3</th>\n",
              "      <th>Col4</th>\n",
              "      <th>Col5</th>\n",
              "      <th>Col6</th>\n",
              "    </tr>\n",
              "  </thead>\n",
              "  <tbody>\n",
              "    <tr>\n",
              "      <th>0</th>\n",
              "      <td>0.033796</td>\n",
              "      <td>0.079427</td>\n",
              "      <td>0.978189</td>\n",
              "      <td>0.045577</td>\n",
              "      <td>0.000000</td>\n",
              "      <td>0.000000</td>\n",
              "      <td>0.000000</td>\n",
              "    </tr>\n",
              "    <tr>\n",
              "      <th>1</th>\n",
              "      <td>0.061347</td>\n",
              "      <td>0.136680</td>\n",
              "      <td>0.974401</td>\n",
              "      <td>0.050566</td>\n",
              "      <td>0.000000</td>\n",
              "      <td>0.011760</td>\n",
              "      <td>0.000000</td>\n",
              "    </tr>\n",
              "    <tr>\n",
              "      <th>2</th>\n",
              "      <td>0.100106</td>\n",
              "      <td>0.094547</td>\n",
              "      <td>0.975183</td>\n",
              "      <td>0.046926</td>\n",
              "      <td>0.000000</td>\n",
              "      <td>0.001138</td>\n",
              "      <td>0.000000</td>\n",
              "    </tr>\n",
              "    <tr>\n",
              "      <th>3</th>\n",
              "      <td>0.141270</td>\n",
              "      <td>0.080839</td>\n",
              "      <td>0.972018</td>\n",
              "      <td>0.045982</td>\n",
              "      <td>0.000000</td>\n",
              "      <td>0.000000</td>\n",
              "      <td>0.000000</td>\n",
              "    </tr>\n",
              "    <tr>\n",
              "      <th>4</th>\n",
              "      <td>0.180392</td>\n",
              "      <td>0.167019</td>\n",
              "      <td>0.967045</td>\n",
              "      <td>0.133495</td>\n",
              "      <td>0.000000</td>\n",
              "      <td>0.011002</td>\n",
              "      <td>0.000000</td>\n",
              "    </tr>\n",
              "    <tr>\n",
              "      <th>...</th>\n",
              "      <td>...</td>\n",
              "      <td>...</td>\n",
              "      <td>...</td>\n",
              "      <td>...</td>\n",
              "      <td>...</td>\n",
              "      <td>...</td>\n",
              "      <td>...</td>\n",
              "    </tr>\n",
              "    <tr>\n",
              "      <th>10457</th>\n",
              "      <td>0.422202</td>\n",
              "      <td>0.172059</td>\n",
              "      <td>0.921723</td>\n",
              "      <td>0.418150</td>\n",
              "      <td>0.007294</td>\n",
              "      <td>0.000000</td>\n",
              "      <td>0.609435</td>\n",
              "    </tr>\n",
              "    <tr>\n",
              "      <th>10458</th>\n",
              "      <td>0.327019</td>\n",
              "      <td>0.128263</td>\n",
              "      <td>0.928962</td>\n",
              "      <td>0.303398</td>\n",
              "      <td>0.167767</td>\n",
              "      <td>0.025038</td>\n",
              "      <td>0.467131</td>\n",
              "    </tr>\n",
              "    <tr>\n",
              "      <th>10459</th>\n",
              "      <td>0.152779</td>\n",
              "      <td>0.129725</td>\n",
              "      <td>0.939031</td>\n",
              "      <td>0.192017</td>\n",
              "      <td>0.178187</td>\n",
              "      <td>0.010243</td>\n",
              "      <td>0.000000</td>\n",
              "    </tr>\n",
              "    <tr>\n",
              "      <th>10460</th>\n",
              "      <td>0.096639</td>\n",
              "      <td>0.115261</td>\n",
              "      <td>0.953310</td>\n",
              "      <td>0.055556</td>\n",
              "      <td>0.000000</td>\n",
              "      <td>0.000000</td>\n",
              "      <td>0.000000</td>\n",
              "    </tr>\n",
              "    <tr>\n",
              "      <th>10461</th>\n",
              "      <td>0.040732</td>\n",
              "      <td>0.075244</td>\n",
              "      <td>0.966136</td>\n",
              "      <td>0.105448</td>\n",
              "      <td>0.000000</td>\n",
              "      <td>0.000000</td>\n",
              "      <td>0.000000</td>\n",
              "    </tr>\n",
              "  </tbody>\n",
              "</table>\n",
              "<p>10462 rows × 7 columns</p>\n",
              "</div>"
            ],
            "text/plain": [
              "       Predicted      Col1      Col2      Col3      Col4      Col5      Col6\n",
              "0       0.033796  0.079427  0.978189  0.045577  0.000000  0.000000  0.000000\n",
              "1       0.061347  0.136680  0.974401  0.050566  0.000000  0.011760  0.000000\n",
              "2       0.100106  0.094547  0.975183  0.046926  0.000000  0.001138  0.000000\n",
              "3       0.141270  0.080839  0.972018  0.045982  0.000000  0.000000  0.000000\n",
              "4       0.180392  0.167019  0.967045  0.133495  0.000000  0.011002  0.000000\n",
              "...          ...       ...       ...       ...       ...       ...       ...\n",
              "10457   0.422202  0.172059  0.921723  0.418150  0.007294  0.000000  0.609435\n",
              "10458   0.327019  0.128263  0.928962  0.303398  0.167767  0.025038  0.467131\n",
              "10459   0.152779  0.129725  0.939031  0.192017  0.178187  0.010243  0.000000\n",
              "10460   0.096639  0.115261  0.953310  0.055556  0.000000  0.000000  0.000000\n",
              "10461   0.040732  0.075244  0.966136  0.105448  0.000000  0.000000  0.000000\n",
              "\n",
              "[10462 rows x 7 columns]"
            ]
          },
          "metadata": {
            "tags": []
          },
          "execution_count": 336
        }
      ]
    },
    {
      "cell_type": "code",
      "metadata": {
        "id": "SzpuPLM8qp8A"
      },
      "source": [
        "df_final = datasets[predictions.shape[0]*-1:]"
      ],
      "execution_count": 342,
      "outputs": []
    },
    {
      "cell_type": "code",
      "metadata": {
        "id": "5sXV8sulqp5Z",
        "outputId": "16e42d26-cb2a-414a-9a23-f29a0aeeed0c",
        "colab": {
          "base_uri": "https://localhost:8080/"
        }
      },
      "source": [
        "df_final.count()"
      ],
      "execution_count": 343,
      "outputs": [
        {
          "output_type": "execute_result",
          "data": {
            "text/plain": [
              "Global_active_power      10462\n",
              "Global_reactive_power    10462\n",
              "Voltage                  10462\n",
              "Global_intensity         10462\n",
              "Sub_metering_1           10462\n",
              "Sub_metering_2           10462\n",
              "Sub_metering_3           10462\n",
              "dtype: int64"
            ]
          },
          "metadata": {
            "tags": []
          },
          "execution_count": 343
        }
      ]
    },
    {
      "cell_type": "code",
      "metadata": {
        "id": "szUFDPOy2IhG"
      },
      "source": [
        "predicted = yscaler.inverse_transform(df_pred['Predicted'].to_numpy().reshape(-1,1))"
      ],
      "execution_count": 344,
      "outputs": []
    },
    {
      "cell_type": "code",
      "metadata": {
        "id": "nKebITtFqp0F",
        "outputId": "1714b9ef-6830-41c9-f8ee-009073da8210",
        "colab": {
          "base_uri": "https://localhost:8080/"
        }
      },
      "source": [
        "df_final['Predicted'] = predicted"
      ],
      "execution_count": 345,
      "outputs": [
        {
          "output_type": "stream",
          "text": [
            "/usr/local/lib/python3.6/dist-packages/ipykernel_launcher.py:1: SettingWithCopyWarning: \n",
            "A value is trying to be set on a copy of a slice from a DataFrame.\n",
            "Try using .loc[row_indexer,col_indexer] = value instead\n",
            "\n",
            "See the caveats in the documentation: https://pandas.pydata.org/pandas-docs/stable/user_guide/indexing.html#returning-a-view-versus-a-copy\n",
            "  \"\"\"Entry point for launching an IPython kernel.\n"
          ],
          "name": "stderr"
        }
      ]
    },
    {
      "cell_type": "code",
      "metadata": {
        "id": "Nscf_b_aqpxc",
        "outputId": "9fd65871-def4-4577-976c-f9d725bbee94",
        "colab": {
          "base_uri": "https://localhost:8080/",
          "height": 437
        }
      },
      "source": [
        "df_final[:12]"
      ],
      "execution_count": 346,
      "outputs": [
        {
          "output_type": "execute_result",
          "data": {
            "text/html": [
              "<div>\n",
              "<style scoped>\n",
              "    .dataframe tbody tr th:only-of-type {\n",
              "        vertical-align: middle;\n",
              "    }\n",
              "\n",
              "    .dataframe tbody tr th {\n",
              "        vertical-align: top;\n",
              "    }\n",
              "\n",
              "    .dataframe thead th {\n",
              "        text-align: right;\n",
              "    }\n",
              "</style>\n",
              "<table border=\"1\" class=\"dataframe\">\n",
              "  <thead>\n",
              "    <tr style=\"text-align: right;\">\n",
              "      <th></th>\n",
              "      <th>Global_active_power</th>\n",
              "      <th>Global_reactive_power</th>\n",
              "      <th>Voltage</th>\n",
              "      <th>Global_intensity</th>\n",
              "      <th>Sub_metering_1</th>\n",
              "      <th>Sub_metering_2</th>\n",
              "      <th>Sub_metering_3</th>\n",
              "      <th>Predicted</th>\n",
              "    </tr>\n",
              "    <tr>\n",
              "      <th>DateTime</th>\n",
              "      <th></th>\n",
              "      <th></th>\n",
              "      <th></th>\n",
              "      <th></th>\n",
              "      <th></th>\n",
              "      <th></th>\n",
              "      <th></th>\n",
              "      <th></th>\n",
              "    </tr>\n",
              "  </thead>\n",
              "  <tbody>\n",
              "    <tr>\n",
              "      <th>2009-10-02 02:00:00</th>\n",
              "      <td>16.174</td>\n",
              "      <td>3.152</td>\n",
              "      <td>14784.46</td>\n",
              "      <td>67.6</td>\n",
              "      <td>0.0</td>\n",
              "      <td>0.0</td>\n",
              "      <td>0.0</td>\n",
              "      <td>11.409728</td>\n",
              "    </tr>\n",
              "    <tr>\n",
              "      <th>2009-10-02 03:00:00</th>\n",
              "      <td>18.000</td>\n",
              "      <td>5.424</td>\n",
              "      <td>14727.21</td>\n",
              "      <td>75.0</td>\n",
              "      <td>0.0</td>\n",
              "      <td>31.0</td>\n",
              "      <td>0.0</td>\n",
              "      <td>20.711447</td>\n",
              "    </tr>\n",
              "    <tr>\n",
              "      <th>2009-10-02 04:00:00</th>\n",
              "      <td>16.668</td>\n",
              "      <td>3.752</td>\n",
              "      <td>14739.04</td>\n",
              "      <td>69.6</td>\n",
              "      <td>0.0</td>\n",
              "      <td>3.0</td>\n",
              "      <td>0.0</td>\n",
              "      <td>33.796673</td>\n",
              "    </tr>\n",
              "    <tr>\n",
              "      <th>2009-10-02 05:00:00</th>\n",
              "      <td>16.362</td>\n",
              "      <td>3.208</td>\n",
              "      <td>14691.19</td>\n",
              "      <td>68.2</td>\n",
              "      <td>0.0</td>\n",
              "      <td>0.0</td>\n",
              "      <td>0.0</td>\n",
              "      <td>47.694279</td>\n",
              "    </tr>\n",
              "    <tr>\n",
              "      <th>2009-10-02 06:00:00</th>\n",
              "      <td>45.858</td>\n",
              "      <td>6.628</td>\n",
              "      <td>14616.03</td>\n",
              "      <td>198.0</td>\n",
              "      <td>0.0</td>\n",
              "      <td>29.0</td>\n",
              "      <td>0.0</td>\n",
              "      <td>60.902283</td>\n",
              "    </tr>\n",
              "    <tr>\n",
              "      <th>2009-10-02 07:00:00</th>\n",
              "      <td>144.990</td>\n",
              "      <td>4.472</td>\n",
              "      <td>14335.29</td>\n",
              "      <td>604.6</td>\n",
              "      <td>0.0</td>\n",
              "      <td>5.0</td>\n",
              "      <td>926.0</td>\n",
              "      <td>97.031342</td>\n",
              "    </tr>\n",
              "    <tr>\n",
              "      <th>2009-10-02 08:00:00</th>\n",
              "      <td>109.040</td>\n",
              "      <td>3.918</td>\n",
              "      <td>14378.31</td>\n",
              "      <td>462.6</td>\n",
              "      <td>0.0</td>\n",
              "      <td>0.0</td>\n",
              "      <td>1058.0</td>\n",
              "      <td>124.313202</td>\n",
              "    </tr>\n",
              "    <tr>\n",
              "      <th>2009-10-02 09:00:00</th>\n",
              "      <td>106.738</td>\n",
              "      <td>8.382</td>\n",
              "      <td>14557.24</td>\n",
              "      <td>449.2</td>\n",
              "      <td>0.0</td>\n",
              "      <td>24.0</td>\n",
              "      <td>1083.0</td>\n",
              "      <td>86.123451</td>\n",
              "    </tr>\n",
              "    <tr>\n",
              "      <th>2009-10-02 10:00:00</th>\n",
              "      <td>103.398</td>\n",
              "      <td>8.818</td>\n",
              "      <td>14501.54</td>\n",
              "      <td>428.6</td>\n",
              "      <td>0.0</td>\n",
              "      <td>8.0</td>\n",
              "      <td>1075.0</td>\n",
              "      <td>94.712349</td>\n",
              "    </tr>\n",
              "    <tr>\n",
              "      <th>2009-10-02 11:00:00</th>\n",
              "      <td>80.958</td>\n",
              "      <td>3.200</td>\n",
              "      <td>14508.14</td>\n",
              "      <td>330.0</td>\n",
              "      <td>0.0</td>\n",
              "      <td>0.0</td>\n",
              "      <td>1076.0</td>\n",
              "      <td>92.475494</td>\n",
              "    </tr>\n",
              "    <tr>\n",
              "      <th>2009-10-02 12:00:00</th>\n",
              "      <td>94.518</td>\n",
              "      <td>6.206</td>\n",
              "      <td>14548.50</td>\n",
              "      <td>388.0</td>\n",
              "      <td>0.0</td>\n",
              "      <td>22.0</td>\n",
              "      <td>1082.0</td>\n",
              "      <td>73.953651</td>\n",
              "    </tr>\n",
              "    <tr>\n",
              "      <th>2009-10-02 13:00:00</th>\n",
              "      <td>113.724</td>\n",
              "      <td>6.480</td>\n",
              "      <td>14549.52</td>\n",
              "      <td>470.4</td>\n",
              "      <td>0.0</td>\n",
              "      <td>11.0</td>\n",
              "      <td>1082.0</td>\n",
              "      <td>86.203026</td>\n",
              "    </tr>\n",
              "  </tbody>\n",
              "</table>\n",
              "</div>"
            ],
            "text/plain": [
              "                     Global_active_power  ...   Predicted\n",
              "DateTime                                  ...            \n",
              "2009-10-02 02:00:00               16.174  ...   11.409728\n",
              "2009-10-02 03:00:00               18.000  ...   20.711447\n",
              "2009-10-02 04:00:00               16.668  ...   33.796673\n",
              "2009-10-02 05:00:00               16.362  ...   47.694279\n",
              "2009-10-02 06:00:00               45.858  ...   60.902283\n",
              "2009-10-02 07:00:00              144.990  ...   97.031342\n",
              "2009-10-02 08:00:00              109.040  ...  124.313202\n",
              "2009-10-02 09:00:00              106.738  ...   86.123451\n",
              "2009-10-02 10:00:00              103.398  ...   94.712349\n",
              "2009-10-02 11:00:00               80.958  ...   92.475494\n",
              "2009-10-02 12:00:00               94.518  ...   73.953651\n",
              "2009-10-02 13:00:00              113.724  ...   86.203026\n",
              "\n",
              "[12 rows x 8 columns]"
            ]
          },
          "metadata": {
            "tags": []
          },
          "execution_count": 346
        }
      ]
    },
    {
      "cell_type": "code",
      "metadata": {
        "id": "mJQ4yrjp4tV-",
        "outputId": "b05afe41-b6eb-4d0f-c965-b7d07b99576a",
        "colab": {
          "base_uri": "https://localhost:8080/",
          "height": 564
        }
      },
      "source": [
        "df_final[['Global_active_power','Predicted']].plot(figsize=(25,9))"
      ],
      "execution_count": 347,
      "outputs": [
        {
          "output_type": "execute_result",
          "data": {
            "text/plain": [
              "<matplotlib.axes._subplots.AxesSubplot at 0x7f898ee303c8>"
            ]
          },
          "metadata": {
            "tags": []
          },
          "execution_count": 347
        },
        {
          "output_type": "display_data",
          "data": {
            "image/png": "[encoded data removed]",
            "text/plain": [
              "<Figure size 1800x648 with 1 Axes>"
            ]
          },
          "metadata": {
            "tags": [],
            "needs_background": "light"
          }
        }
      ]
    },
    {
      "cell_type": "code",
      "metadata": {
        "id": "-zR0-gR-5h4o",
        "outputId": "97488f88-09dd-4885-b344-2605095dbfcc",
        "colab": {
          "base_uri": "https://localhost:8080/"
        }
      },
      "source": [
        "history.history"
      ],
      "execution_count": 348,
      "outputs": [
        {
          "output_type": "execute_result",
          "data": {
            "text/plain": [
              "{'loss': [0.009017813950777054, 0.008621370419859886, 0.008360536769032478],\n",
              " 'mae': [0.06727547198534012, 0.0651409700512886, 0.06396457552909851],\n",
              " 'val_loss': [0.009489242918789387, 0.00942147709429264, 0.00953302439302206],\n",
              " 'val_mae': [0.07019571214914322, 0.07019902020692825, 0.06872784346342087]}"
            ]
          },
          "metadata": {
            "tags": []
          },
          "execution_count": 348
        }
      ]
    },
    {
      "cell_type": "code",
      "metadata": {
        "id": "ni9glrOj5kSU",
        "outputId": "5ab80acf-2e16-4315-fb64-dbe669f8ee46",
        "colab": {
          "base_uri": "https://localhost:8080/",
          "height": 566
        }
      },
      "source": [
        "import matplotlib.pyplot as plt\n",
        "plt.plot(history.history['loss'])\n",
        "plt.plot(history.history['val_loss'])\n",
        "plt.xlabel('epoches')\n",
        "plt.ylabel('loss')\n",
        "plt.legend(['Training Loss','Validation Loss'])\n",
        "plt.title('Plot of looses')\n",
        "plt.show()"
      ],
      "execution_count": 349,
      "outputs": [
        {
          "output_type": "display_data",
          "data": {
            "image/png": "[encoded data removed]",
            "text/plain": [
              "<Figure size 720x648 with 1 Axes>"
            ]
          },
          "metadata": {
            "tags": [],
            "needs_background": "light"
          }
        }
      ]
    },
    {
      "cell_type": "code",
      "metadata": {
        "id": "LjoCXQa56W-f",
        "outputId": "2fa385ef-bf67-407a-f4bf-dd1363311e9f",
        "colab": {
          "base_uri": "https://localhost:8080/",
          "height": 566
        }
      },
      "source": [
        "import matplotlib.pyplot as plt\n",
        "plt.plot(history.history['mae'])\n",
        "plt.plot(history.history['val_mae'])\n",
        "plt.xlabel('epoches')\n",
        "plt.ylabel('MAE')\n",
        "plt.legend(['Training MAE','Validation MAE'])\n",
        "plt.title('Plot of looses')\n",
        "plt.show()"
      ],
      "execution_count": 350,
      "outputs": [
        {
          "output_type": "display_data",
          "data": {
            "image/png": "[encoded data removed]",
            "text/plain": [
              "<Figure size 720x648 with 1 Axes>"
            ]
          },
          "metadata": {
            "tags": [],
            "needs_background": "light"
          }
        }
      ]
    }
  ]
}